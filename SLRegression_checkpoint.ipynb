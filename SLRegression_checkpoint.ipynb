{
  "cells": [
    {
      "cell_type": "markdown",
      "metadata": {
        "id": "view-in-github",
        "colab_type": "text"
      },
      "source": [
        "<a href=\"https://colab.research.google.com/github/gr8nd/Machine-Learning-one-step-away-to-AI/blob/main/SLRegression_checkpoint.ipynb\" target=\"_parent\"><img src=\"https://colab.research.google.com/assets/colab-badge.svg\" alt=\"Open In Colab\"/></a>"
      ]
    },
    {
      "cell_type": "code",
      "execution_count": null,
      "id": "0bc6a4da-8d1f-400a-b32c-29774d049811",
      "metadata": {
        "id": "0bc6a4da-8d1f-400a-b32c-29774d049811"
      },
      "outputs": [],
      "source": [
        "\"\"\"@author Okorie Ndubuisi February 2025\"\"\"\n",
        "import numpy as np\n",
        "import matplotlib.pyplot as plt\n",
        "import seaborn as sns\n",
        "sns.set()"
      ]
    },
    {
      "cell_type": "code",
      "execution_count": null,
      "id": "590d8bc4-50b6-45fd-b1f4-7ccda29dae3c",
      "metadata": {
        "id": "590d8bc4-50b6-45fd-b1f4-7ccda29dae3c"
      },
      "outputs": [],
      "source": [
        "class SLRegression:\n",
        "    def __init__(self):\n",
        "        pass\n",
        "    def compute_cost(self, X, y, w, b):\n",
        "        m = X.shape[0]\n",
        "        f_wb = w * X + b\n",
        "        cost = np.sum((f_wb - y)**2)\n",
        "        cost = cost / (2 * m)\n",
        "        return cost\n",
        "\n",
        "    def compute_gradient(self, X, y, w, b):\n",
        "        m = X.shape[0]\n",
        "        f_wb = w * X + b\n",
        "        error = f_wb - y\n",
        "        s = error * X\n",
        "        gradient_w = np.sum(s) / m\n",
        "        gradient_b = np.sum(error) / m\n",
        "        return gradient_w, gradient_b\n",
        "\n",
        "    def compute_gradient_descent(self, X, y, init_w, init_b, learning_rate, num_iter):\n",
        "        m = X.shape\n",
        "        w_history = []\n",
        "        b_history = []\n",
        "        cost_history = []\n",
        "        w = init_w\n",
        "        b = init_b\n",
        "        cost = 0\n",
        "        for i in range(num_iter):\n",
        "            gradient_w, gradient_b = self.compute_gradient(X, y, w, b)\n",
        "            w = w - learning_rate * gradient_w\n",
        "            b = b - learning_rate * gradient_b\n",
        "            if i %  10000 == 0:\n",
        "                cost = self.compute_cost(X, y, w, b)\n",
        "                cost_history.append(cost)\n",
        "                b_history.append(b)\n",
        "                w_history.append(w)\n",
        "            if w - alpha * gradient_w == w:\n",
        "                cost = self.compute_cost(X, y, w, b)\n",
        "                w = np.round(w, 6)\n",
        "                b = np.round(b, 6)\n",
        "                cost = np.round(cost, 6)\n",
        "                break\n",
        "        return w, b, cost\n",
        "\n",
        "    def predict(self, X, w, b):\n",
        "        f_wb = w * X + b\n",
        "        return f_wb\n",
        ""
      ]
    },
    {
      "cell_type": "code",
      "execution_count": null,
      "id": "0fe6a0e2-7d08-4258-872a-f5bfe9e3fdbb",
      "metadata": {
        "id": "0fe6a0e2-7d08-4258-872a-f5bfe9e3fdbb"
      },
      "outputs": [],
      "source": [
        "f = lambda x: 2 + 3*x #Population regression line for our model test"
      ]
    },
    {
      "cell_type": "code",
      "execution_count": null,
      "id": "cf1f88a8-9884-449d-a5d6-072c901defd9",
      "metadata": {
        "id": "cf1f88a8-9884-449d-a5d6-072c901defd9"
      },
      "outputs": [],
      "source": [
        "np.random.seed(42)\n",
        "X = np.random.randint(1, 100, 100)\n",
        "Y = f(X)"
      ]
    },
    {
      "cell_type": "code",
      "execution_count": null,
      "id": "566dc71d-031b-4e08-b324-143a25c7e4e4",
      "metadata": {
        "id": "566dc71d-031b-4e08-b324-143a25c7e4e4",
        "outputId": "055d61b6-a10e-4d6f-edf5-8aa7ea9f6335"
      },
      "outputs": [
        {
          "data": {
            "text/plain": [
              "(3.0, 2.0, 0.0)"
            ]
          },
          "execution_count": 6,
          "metadata": {},
          "output_type": "execute_result"
        }
      ],
      "source": [
        "model = SLRegression()\n",
        "init_w = 0\n",
        "init_b = 5\n",
        "alpha = 1.0e-4 #learning rate\n",
        "num_iter = 1000000\n",
        "w, b, cost = model.compute_gradient_descent(X, Y, init_w, init_b, alpha, num_iter)\n",
        "w, b, cost"
      ]
    },
    {
      "cell_type": "code",
      "execution_count": null,
      "id": "5e1599fa-fd33-4bc8-b642-e6ec53aa7101",
      "metadata": {
        "id": "5e1599fa-fd33-4bc8-b642-e6ec53aa7101",
        "outputId": "e7f41398-df81-47f4-cb69-f547d38c7e8d"
      },
      "outputs": [
        {
          "data": {
            "image/png": "[encoded data removed]",
            "text/plain": [
              "<Figure size 640x480 with 1 Axes>"
            ]
          },
          "metadata": {},
          "output_type": "display_data"
        }
      ],
      "source": [
        "X_test = np.random.random( 100)\n",
        "Y_true = f(X_test)\n",
        "predictions = model.predict(X_test, w, b)\n",
        "plt.plot(X_test, Y_true);\n",
        "plt.plot(X_test, predictions);"
      ]
    },
    {
      "cell_type": "code",
      "execution_count": null,
      "id": "40bec0ea-6fee-4c93-a9d4-1efdebc89444",
      "metadata": {
        "id": "40bec0ea-6fee-4c93-a9d4-1efdebc89444"
      },
      "outputs": [],
      "source": []
    }
  ],
  "metadata": {
    "kernelspec": {
      "display_name": "Python 3 (ipykernel)",
      "language": "python",
      "name": "python3"
    },
    "language_info": {
      "codemirror_mode": {
        "name": "ipython",
        "version": 3
      },
      "file_extension": ".py",
      "mimetype": "text/x-python",
      "name": "python",
      "nbconvert_exporter": "python",
      "pygments_lexer": "ipython3",
      "version": "3.11.7"
    },
    "colab": {
      "provenance": [],
      "include_colab_link": true
    }
  },
  "nbformat": 4,
  "nbformat_minor": 5
}