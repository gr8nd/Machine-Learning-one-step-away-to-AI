{
 "cells": [
  {
   "cell_type": "code",
   "execution_count": 164,
   "id": "cf8a37fc",
   "metadata": {},
   "outputs": [],
   "source": [
    "import numpy as np\n",
    "import matplotlib.pyplot as plt\n",
    "import seaborn as sns\n",
    "from linearregression import * # Import my implemtation of Linear Regression\n",
    "sns.set_theme()"
   ]
  },
  {
   "cell_type": "markdown",
   "id": "53a2b5b2",
   "metadata": {},
   "source": [
    " Let us generate data using  this\n",
    "linear function for our model test, our model will try to estimate the weights and bias term\n",
    "of this function, this function has 3 features so our weights will be 3 plus 1 bias term. Our function is truly linear, however it should be noted that in real world application you can hardly see any relationship that is wholely linear. But we will simulate data using this function, our function says: \"I will generate dataset using some coefficients and intercept, please find those coefficients and intercept that I used to generate the dataset.\""
   ]
  },
  {
   "cell_type": "code",
   "execution_count": 165,
   "id": "6752c602",
   "metadata": {},
   "outputs": [],
   "source": [
    "f = lambda x1, x2, x3: 7*x1 + 2*x2 - 5*x3 + 3"
   ]
  },
  {
   "cell_type": "code",
   "execution_count": 166,
   "id": "5b172c4e",
   "metadata": {},
   "outputs": [
    {
     "name": "stdout",
     "output_type": "stream",
     "text": [
      "[[52 93 15]\n",
      " [72 61 21]\n",
      " [83 87 75]\n",
      " [75 88 24]\n",
      " [ 3 22 53]]\n",
      "[[ 478]\n",
      " [ 524]\n",
      " [ 383]\n",
      " [ 584]\n",
      " [-197]]\n"
     ]
    }
   ],
   "source": [
    "#Generate the training data using our function\n",
    "np.random.seed(42)\n",
    "X = np.random.randint(1, 100, size=(1_000, 3))\n",
    "Y = f(X[:,0], X[:,1], X[:,2])\n",
    "Y = Y[:, np.newaxis]\n",
    "print(X[:5])\n",
    "print(Y[:5])"
   ]
  },
  {
   "cell_type": "code",
   "execution_count": 167,
   "id": "7964e5b7",
   "metadata": {},
   "outputs": [
    {
     "data": {
      "text/plain": [
       "(1000, 3)"
      ]
     },
     "execution_count": 167,
     "metadata": {},
     "output_type": "execute_result"
    }
   ],
   "source": [
    "X.shape"
   ]
  },
  {
   "cell_type": "code",
   "execution_count": 168,
   "id": "fe5e2c2a",
   "metadata": {},
   "outputs": [
    {
     "data": {
      "text/plain": [
       "(1000, 1)"
      ]
     },
     "execution_count": 168,
     "metadata": {},
     "output_type": "execute_result"
    }
   ],
   "source": [
    "Y.shape"
   ]
  },
  {
   "cell_type": "code",
   "execution_count": 169,
   "id": "0f03d56b",
   "metadata": {},
   "outputs": [],
   "source": [
    "#Generate test data using our function\n",
    "X_test = np.random.random(size=(50, 3))\n",
    "Y_true = f(X_test[:,0], X_test[:,1], X_test[:,2])\n",
    "Y_true = Y_true[:, np.newaxis]"
   ]
  },
  {
   "cell_type": "code",
   "execution_count": 170,
   "id": "0dcd2072",
   "metadata": {},
   "outputs": [
    {
     "data": {
      "text/plain": [
       "(50, 3)"
      ]
     },
     "execution_count": 170,
     "metadata": {},
     "output_type": "execute_result"
    }
   ],
   "source": [
    "X_test.shape"
   ]
  },
  {
   "cell_type": "code",
   "execution_count": 171,
   "id": "427ff446",
   "metadata": {},
   "outputs": [
    {
     "data": {
      "text/plain": [
       "(50, 1)"
      ]
     },
     "execution_count": 171,
     "metadata": {},
     "output_type": "execute_result"
    }
   ],
   "source": [
    "Y_true.shape"
   ]
  },
  {
   "cell_type": "code",
   "execution_count": 172,
   "id": "5e435a38",
   "metadata": {},
   "outputs": [],
   "source": [
    "W = np.random.random(size=(X.shape[1], 1))\n",
    "b = 0.0"
   ]
  },
  {
   "cell_type": "code",
   "execution_count": 173,
   "id": "270dade1",
   "metadata": {},
   "outputs": [
    {
     "name": "stdout",
     "output_type": "stream",
     "text": [
      "[[0.39072837]\n",
      " [0.79834419]\n",
      " [0.37193267]]\n"
     ]
    }
   ],
   "source": [
    "print(W)"
   ]
  },
  {
   "cell_type": "code",
   "execution_count": 174,
   "id": "6048abe2",
   "metadata": {},
   "outputs": [],
   "source": [
    "linear_regression = LinearRegression()"
   ]
  },
  {
   "cell_type": "code",
   "execution_count": 175,
   "id": "67261b3e",
   "metadata": {},
   "outputs": [
    {
     "name": "stdout",
     "output_type": "stream",
     "text": [
      "Running epoch 1 / 1\n",
      "Running mini-batch 1 / 1\n",
      "Iteration    0: Cost 40125.45138031   \n",
      "Iteration 10000: Cost 25238.15116149   \n",
      "Iteration 20000: Cost 15719.03421780   \n",
      "Iteration 30000: Cost 9332.97324666   \n",
      "Iteration 40000: Cost 4642.68960545   \n",
      "Iteration 50000: Cost 1647.80493157   \n",
      "Iteration 60000: Cost 234.74401186   \n",
      "Iteration 70000: Cost 0.53231292   \n",
      "Iteration 80000: Cost 0.26554306   \n",
      "Iteration 90000: Cost 0.10140816   \n",
      "Iteration 99999: Cost 0.03981805   \n"
     ]
    }
   ],
   "source": [
    "W, b, J_histories, W_histories, b_histories, iterations = linear_regression.fit(X, Y, W, b,\n",
    "    optimizer='rms',learning_rate=1e-4, epochs=1, batch_size=1, num_iters=100000, bias=True)"
   ]
  },
  {
   "cell_type": "markdown",
   "id": "0a756954",
   "metadata": {},
   "source": [
    "Let us view the weights (coefficients) that our model predicted, we can see that it has nearly accurately computed the weights and\n",
    "bias (intercept)."
   ]
  },
  {
   "cell_type": "code",
   "execution_count": 176,
   "id": "eedb5992",
   "metadata": {},
   "outputs": [
    {
     "data": {
      "text/plain": [
       "array([[ 6.99916795],\n",
       "       [ 1.99919199],\n",
       "       [-5.00077977]])"
      ]
     },
     "execution_count": 176,
     "metadata": {},
     "output_type": "execute_result"
    }
   ],
   "source": [
    "W"
   ]
  },
  {
   "cell_type": "code",
   "execution_count": 177,
   "id": "5d0b7b24",
   "metadata": {},
   "outputs": [
    {
     "data": {
      "text/plain": [
       "array([3.12411587])"
      ]
     },
     "execution_count": 177,
     "metadata": {},
     "output_type": "execute_result"
    }
   ],
   "source": [
    "b"
   ]
  },
  {
   "cell_type": "code",
   "execution_count": 178,
   "id": "0819930a",
   "metadata": {},
   "outputs": [],
   "source": [
    "predictions = linear_regression.predict(X_test, W, b)"
   ]
  },
  {
   "cell_type": "code",
   "execution_count": 179,
   "id": "42730d31",
   "metadata": {},
   "outputs": [
    {
     "data": {
      "image/png": "[encoded data removed]",
      "text/plain": [
       "<Figure size 640x480 with 1 Axes>"
      ]
     },
     "metadata": {},
     "output_type": "display_data"
    }
   ],
   "source": [
    "plt.scatter(Y_true, predictions);"
   ]
  },
  {
   "cell_type": "code",
   "execution_count": 180,
   "id": "00d5ade0",
   "metadata": {},
   "outputs": [
    {
     "data": {
      "text/plain": [
       "(1, 11, 3)"
      ]
     },
     "execution_count": 180,
     "metadata": {},
     "output_type": "execute_result"
    }
   ],
   "source": [
    "W_histories = np.array(W_histories)\n",
    "W_histories.shape"
   ]
  },
  {
   "cell_type": "code",
   "execution_count": 181,
   "id": "ee47b7d5",
   "metadata": {},
   "outputs": [
    {
     "data": {
      "text/plain": [
       "(1, 11)"
      ]
     },
     "execution_count": 181,
     "metadata": {},
     "output_type": "execute_result"
    }
   ],
   "source": [
    "J_histories = np.array(J_histories)\n",
    "J_histories.shape"
   ]
  },
  {
   "cell_type": "code",
   "execution_count": 182,
   "id": "09d1d4dc",
   "metadata": {},
   "outputs": [
    {
     "data": {
      "text/plain": [
       "(1, 11, 1)"
      ]
     },
     "execution_count": 182,
     "metadata": {},
     "output_type": "execute_result"
    }
   ],
   "source": [
    "b_histories = np.array(b_histories)\n",
    "b_histories.shape"
   ]
  },
  {
   "cell_type": "code",
   "execution_count": 183,
   "id": "9fb9a831",
   "metadata": {},
   "outputs": [
    {
     "data": {
      "text/plain": [
       "array([4.01254514e+04, 2.52381512e+04, 1.57190342e+04, 9.33297325e+03,\n",
       "       4.64268961e+03, 1.64780493e+03, 2.34744012e+02, 5.32312918e-01,\n",
       "       2.65543060e-01, 1.01408159e-01, 3.98180499e-02])"
      ]
     },
     "execution_count": 183,
     "metadata": {},
     "output_type": "execute_result"
    }
   ],
   "source": [
    "jh = J_histories.ravel()\n",
    "jh"
   ]
  },
  {
   "cell_type": "code",
   "execution_count": 184,
   "id": "a1cc9044",
   "metadata": {},
   "outputs": [
    {
     "data": {
      "text/plain": [
       "array([3.16227766e-08, 9.78493404e-01, 1.97715134e+00, 2.97707891e+00,\n",
       "       3.97700001e+00, 4.97691272e+00, 5.97614850e+00, 6.09994763e+00,\n",
       "       5.10073076e+00, 4.10252648e+00, 3.12411587e+00])"
      ]
     },
     "execution_count": 184,
     "metadata": {},
     "output_type": "execute_result"
    }
   ],
   "source": [
    "bh = np.ravel(b_histories)\n",
    "bh"
   ]
  },
  {
   "cell_type": "code",
   "execution_count": 185,
   "id": "d0eaba2d",
   "metadata": {},
   "outputs": [
    {
     "data": {
      "text/plain": [
       "array([    0, 10000, 20000, 30000, 40000, 50000, 60000, 70000, 80000,\n",
       "       90000, 99999])"
      ]
     },
     "execution_count": 185,
     "metadata": {},
     "output_type": "execute_result"
    }
   ],
   "source": [
    "iterations = np.array(iterations)\n",
    "iterations"
   ]
  },
  {
   "cell_type": "code",
   "execution_count": 189,
   "id": "6366cf39",
   "metadata": {},
   "outputs": [
    {
     "data": {
      "image/png": "[encoded data removed]",
      "text/plain": [
       "<Figure size 640x480 with 1 Axes>"
      ]
     },
     "metadata": {},
     "output_type": "display_data"
    }
   ],
   "source": [
    "plt.plot(jh, iterations)\n",
    "plt.title('The plot of cost against the iterations')\n",
    "plt.xlabel('iterations')\n",
    "plt.ylabel('Cost')\n",
    "plt.show();"
   ]
  }
 ],
 "metadata": {
  "kernelspec": {
   "display_name": "base",
   "language": "python",
   "name": "python3"
  },
  "language_info": {
   "codemirror_mode": {
    "name": "ipython",
    "version": 3
   },
   "file_extension": ".py",
   "mimetype": "text/x-python",
   "name": "python",
   "nbconvert_exporter": "python",
   "pygments_lexer": "ipython3",
   "version": "3.11.7"
  }
 },
 "nbformat": 4,
 "nbformat_minor": 5
}
