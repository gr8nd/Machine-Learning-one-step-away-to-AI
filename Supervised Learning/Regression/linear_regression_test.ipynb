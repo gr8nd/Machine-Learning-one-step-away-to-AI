{
 "cells": [
  {
   "cell_type": "code",
   "execution_count": 1,
   "id": "cf8a37fc",
   "metadata": {},
   "outputs": [],
   "source": [
    "import numpy as np\n",
    "import matplotlib.pyplot as plt\n",
    "import seaborn as sns\n",
    "from linearregression import * # Import my implemtation of Linear Regression\n",
    "sns.set_theme()"
   ]
  },
  {
   "cell_type": "markdown",
   "id": "53a2b5b2",
   "metadata": {},
   "source": [
    " Let us generate data using  this\n",
    "linear function for our model test, our model will try to estimate the weights and bias term\n",
    "of this function, this function has 3 features so our weights will be 3 plus 1 bias term. Our function is truly linear, however it should be noted that in real world application you can hardly see any relationship that is wholely linear. But we will simulate data using this function, our function says: \"I will generate dataset using some coefficients and intercept, please find those coefficients and intercept that I used to generate the dataset.\" So the coefficients are [7, 2, -5] and the intercept is 3. Our model will attempt to find these four values."
   ]
  },
  {
   "cell_type": "code",
   "execution_count": 2,
   "id": "6752c602",
   "metadata": {},
   "outputs": [],
   "source": [
    "f = lambda x1, x2, x3: 7*x1 + 2*x2 - 5*x3 + 3"
   ]
  },
  {
   "cell_type": "code",
   "execution_count": 3,
   "id": "5b172c4e",
   "metadata": {},
   "outputs": [
    {
     "name": "stdout",
     "output_type": "stream",
     "text": [
      "[[52 93 15]\n",
      " [72 61 21]\n",
      " [83 87 75]\n",
      " [75 88 24]\n",
      " [ 3 22 53]]\n",
      "[[ 478]\n",
      " [ 524]\n",
      " [ 383]\n",
      " [ 584]\n",
      " [-197]]\n"
     ]
    }
   ],
   "source": [
    "#Generate the training data using our function\n",
    "np.random.seed(42)\n",
    "X = np.random.randint(1, 100, size=(1_000, 3))\n",
    "Y = f(X[:,0], X[:,1], X[:,2])\n",
    "Y = Y[:, np.newaxis]\n",
    "print(X[:5])\n",
    "print(Y[:5])"
   ]
  },
  {
   "cell_type": "code",
   "execution_count": 4,
   "id": "7964e5b7",
   "metadata": {},
   "outputs": [
    {
     "data": {
      "text/plain": [
       "(1000, 3)"
      ]
     },
     "execution_count": 4,
     "metadata": {},
     "output_type": "execute_result"
    }
   ],
   "source": [
    "X.shape"
   ]
  },
  {
   "cell_type": "code",
   "execution_count": 5,
   "id": "fe5e2c2a",
   "metadata": {},
   "outputs": [
    {
     "data": {
      "text/plain": [
       "(1000, 1)"
      ]
     },
     "execution_count": 5,
     "metadata": {},
     "output_type": "execute_result"
    }
   ],
   "source": [
    "Y.shape"
   ]
  },
  {
   "cell_type": "code",
   "execution_count": 6,
   "id": "0f03d56b",
   "metadata": {},
   "outputs": [],
   "source": [
    "#Generate test data using our function\n",
    "X_test = np.random.random(size=(50, 3))\n",
    "Y_true = f(X_test[:,0], X_test[:,1], X_test[:,2])\n",
    "Y_true = Y_true[:, np.newaxis]"
   ]
  },
  {
   "cell_type": "code",
   "execution_count": 7,
   "id": "0dcd2072",
   "metadata": {},
   "outputs": [
    {
     "data": {
      "text/plain": [
       "(50, 3)"
      ]
     },
     "execution_count": 7,
     "metadata": {},
     "output_type": "execute_result"
    }
   ],
   "source": [
    "X_test.shape"
   ]
  },
  {
   "cell_type": "code",
   "execution_count": 8,
   "id": "427ff446",
   "metadata": {},
   "outputs": [
    {
     "data": {
      "text/plain": [
       "(50, 1)"
      ]
     },
     "execution_count": 8,
     "metadata": {},
     "output_type": "execute_result"
    }
   ],
   "source": [
    "Y_true.shape"
   ]
  },
  {
   "cell_type": "code",
   "execution_count": 9,
   "id": "5e435a38",
   "metadata": {},
   "outputs": [],
   "source": [
    "W = np.random.randn(X.shape[1], 1) * np.sqrt(2/X.shape[1])\n",
    "b = 0.0"
   ]
  },
  {
   "cell_type": "code",
   "execution_count": 10,
   "id": "270dade1",
   "metadata": {},
   "outputs": [
    {
     "name": "stdout",
     "output_type": "stream",
     "text": [
      "[[ 1.03252392]\n",
      " [-0.37817253]\n",
      " [-0.65594379]]\n"
     ]
    }
   ],
   "source": [
    "print(W)"
   ]
  },
  {
   "cell_type": "code",
   "execution_count": 11,
   "id": "6048abe2",
   "metadata": {},
   "outputs": [],
   "source": [
    "linear_regression = LinearRegression()"
   ]
  },
  {
   "cell_type": "code",
   "execution_count": 12,
   "id": "67261b3e",
   "metadata": {},
   "outputs": [
    {
     "name": "stdout",
     "output_type": "stream",
     "text": [
      "Running epoch 1 / 1\n",
      "Running mini-batch 1 / 1\n",
      "Iteration    0: Cost 11190066.63725194   \n",
      "Iteration 10000: Cost 21209511.92263386   \n",
      "Iteration 20000: Cost 21206178.70851125   \n",
      "Iteration 30000: Cost 20717874.78575314   \n",
      "Iteration 40000: Cost 9802508.53689640   \n",
      "Iteration 50000: Cost 1289747.88503789   \n",
      "Iteration 60000: Cost 2211.00709108   \n",
      "Iteration 70000: Cost 0.06532490   \n",
      "Iteration 80000: Cost 0.04178970   \n",
      "Iteration 90000: Cost 0.04236102   \n",
      "Iteration 99999: Cost 0.04238825   \n"
     ]
    }
   ],
   "source": [
    "params, histories = linear_regression.fit(X, Y, W, b,\n",
    "    optimizer='adam',learning_rate=0.001, epochs=1, batch_size=1, num_iters=100000, bias=True)\n",
    "W = params['W']\n",
    "b = params['b']\n",
    "J_histories = histories['J_histories']\n",
    "W_histories = histories['W_histories']\n",
    "b_histories = histories['b_histories']\n",
    "iterations = histories['iterations']"
   ]
  },
  {
   "cell_type": "markdown",
   "id": "0a756954",
   "metadata": {},
   "source": [
    "Let us view the weights (coefficients) that our model predicted, we can see that it has nearly accurately computed the weights and\n",
    "bias (intercept)."
   ]
  },
  {
   "cell_type": "code",
   "execution_count": 13,
   "id": "eedb5992",
   "metadata": {},
   "outputs": [
    {
     "data": {
      "text/plain": [
       "array([[ 7.0005263],\n",
       "       [ 2.0005263],\n",
       "       [-4.9994737]])"
      ]
     },
     "execution_count": 13,
     "metadata": {},
     "output_type": "execute_result"
    }
   ],
   "source": [
    "W"
   ]
  },
  {
   "cell_type": "code",
   "execution_count": 14,
   "id": "5d0b7b24",
   "metadata": {},
   "outputs": [
    {
     "data": {
      "text/plain": [
       "array([3.0005263])"
      ]
     },
     "execution_count": 14,
     "metadata": {},
     "output_type": "execute_result"
    }
   ],
   "source": [
    "b"
   ]
  },
  {
   "cell_type": "code",
   "execution_count": 15,
   "id": "0819930a",
   "metadata": {},
   "outputs": [],
   "source": [
    "predictions = linear_regression.predict(X_test, W, b)"
   ]
  },
  {
   "cell_type": "code",
   "execution_count": 16,
   "id": "42730d31",
   "metadata": {},
   "outputs": [
    {
     "data": {
      "image/png": "[encoded data removed]",
      "text/plain": [
       "<Figure size 640x480 with 1 Axes>"
      ]
     },
     "metadata": {},
     "output_type": "display_data"
    }
   ],
   "source": [
    "plt.scatter(Y_true, predictions);"
   ]
  },
  {
   "cell_type": "code",
   "execution_count": 17,
   "id": "00d5ade0",
   "metadata": {},
   "outputs": [
    {
     "data": {
      "text/plain": [
       "(1, 11, 3)"
      ]
     },
     "execution_count": 17,
     "metadata": {},
     "output_type": "execute_result"
    }
   ],
   "source": [
    "W_histories = np.array(W_histories)\n",
    "W_histories.shape"
   ]
  },
  {
   "cell_type": "code",
   "execution_count": 18,
   "id": "ee47b7d5",
   "metadata": {},
   "outputs": [
    {
     "data": {
      "text/plain": [
       "(1, 11)"
      ]
     },
     "execution_count": 18,
     "metadata": {},
     "output_type": "execute_result"
    }
   ],
   "source": [
    "J_histories = np.array(J_histories)\n",
    "J_histories.shape"
   ]
  },
  {
   "cell_type": "code",
   "execution_count": 19,
   "id": "09d1d4dc",
   "metadata": {},
   "outputs": [
    {
     "data": {
      "text/plain": [
       "(1, 11, 1)"
      ]
     },
     "execution_count": 19,
     "metadata": {},
     "output_type": "execute_result"
    }
   ],
   "source": [
    "b_histories = np.array(b_histories)\n",
    "b_histories.shape"
   ]
  },
  {
   "cell_type": "code",
   "execution_count": 20,
   "id": "9fb9a831",
   "metadata": {},
   "outputs": [
    {
     "data": {
      "text/plain": [
       "array([1.11900666e+07, 2.12095119e+07, 2.12061787e+07, 2.07178748e+07,\n",
       "       9.80250854e+06, 1.28974789e+06, 2.21100709e+03, 6.53248952e-02,\n",
       "       4.17897033e-02, 4.23610238e-02, 4.23882479e-02])"
      ]
     },
     "execution_count": 20,
     "metadata": {},
     "output_type": "execute_result"
    }
   ],
   "source": [
    "jh = J_histories.ravel()\n",
    "jh"
   ]
  },
  {
   "cell_type": "code",
   "execution_count": 21,
   "id": "a1cc9044",
   "metadata": {},
   "outputs": [
    {
     "data": {
      "text/plain": [
       "array([31.62277976, 43.02936794, 43.0265371 , 42.60857418, 29.98415581,\n",
       "       11.91436384,  1.55329108,  2.2841977 ,  2.99952203,  2.99947549,\n",
       "        3.0005263 ])"
      ]
     },
     "execution_count": 21,
     "metadata": {},
     "output_type": "execute_result"
    }
   ],
   "source": [
    "bh = np.ravel(b_histories)\n",
    "bh"
   ]
  },
  {
   "cell_type": "code",
   "execution_count": 22,
   "id": "d0eaba2d",
   "metadata": {},
   "outputs": [
    {
     "data": {
      "text/plain": [
       "array([    0, 10000, 20000, 30000, 40000, 50000, 60000, 70000, 80000,\n",
       "       90000, 99999])"
      ]
     },
     "execution_count": 22,
     "metadata": {},
     "output_type": "execute_result"
    }
   ],
   "source": [
    "iterations = np.array(iterations)\n",
    "iterations"
   ]
  },
  {
   "cell_type": "code",
   "execution_count": 24,
   "id": "6366cf39",
   "metadata": {},
   "outputs": [
    {
     "data": {
      "image/png": "[encoded data removed]",
      "text/plain": [
       "<Figure size 640x480 with 1 Axes>"
      ]
     },
     "metadata": {},
     "output_type": "display_data"
    }
   ],
   "source": [
    "plt.plot(iterations, jh)\n",
    "plt.title('The plot of cost against the iterations')\n",
    "plt.xlabel('iterations')\n",
    "plt.ylabel('Cost')\n",
    "plt.show();"
   ]
  }
 ],
 "metadata": {
  "kernelspec": {
   "display_name": "Python 3 (ipykernel)",
   "language": "python",
   "name": "python3"
  },
  "language_info": {
   "codemirror_mode": {
    "name": "ipython",
    "version": 3
   },
   "file_extension": ".py",
   "mimetype": "text/x-python",
   "name": "python",
   "nbconvert_exporter": "python",
   "pygments_lexer": "ipython3",
   "version": "3.11.7"
  }
 },
 "nbformat": 4,
 "nbformat_minor": 5
}
