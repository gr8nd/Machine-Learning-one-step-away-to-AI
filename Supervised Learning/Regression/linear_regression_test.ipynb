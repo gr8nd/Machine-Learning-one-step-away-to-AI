{
 "cells": [
  {
   "cell_type": "code",
   "execution_count": 1,
   "id": "cf8a37fc",
   "metadata": {},
   "outputs": [],
   "source": [
    "import numpy as np\n",
    "import matplotlib.pyplot as plt\n",
    "import seaborn as sns\n",
    "from linearregression import * # Import my implemtation of Linear Regression\n",
    "sns.set_theme()"
   ]
  },
  {
   "cell_type": "markdown",
   "id": "53a2b5b2",
   "metadata": {},
   "source": [
    " Let us generate data using  this\n",
    "linear function for our model test, our model will try to estimate the weights and bias term\n",
    "of this function, this function has 3 features so our weights will be 3 plus 1 bias term. Our function is truly linear, however it should be noted that in real world application you can hardly see any relationship that is wholely linear. But we will simulate data using this function, our function says: \"I will generate dataset using some coefficients and intercept, please find those coefficients and intercept that I used to generate the dataset.\" So the coefficients are [7, 2, -5] and the intercept is 3. Our model will attempt to find these four values."
   ]
  },
  {
   "cell_type": "code",
   "execution_count": 2,
   "id": "6752c602",
   "metadata": {},
   "outputs": [],
   "source": [
    "f = lambda x1, x2, x3: 7*x1 + 2*x2 - 5*x3 + 3"
   ]
  },
  {
   "cell_type": "code",
   "execution_count": 3,
   "id": "5b172c4e",
   "metadata": {},
   "outputs": [
    {
     "name": "stdout",
     "output_type": "stream",
     "text": [
      "[[52 93 15]\n",
      " [72 61 21]\n",
      " [83 87 75]\n",
      " [75 88 24]\n",
      " [ 3 22 53]]\n",
      "[[ 478]\n",
      " [ 524]\n",
      " [ 383]\n",
      " [ 584]\n",
      " [-197]]\n"
     ]
    }
   ],
   "source": [
    "#Generate the training data using our function\n",
    "np.random.seed(42)\n",
    "X = np.random.randint(1, 100, size=(1_000, 3))\n",
    "Y = f(X[:,0], X[:,1], X[:,2])\n",
    "Y = Y[:, np.newaxis]\n",
    "print(X[:5])\n",
    "print(Y[:5])"
   ]
  },
  {
   "cell_type": "code",
   "execution_count": 4,
   "id": "7964e5b7",
   "metadata": {},
   "outputs": [
    {
     "data": {
      "text/plain": [
       "(1000, 3)"
      ]
     },
     "execution_count": 4,
     "metadata": {},
     "output_type": "execute_result"
    }
   ],
   "source": [
    "X.shape"
   ]
  },
  {
   "cell_type": "code",
   "execution_count": 5,
   "id": "fe5e2c2a",
   "metadata": {},
   "outputs": [
    {
     "data": {
      "text/plain": [
       "(1000, 1)"
      ]
     },
     "execution_count": 5,
     "metadata": {},
     "output_type": "execute_result"
    }
   ],
   "source": [
    "Y.shape"
   ]
  },
  {
   "cell_type": "code",
   "execution_count": 6,
   "id": "0f03d56b",
   "metadata": {},
   "outputs": [],
   "source": [
    "#Generate test data using our function\n",
    "X_test = np.random.randint(1, 10, size=(50, 3))\n",
    "Y_true = f(X_test[:,0], X_test[:,1], X_test[:,2])\n",
    "Y_true = Y_true[:, np.newaxis]"
   ]
  },
  {
   "cell_type": "code",
   "execution_count": 7,
   "id": "0dcd2072",
   "metadata": {},
   "outputs": [
    {
     "data": {
      "text/plain": [
       "(50, 3)"
      ]
     },
     "execution_count": 7,
     "metadata": {},
     "output_type": "execute_result"
    }
   ],
   "source": [
    "X_test.shape"
   ]
  },
  {
   "cell_type": "code",
   "execution_count": 8,
   "id": "427ff446",
   "metadata": {},
   "outputs": [
    {
     "data": {
      "text/plain": [
       "(50, 1)"
      ]
     },
     "execution_count": 8,
     "metadata": {},
     "output_type": "execute_result"
    }
   ],
   "source": [
    "Y_true.shape"
   ]
  },
  {
   "cell_type": "code",
   "execution_count": 9,
   "id": "5e435a38",
   "metadata": {},
   "outputs": [],
   "source": [
    "W = np.random.randn(X.shape[1], 1) * np.sqrt(2/X.shape[1])\n",
    "b = 0.0"
   ]
  },
  {
   "cell_type": "code",
   "execution_count": 10,
   "id": "270dade1",
   "metadata": {},
   "outputs": [
    {
     "name": "stdout",
     "output_type": "stream",
     "text": [
      "[[-0.51315574]\n",
      " [ 0.49192058]\n",
      " [-0.5789236 ]]\n"
     ]
    }
   ],
   "source": [
    "print(W)"
   ]
  },
  {
   "cell_type": "code",
   "execution_count": 11,
   "id": "6048abe2",
   "metadata": {},
   "outputs": [],
   "source": [
    "linear_regression = LinearRegression()"
   ]
  },
  {
   "cell_type": "code",
   "execution_count": null,
   "id": "67261b3e",
   "metadata": {},
   "outputs": [
    {
     "name": "stdout",
     "output_type": "stream",
     "text": [
      "Running epoch 1 / 1\n",
      "Running mini-batch 1 / 1\n",
      "Iteration    0: Cost 11045355.83264394   \n",
      "Iteration 10000: Cost 21007356.93399203   \n",
      "Iteration 20000: Cost 21004524.68009415   \n",
      "Iteration 30000: Cost 20588416.44969027   \n",
      "Iteration 40000: Cost 10050946.90415854   \n",
      "Iteration 50000: Cost 1375988.55920513   \n",
      "Iteration 60000: Cost 3818.82976737   \n",
      "Iteration 70000: Cost 0.06952205   \n",
      "Iteration 80000: Cost 0.04187866   \n",
      "Iteration 90000: Cost 0.04235841   \n",
      "Iteration 99999: Cost 0.04238827   \n",
      "Train RMSE: 9270.508725167385\n",
      "Test RMSE: 169.79801384765514\n"
     ]
    },
    {
     "ename": "KeyError",
     "evalue": "'W_histories'",
     "output_type": "error",
     "traceback": [
      "\u001b[31m---------------------------------------------------------------------------\u001b[39m",
      "\u001b[31mKeyError\u001b[39m                                  Traceback (most recent call last)",
      "\u001b[36mCell\u001b[39m\u001b[36m \u001b[39m\u001b[32mIn[12]\u001b[39m\u001b[32m, line 6\u001b[39m\n\u001b[32m      4\u001b[39m b = model[\u001b[33m'\u001b[39m\u001b[33mb\u001b[39m\u001b[33m'\u001b[39m]\n\u001b[32m      5\u001b[39m costs = model[\u001b[33m'\u001b[39m\u001b[33mcosts\u001b[39m\u001b[33m'\u001b[39m]\n\u001b[32m----> \u001b[39m\u001b[32m6\u001b[39m W_histories = \u001b[43mmodel\u001b[49m\u001b[43m[\u001b[49m\u001b[33;43m'\u001b[39;49m\u001b[33;43mW_histories\u001b[39;49m\u001b[33;43m'\u001b[39;49m\u001b[43m]\u001b[49m\n\u001b[32m      7\u001b[39m b_histories = model[\u001b[33m'\u001b[39m\u001b[33mb_histories\u001b[39m\u001b[33m'\u001b[39m]\n\u001b[32m      8\u001b[39m iterations = model[\u001b[33m'\u001b[39m\u001b[33miterations\u001b[39m\u001b[33m'\u001b[39m]\n",
      "\u001b[31mKeyError\u001b[39m: 'W_histories'"
     ]
    }
   ],
   "source": [
    "model = linear_regression.fit(X, Y, W, b,X_test,Y_true,\n",
    "    optimizer='adam',learning_rate=0.001, epochs=1, batch_size=1, num_iters=100000, bias=True)\n",
    "W = model['W']\n",
    "b = model['b']\n",
    "costs = model['costs']\n",
    "W_history = model['W_history']\n",
    "b_history = model['W_history']\n",
    "iterations = model['iterations']"
   ]
  },
  {
   "cell_type": "markdown",
   "id": "0a756954",
   "metadata": {},
   "source": [
    "Let us view the weights (coefficients) that our model predicted, we can see that it has nearly accurately computed the weights and\n",
    "bias (intercept)."
   ]
  },
  {
   "cell_type": "code",
   "execution_count": null,
   "id": "eedb5992",
   "metadata": {},
   "outputs": [],
   "source": [
    "W"
   ]
  },
  {
   "cell_type": "code",
   "execution_count": null,
   "id": "5d0b7b24",
   "metadata": {},
   "outputs": [],
   "source": [
    "b"
   ]
  },
  {
   "cell_type": "code",
   "execution_count": null,
   "id": "0819930a",
   "metadata": {},
   "outputs": [],
   "source": [
    "predictions = linear_regression.predict(X_test, W, b)"
   ]
  },
  {
   "cell_type": "code",
   "execution_count": null,
   "id": "42730d31",
   "metadata": {},
   "outputs": [],
   "source": [
    "plt.scatter(Y_true, predictions);"
   ]
  },
  {
   "cell_type": "code",
   "execution_count": null,
   "id": "00d5ade0",
   "metadata": {},
   "outputs": [],
   "source": [
    "W_history = np.array(W_history)\n",
    "W_history.shape"
   ]
  },
  {
   "cell_type": "code",
   "execution_count": null,
   "id": "ee47b7d5",
   "metadata": {},
   "outputs": [],
   "source": [
    "costs = np.array(costs)\n",
    "costs.shape"
   ]
  },
  {
   "cell_type": "code",
   "execution_count": null,
   "id": "09d1d4dc",
   "metadata": {},
   "outputs": [],
   "source": [
    "b_history = np.array(b_history)\n",
    "b_history.shape"
   ]
  },
  {
   "cell_type": "code",
   "execution_count": null,
   "id": "d0eaba2d",
   "metadata": {},
   "outputs": [],
   "source": [
    "iterations = np.array(iterations)\n",
    "iterations"
   ]
  },
  {
   "cell_type": "code",
   "execution_count": null,
   "id": "6366cf39",
   "metadata": {},
   "outputs": [],
   "source": [
    "plt.plot(iterations, costs)\n",
    "plt.title('The plot of cost against the iterations')\n",
    "plt.xlabel('iterations')\n",
    "plt.ylabel('Cost')\n",
    "plt.show();"
   ]
  },
  {
   "cell_type": "code",
   "execution_count": null,
   "id": "fbaa407d-6949-4194-b186-45d8964b9126",
   "metadata": {},
   "outputs": [],
   "source": []
  }
 ],
 "metadata": {
  "kernelspec": {
   "display_name": "Python 3 (ipykernel)",
   "language": "python",
   "name": "python3"
  },
  "language_info": {
   "codemirror_mode": {
    "name": "ipython",
    "version": 3
   },
   "file_extension": ".py",
   "mimetype": "text/x-python",
   "name": "python",
   "nbconvert_exporter": "python",
   "pygments_lexer": "ipython3",
   "version": "3.11.7"
  }
 },
 "nbformat": 4,
 "nbformat_minor": 5
}
