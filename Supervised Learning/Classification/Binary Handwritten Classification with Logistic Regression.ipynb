{
 "cells": [
  {
   "cell_type": "code",
   "execution_count": 1,
   "id": "fe73b9d8-7ed1-46aa-96b0-24ec88e860d7",
   "metadata": {},
   "outputs": [],
   "source": [
    "\"\"\"@author Okorie Ndubuisi June 2025\"\"\"\n",
    "import numpy as np\n",
    "import matplotlib.pyplot as plt\n",
    "from sklearn.metrics import mean_squared_error, confusion_matrix, accuracy_score\n",
    "from logisticregression import LogisticRegression # import my implementation of logistic regression\n",
    "import seaborn as sns\n",
    "import pandas as pd\n",
    "sns.set_theme()"
   ]
  },
  {
   "cell_type": "code",
   "execution_count": 2,
   "id": "db2bfb2f-c7a3-4cd0-8406-c9745cbb74f9",
   "metadata": {},
   "outputs": [
    {
     "data": {
      "image/png": "[encoded data removed]",
      "text/plain": [
       "<Figure size 600x600 with 64 Axes>"
      ]
     },
     "metadata": {},
     "output_type": "display_data"
    }
   ],
   "source": [
    "from sklearn.datasets import load_digits\n",
    "digits = load_digits(n_class=2)\n",
    "fig, ax = plt.subplots(8, 8, figsize=(6, 6))\n",
    "for i, axi in enumerate(ax.flat):\n",
    "    axi.imshow(digits.images[i], cmap='binary')\n",
    "    axi.set(xticks=[], yticks=[])"
   ]
  },
  {
   "cell_type": "code",
   "execution_count": 3,
   "id": "c5ca85ac-5739-4633-9031-eb61ad560255",
   "metadata": {},
   "outputs": [],
   "source": [
    "X = np.array(digits.data[:210, :], dtype=np.float64)\n",
    "Y = digits.target[:210]\n",
    "\n",
    "X_test = digits.data[210:, :]\n",
    "Y_test = digits.target[210:]"
   ]
  },
  {
   "cell_type": "code",
   "execution_count": 4,
   "id": "24ac4d63-e645-4614-a230-23e1da8fe119",
   "metadata": {},
   "outputs": [
    {
     "data": {
      "text/plain": [
       "(210, 64)"
      ]
     },
     "execution_count": 4,
     "metadata": {},
     "output_type": "execute_result"
    }
   ],
   "source": [
    "X.shape"
   ]
  },
  {
   "cell_type": "code",
   "execution_count": 5,
   "id": "ec9f7a94-d58a-4a4c-916a-6060d556e24c",
   "metadata": {},
   "outputs": [
    {
     "data": {
      "text/plain": [
       "(150, 64)"
      ]
     },
     "execution_count": 5,
     "metadata": {},
     "output_type": "execute_result"
    }
   ],
   "source": [
    "X_test.shape"
   ]
  },
  {
   "cell_type": "code",
   "execution_count": 6,
   "id": "27b112a4-f6c0-451d-a85e-e804a82b214c",
   "metadata": {},
   "outputs": [],
   "source": [
    "model = LogisticRegression(activation='sigmoid')"
   ]
  },
  {
   "cell_type": "code",
   "execution_count": 7,
   "id": "c5f28c6a-d491-45f5-ad3e-de731fa495d1",
   "metadata": {},
   "outputs": [
    {
     "name": "stdout",
     "output_type": "stream",
     "text": [
      "Epoch  1/65 Loss: 0.86686673   \n",
      "Epoch  2/65 Loss: 0.84560396   \n",
      "Epoch  3/65 Loss: 0.82489769   \n",
      "Epoch  4/65 Loss: 0.80469708   \n",
      "Epoch  5/65 Loss: 0.78498106   \n",
      "Epoch  6/65 Loss: 0.76571480   \n",
      "Epoch  7/65 Loss: 0.74688803   \n",
      "Epoch  8/65 Loss: 0.72846189   \n",
      "Epoch  9/65 Loss: 0.71041905   \n",
      "Epoch 10/65 Loss: 0.69275938   \n",
      "Epoch 11/65 Loss: 0.67548275   \n",
      "Epoch 12/65 Loss: 0.65858815   \n",
      "Epoch 13/65 Loss: 0.64201675   \n",
      "Epoch 14/65 Loss: 0.62577838   \n",
      "Epoch 15/65 Loss: 0.60987230   \n",
      "Epoch 16/65 Loss: 0.59429654   \n",
      "Epoch 17/65 Loss: 0.57904252   \n",
      "Epoch 18/65 Loss: 0.56410686   \n",
      "Epoch 19/65 Loss: 0.54948798   \n",
      "Epoch 20/65 Loss: 0.53518335   \n",
      "Epoch 21/65 Loss: 0.52119095   \n",
      "Epoch 22/65 Loss: 0.50750782   \n",
      "Epoch 23/65 Loss: 0.49413146   \n",
      "Epoch 24/65 Loss: 0.48105865   \n",
      "Epoch 25/65 Loss: 0.46828635   \n",
      "Epoch 26/65 Loss: 0.45581106   \n",
      "Epoch 27/65 Loss: 0.44362936   \n",
      "Epoch 28/65 Loss: 0.43173743   \n",
      "Epoch 29/65 Loss: 0.42013156   \n",
      "Epoch 30/65 Loss: 0.40880765   \n",
      "Epoch 31/65 Loss: 0.39776171   \n",
      "Epoch 32/65 Loss: 0.38698961   \n",
      "Epoch 33/65 Loss: 0.37648451   \n",
      "Epoch 34/65 Loss: 0.36624359   \n",
      "Epoch 35/65 Loss: 0.35626406   \n",
      "Epoch 36/65 Loss: 0.34653675   \n",
      "Epoch 37/65 Loss: 0.33706062   \n",
      "Epoch 38/65 Loss: 0.32783068   \n",
      "Epoch 39/65 Loss: 0.31884259   \n",
      "Epoch 40/65 Loss: 0.31008826   \n",
      "Epoch 41/65 Loss: 0.30156495   \n",
      "Epoch 42/65 Loss: 0.29326835   \n",
      "Epoch 43/65 Loss: 0.28519396   \n",
      "Epoch 44/65 Loss: 0.27732971   \n",
      "Epoch 45/65 Loss: 0.26967635   \n",
      "Epoch 46/65 Loss: 0.26223015   \n",
      "Epoch 47/65 Loss: 0.25497814   \n",
      "Epoch 48/65 Loss: 0.24792312   \n",
      "Epoch 49/65 Loss: 0.24105689   \n",
      "Epoch 50/65 Loss: 0.23437543   \n",
      "Epoch 51/65 Loss: 0.22787982   \n",
      "Epoch 52/65 Loss: 0.22154664   \n",
      "Epoch 53/65 Loss: 0.21538739   \n",
      "Epoch 54/65 Loss: 0.20939638   \n",
      "Epoch 55/65 Loss: 0.20357041   \n",
      "Epoch 56/65 Loss: 0.19790231   \n",
      "Epoch 57/65 Loss: 0.19239111   \n",
      "Epoch 58/65 Loss: 0.18703121   \n",
      "Epoch 59/65 Loss: 0.18181873   \n",
      "Epoch 60/65 Loss: 0.17675352   \n",
      "Epoch 61/65 Loss: 0.17182682   \n",
      "Epoch 62/65 Loss: 0.16703631   \n",
      "Epoch 63/65 Loss: 0.16238328   \n",
      "Epoch 64/65 Loss: 0.15785502   \n",
      "Epoch 65/65 Loss: 0.15345501   \n"
     ]
    }
   ],
   "source": [
    "lambda_ = 1\n",
    "decimals = 8\n",
    "model.fit(X, Y, learning_rate=1e-4, optimizer='adam', decay=False, \n",
    "              batch_size=-1, epochs=65, lambda_=lambda_, bias=True, verbose=True)"
   ]
  },
  {
   "cell_type": "code",
   "execution_count": 8,
   "id": "d24009a7-6edd-440c-8ab6-793806a442df",
   "metadata": {},
   "outputs": [
    {
     "data": {
      "text/plain": [
       "array([[-0.00014649,  0.00015251],\n",
       "       [-0.02790429,  0.02444683],\n",
       "       [-0.01508053, -0.00666295],\n",
       "       [ 0.01593088, -0.01598297],\n",
       "       [-0.01202435,  0.0126183 ]])"
      ]
     },
     "execution_count": 8,
     "metadata": {},
     "output_type": "execute_result"
    }
   ],
   "source": [
    "model.params['weights'][:5]"
   ]
  },
  {
   "cell_type": "code",
   "execution_count": 9,
   "id": "f54d0bb1-dfd0-453f-87f0-bc54462d12da",
   "metadata": {},
   "outputs": [
    {
     "data": {
      "text/plain": [
       "array([[-0.02055273,  0.0173908 ]])"
      ]
     },
     "execution_count": 9,
     "metadata": {},
     "output_type": "execute_result"
    }
   ],
   "source": [
    "model.params['bias']"
   ]
  },
  {
   "cell_type": "code",
   "execution_count": 10,
   "id": "e45b8c82-79f0-4ab5-9ac7-631a998587f9",
   "metadata": {},
   "outputs": [],
   "source": [
    "test_predictions = model.predict(X_test, -1)"
   ]
  },
  {
   "cell_type": "code",
   "execution_count": 11,
   "id": "66da5753-1a44-4c72-972e-ca2a9e102ae4",
   "metadata": {},
   "outputs": [
    {
     "data": {
      "text/plain": [
       "98.66666666666667"
      ]
     },
     "execution_count": 11,
     "metadata": {},
     "output_type": "execute_result"
    }
   ],
   "source": [
    "test_accuracy = (len(Y_test[np.where(Y_test == test_predictions)]) / len(Y_test)) * 100\n",
    "test_accuracy"
   ]
  },
  {
   "cell_type": "code",
   "execution_count": 13,
   "id": "b9283737-5e50-4f3d-9deb-7b2440d613d8",
   "metadata": {},
   "outputs": [
    {
     "data": {
      "text/plain": [
       "98.66666666666667"
      ]
     },
     "execution_count": 13,
     "metadata": {},
     "output_type": "execute_result"
    }
   ],
   "source": [
    "#Using scik-learn\n",
    "accuracy_score(Y_test, test_predictions) * 100"
   ]
  },
  {
   "cell_type": "code",
   "execution_count": 14,
   "id": "2eedd18f-d584-4165-8de7-14011011809d",
   "metadata": {},
   "outputs": [
    {
     "name": "stdout",
     "output_type": "stream",
     "text": [
      "First 10 predictions of our model: [1 0 0 1 1 0 0 0 1 1]\n",
      "First 10 values of y test label:   [1 0 0 1 1 0 0 0 1 1]\n"
     ]
    }
   ],
   "source": [
    "print('First 10 predictions of our model:', test_predictions[:10])\n",
    "print('First 10 values of y test label:  ', Y_test[:10])"
   ]
  },
  {
   "cell_type": "code",
   "execution_count": 15,
   "id": "6c737ee3-9fb2-4497-af07-9b11343983f9",
   "metadata": {},
   "outputs": [],
   "source": [
    "idx = np.where(Y_test != test_predictions)\n",
    "correct_labels = Y_test[idx]\n",
    "incorrect_labels = test_predictions[idx]\n",
    "Incorrect_X = X[idx]\n",
    "incorrect_img = digits.images[idx]"
   ]
  },
  {
   "cell_type": "code",
   "execution_count": 16,
   "id": "26982f49-4e98-43c2-ba70-4f6fcdc17a4c",
   "metadata": {},
   "outputs": [
    {
     "data": {
      "text/plain": [
       "2"
      ]
     },
     "execution_count": 16,
     "metadata": {},
     "output_type": "execute_result"
    }
   ],
   "source": [
    "incor_len = len(incorrect_labels)\n",
    "incor_len"
   ]
  },
  {
   "cell_type": "code",
   "execution_count": 17,
   "id": "e3a86a20-b8c1-47db-941a-d539b8c27851",
   "metadata": {},
   "outputs": [],
   "source": [
    "correct_labels = Y_test[Y_test == test_predictions]"
   ]
  },
  {
   "cell_type": "code",
   "execution_count": 18,
   "id": "f1fc9a82-1d75-4aa0-9921-ab018ca4a917",
   "metadata": {},
   "outputs": [
    {
     "data": {
      "text/plain": [
       "148"
      ]
     },
     "execution_count": 18,
     "metadata": {},
     "output_type": "execute_result"
    }
   ],
   "source": [
    "len(correct_labels)"
   ]
  },
  {
   "cell_type": "code",
   "execution_count": 29,
   "id": "061a7f97-754c-46c3-95da-0535e0d8be29",
   "metadata": {},
   "outputs": [
    {
     "data": {
      "image/png": "[encoded data removed]",
      "text/plain": [
       "<Figure size 100x200 with 2 Axes>"
      ]
     },
     "metadata": {},
     "output_type": "display_data"
    }
   ],
   "source": [
    "fig, ax = plt.subplots(1, 2, figsize=(1, 2))\n",
    "for i, axi in enumerate(ax.flat):\n",
    "    axi.axis('off')\n",
    "    if i >= len(incorrect_labels):\n",
    "        continue\n",
    "    axi.imshow(incorrect_img[i], cmap='binary')\n",
    "    axi.text(0.05, 0.05, str(incorrect_labels[i]), transform=axi.transAxes, color='red')\n",
    "    axi.text(0.05, 0.5, str(correct_labels[i]), transform=axi.transAxes, color='green')"
   ]
  },
  {
   "cell_type": "code",
   "execution_count": 21,
   "id": "6ea729de-d56b-4810-8f46-3aa7c2907807",
   "metadata": {},
   "outputs": [
    {
     "data": {
      "image/png": "[encoded data removed]",
      "text/plain": [
       "<Figure size 640x480 with 1 Axes>"
      ]
     },
     "metadata": {},
     "output_type": "display_data"
    }
   ],
   "source": [
    "confusion_mat = confusion_matrix(Y_test, test_predictions)\n",
    "sns.heatmap(confusion_mat, square=True, annot=True, cbar=False)\n",
    "plt.xlabel('predicted value')\n",
    "plt.ylabel('true value');"
   ]
  },
  {
   "cell_type": "code",
   "execution_count": 22,
   "id": "c2b71700-bc48-4883-9b40-9312fe12d5d3",
   "metadata": {},
   "outputs": [],
   "source": [
    "train_predictions = model.predict(X, -1)"
   ]
  },
  {
   "cell_type": "code",
   "execution_count": 23,
   "id": "825027de-def1-4ee8-9eba-d523e665335c",
   "metadata": {},
   "outputs": [
    {
     "data": {
      "text/plain": [
       "100.0"
      ]
     },
     "execution_count": 23,
     "metadata": {},
     "output_type": "execute_result"
    }
   ],
   "source": [
    "train_accuracy = (len(Y[np.where(Y == train_predictions)]) / len(Y)) * 100\n",
    "train_accuracy"
   ]
  },
  {
   "cell_type": "code",
   "execution_count": 24,
   "id": "34522225-6a3f-4050-8b7f-68c32bf3185c",
   "metadata": {},
   "outputs": [],
   "source": [
    "correct_labels = Y[Y == train_predictions]"
   ]
  },
  {
   "cell_type": "code",
   "execution_count": 25,
   "id": "0c52ee64-078a-425e-842f-48f2127110b2",
   "metadata": {},
   "outputs": [
    {
     "data": {
      "text/plain": [
       "210"
      ]
     },
     "execution_count": 25,
     "metadata": {},
     "output_type": "execute_result"
    }
   ],
   "source": [
    "len(correct_labels)"
   ]
  },
  {
   "cell_type": "code",
   "execution_count": 26,
   "id": "bce4b3fb-fa09-42be-acb2-1d506a665484",
   "metadata": {},
   "outputs": [
    {
     "name": "stdout",
     "output_type": "stream",
     "text": [
      "First 10 predictions of our model on train X: [0 1 0 1 0 1 0 0 1 1]\n",
      "First 10 values of y train label:             [0 1 0 1 0 1 0 0 1 1]\n"
     ]
    }
   ],
   "source": [
    "print('First 10 predictions of our model on train X:', train_predictions[:10])\n",
    "print('First 10 values of y train label:            ', Y[:10])"
   ]
  },
  {
   "cell_type": "code",
   "execution_count": 27,
   "id": "df4fb823-4958-4261-86ad-c890e0ae40b3",
   "metadata": {},
   "outputs": [
    {
     "data": {
      "text/plain": [
       "(65,)"
      ]
     },
     "execution_count": 27,
     "metadata": {},
     "output_type": "execute_result"
    }
   ],
   "source": [
    "costs = np.array(model.costs)\n",
    "costs.shape"
   ]
  },
  {
   "cell_type": "code",
   "execution_count": 28,
   "id": "0be1b1bf-e121-4810-8ba0-70e49cfdcad9",
   "metadata": {},
   "outputs": [
    {
     "data": {
      "image/png": "[encoded data removed]",
      "text/plain": [
       "<Figure size 640x480 with 1 Axes>"
      ]
     },
     "metadata": {},
     "output_type": "display_data"
    }
   ],
   "source": [
    "plt.plot(np.arange(len(model.iterations)), costs)\n",
    "plt.title('The plot of cost against the iterations')\n",
    "plt.xlabel('iterations')\n",
    "plt.ylabel('Cost')\n",
    "plt.show();"
   ]
  },
  {
   "cell_type": "code",
   "execution_count": 30,
   "id": "13e07556-9feb-464d-80ea-6a8f5c1931f7",
   "metadata": {},
   "outputs": [
    {
     "name": "stdout",
     "output_type": "stream",
     "text": [
      "Model saved to binary_handwritten_digits_model.pkl\n"
     ]
    }
   ],
   "source": [
    "model.save('binary_handwritten_digits_model.pkl')"
   ]
  },
  {
   "cell_type": "code",
   "execution_count": 31,
   "id": "0723f57c-9ff4-4bfa-8b9c-d178fdac3b6a",
   "metadata": {},
   "outputs": [
    {
     "name": "stdout",
     "output_type": "stream",
     "text": [
      "Model loaded from binary_handwritten_digits_model.pkl\n"
     ]
    }
   ],
   "source": [
    "loaded_model = model.load('binary_handwritten_digits_model.pkl')"
   ]
  },
  {
   "cell_type": "code",
   "execution_count": 32,
   "id": "bf21ec21-172f-4da9-81c3-94751a6c0151",
   "metadata": {},
   "outputs": [
    {
     "data": {
      "text/plain": [
       "98.66666666666667"
      ]
     },
     "execution_count": 32,
     "metadata": {},
     "output_type": "execute_result"
    }
   ],
   "source": [
    "test_predictions = loaded_model.predict(X_test, -1)\n",
    "test_accuracy = (len(Y_test[np.where(Y_test == test_predictions)]) / len(Y_test)) * 100\n",
    "test_accuracy"
   ]
  },
  {
   "cell_type": "code",
   "execution_count": 33,
   "id": "cd803074-03a1-4548-b257-9dad099cff3f",
   "metadata": {},
   "outputs": [
    {
     "data": {
      "text/plain": [
       "100.0"
      ]
     },
     "execution_count": 33,
     "metadata": {},
     "output_type": "execute_result"
    }
   ],
   "source": [
    "train_predictions = loaded_model.predict(X, -1)\n",
    "train_accuracy = (len(Y[np.where(Y == train_predictions)]) / len(Y)) * 100\n",
    "train_accuracy"
   ]
  },
  {
   "cell_type": "code",
   "execution_count": null,
   "id": "eadc8127-975a-4a61-84b5-8a187f50763a",
   "metadata": {},
   "outputs": [],
   "source": []
  }
 ],
 "metadata": {
  "kernelspec": {
   "display_name": "Python 3 (ipykernel)",
   "language": "python",
   "name": "python3"
  },
  "language_info": {
   "codemirror_mode": {
    "name": "ipython",
    "version": 3
   },
   "file_extension": ".py",
   "mimetype": "text/x-python",
   "name": "python",
   "nbconvert_exporter": "python",
   "pygments_lexer": "ipython3",
   "version": "3.11.7"
  }
 },
 "nbformat": 4,
 "nbformat_minor": 5
}
