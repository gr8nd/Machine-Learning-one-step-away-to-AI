{
 "cells": [
  {
   "cell_type": "code",
   "execution_count": 1,
   "id": "385f3142-2c89-45d3-8af4-a0bd43019b4c",
   "metadata": {},
   "outputs": [],
   "source": [
    "\"\"\"@author Okorie Ndubuisi June 2025\"\"\"\n",
    "import numpy as np\n",
    "import matplotlib.pyplot as plt\n",
    "from algorithms.ml.utils.utils import one_hot_encode\n",
    "from sklearn.metrics import mean_squared_error, confusion_matrix, accuracy_score\n",
    "from logisticregression import LogisticRegression # import my implementation of logistic regression\n",
    "import seaborn as sns\n",
    "import pandas as pd\n",
    "sns.set_theme()"
   ]
  },
  {
   "cell_type": "code",
   "execution_count": 2,
   "id": "7769f9d4-18d0-490f-b58c-50d49a7eeb3f",
   "metadata": {},
   "outputs": [
    {
     "data": {
      "text/plain": [
       "['x_test', 'x_train', 'y_train', 'y_test']"
      ]
     },
     "execution_count": 2,
     "metadata": {},
     "output_type": "execute_result"
    }
   ],
   "source": [
    "mnist = np.load('C:/Users/Matho/Documents/ndubuisi/algorithms/ml/data/mnist.npz')\n",
    "list(mnist.keys())"
   ]
  },
  {
   "cell_type": "code",
   "execution_count": 3,
   "id": "0efe4fd1-e568-461a-bff6-b48d3cdc385e",
   "metadata": {},
   "outputs": [],
   "source": [
    "x_train, Y, x_test, Y_test = mnist['x_train'], mnist['y_train'], mnist['x_test'], mnist['y_test']\n",
    "x_train = x_train / 255.0\n",
    "x_test = x_test / 255.0\n",
    "X = x_train.reshape(x_train.shape[0], -1)\n",
    "X_test = x_test.reshape(x_test.shape[0], -1)"
   ]
  },
  {
   "cell_type": "code",
   "execution_count": 4,
   "id": "bafc354b-0fc2-4ada-8c7d-3b6b2e6f72f6",
   "metadata": {},
   "outputs": [
    {
     "data": {
      "text/plain": [
       "(60000, 784)"
      ]
     },
     "execution_count": 4,
     "metadata": {},
     "output_type": "execute_result"
    }
   ],
   "source": [
    "X.shape"
   ]
  },
  {
   "cell_type": "code",
   "execution_count": 5,
   "id": "7c4f6b76-e278-4954-9e1a-f57c026f6191",
   "metadata": {},
   "outputs": [
    {
     "data": {
      "text/plain": [
       "(60000,)"
      ]
     },
     "execution_count": 5,
     "metadata": {},
     "output_type": "execute_result"
    }
   ],
   "source": [
    "Y.shape"
   ]
  },
  {
   "cell_type": "code",
   "execution_count": 6,
   "id": "c0fc1963-e95e-44b4-ba69-2759cd96efe9",
   "metadata": {},
   "outputs": [
    {
     "data": {
      "text/plain": [
       "(10000,)"
      ]
     },
     "execution_count": 6,
     "metadata": {},
     "output_type": "execute_result"
    }
   ],
   "source": [
    "Y_test.shape"
   ]
  },
  {
   "cell_type": "code",
   "execution_count": 7,
   "id": "d3c52fac-89a4-4fe3-be04-9185d4e5f321",
   "metadata": {},
   "outputs": [
    {
     "data": {
      "text/plain": [
       "(10000, 784)"
      ]
     },
     "execution_count": 7,
     "metadata": {},
     "output_type": "execute_result"
    }
   ],
   "source": [
    "X_test.shape"
   ]
  },
  {
   "cell_type": "code",
   "execution_count": 8,
   "id": "c3270045-73f0-4759-bc72-d1106414aa11",
   "metadata": {},
   "outputs": [],
   "source": [
    "model = LogisticRegression()"
   ]
  },
  {
   "cell_type": "code",
   "execution_count": 9,
   "id": "236f94f9-00e9-4e01-af54-40547e94b4c1",
   "metadata": {},
   "outputs": [],
   "source": [
    "lambda_ = 1\n",
    "decimals = 8"
   ]
  },
  {
   "cell_type": "code",
   "execution_count": 10,
   "id": "3eeee363-b864-4bbd-9b1e-218239c28f69",
   "metadata": {},
   "outputs": [
    {
     "name": "stdout",
     "output_type": "stream",
     "text": [
      "Epoch  1/10 Loss: 5.75849272   \n",
      "Epoch  2/10 Loss: 5.72698539   \n",
      "Epoch  3/10 Loss: 5.69851049   \n",
      "Epoch  4/10 Loss: 5.67326499   \n",
      "Epoch  5/10 Loss: 5.65146937   \n",
      "Epoch  6/10 Loss: 5.63337285   \n",
      "Epoch  7/10 Loss: 5.61925724   \n",
      "Epoch  8/10 Loss: 5.60944132   \n",
      "Epoch  9/10 Loss: 5.60428494   \n",
      "Epoch 10/10 Loss: 5.60419224   \n"
     ]
    }
   ],
   "source": [
    "model.fit(X, Y, learning_rate=1e-2, optimizer=None, decay=False, \n",
    "              batch_size=10000, epochs=10, lambda_=lambda_, bias=True, verbose=True)"
   ]
  },
  {
   "cell_type": "code",
   "execution_count": 11,
   "id": "2cf2c027",
   "metadata": {},
   "outputs": [
    {
     "data": {
      "text/plain": [
       "array([[ 0.00556083,  0.01434923, -0.00175958, -0.00887163, -0.02017395,\n",
       "        -0.01664817, -0.01380484, -0.00885358, -0.00946586, -0.02120457],\n",
       "       [-0.01150624,  0.0065214 ,  0.00108234, -0.00789496,  0.00034152,\n",
       "         0.00909735, -0.00291843,  0.00602694,  0.00933358,  0.01264308],\n",
       "       [-0.01330007, -0.00455251,  0.00499492, -0.00668288,  0.01111788,\n",
       "         0.02698616,  0.01149344, -0.01726163,  0.00624302, -0.00415116],\n",
       "       [-0.0114587 ,  0.00367616,  0.00628537, -0.00365659,  0.01034959,\n",
       "         0.00707709,  0.00713788,  0.0050452 ,  0.0174926 , -0.00966006],\n",
       "       [ 0.00158571, -0.00046047,  0.00212314,  0.0090467 ,  0.00333473,\n",
       "        -0.00461602, -0.00479476,  0.00013571,  0.00250843,  0.01616682]])"
      ]
     },
     "execution_count": 11,
     "metadata": {},
     "output_type": "execute_result"
    }
   ],
   "source": [
    "model.params['weights'][:5]"
   ]
  },
  {
   "cell_type": "code",
   "execution_count": 12,
   "id": "f1c06078",
   "metadata": {},
   "outputs": [
    {
     "data": {
      "text/plain": [
       "array([[0.05922237, 0.06741569, 0.05957353, 0.06130327, 0.05841446,\n",
       "        0.05420525, 0.05917368, 0.06264473, 0.05850298, 0.05948404]])"
      ]
     },
     "execution_count": 12,
     "metadata": {},
     "output_type": "execute_result"
    }
   ],
   "source": [
    "model.params['bias']"
   ]
  },
  {
   "cell_type": "code",
   "execution_count": 13,
   "id": "59c7ec28-2522-473d-83e0-2d44035a68e6",
   "metadata": {},
   "outputs": [
    {
     "data": {
      "text/plain": [
       "(10000, 784)"
      ]
     },
     "execution_count": 13,
     "metadata": {},
     "output_type": "execute_result"
    }
   ],
   "source": [
    "X_test.shape"
   ]
  },
  {
   "cell_type": "code",
   "execution_count": 14,
   "id": "60d13a81-e8ef-4d6e-8c24-12c720c0f57e",
   "metadata": {},
   "outputs": [],
   "source": [
    "test_predictions = model.predict(X_test, 1000)"
   ]
  },
  {
   "cell_type": "code",
   "execution_count": 15,
   "id": "cd84e382-d74b-4127-b3ef-37950999b3fa",
   "metadata": {},
   "outputs": [
    {
     "name": "stdout",
     "output_type": "stream",
     "text": [
      "(10000,)\n"
     ]
    }
   ],
   "source": [
    "print(test_predictions.shape)"
   ]
  },
  {
   "cell_type": "markdown",
   "id": "ee44c7d8-8593-4e40-8ff5-02ed9abd505b",
   "metadata": {},
   "source": [
    "Let compute the test accuracy of our model, our model is about 67% accurate."
   ]
  },
  {
   "cell_type": "code",
   "execution_count": 16,
   "id": "476e14c9-a846-494c-9e45-87dfd73c5b77",
   "metadata": {},
   "outputs": [
    {
     "data": {
      "text/plain": [
       "66.74"
      ]
     },
     "execution_count": 16,
     "metadata": {},
     "output_type": "execute_result"
    }
   ],
   "source": [
    "test_accuracy = (len(Y_test[np.where(Y_test == test_predictions)]) / len(Y_test)) * 100\n",
    "test_accuracy"
   ]
  },
  {
   "cell_type": "code",
   "execution_count": 17,
   "id": "68197970-10d7-401d-bfb2-c672ea1a117a",
   "metadata": {},
   "outputs": [
    {
     "data": {
      "text/plain": [
       "0.6674"
      ]
     },
     "execution_count": 17,
     "metadata": {},
     "output_type": "execute_result"
    }
   ],
   "source": [
    "accuracy_score(Y_test, test_predictions)"
   ]
  },
  {
   "cell_type": "markdown",
   "id": "2c8fada4-3dbf-44fe-9410-fcb235f0f041",
   "metadata": {},
   "source": [
    "Let us verify this by viewing and comparing the first 10 predictions of our model with the first 10 values of the y test ground truth label."
   ]
  },
  {
   "cell_type": "code",
   "execution_count": 18,
   "id": "f5706d32-03cc-4a12-bb74-b4399cda355f",
   "metadata": {},
   "outputs": [
    {
     "name": "stdout",
     "output_type": "stream",
     "text": [
      "First 10 predictions of our model: [7 3 1 0 9 1 4 9 0 9]\n",
      "First 10 values of y test label:   [7 2 1 0 4 1 4 9 5 9]\n"
     ]
    }
   ],
   "source": [
    "print('First 10 predictions of our model:', test_predictions[:10])\n",
    "print('First 10 values of y test label:  ', Y_test[:10])"
   ]
  },
  {
   "cell_type": "code",
   "execution_count": 19,
   "id": "b0d72738-1920-4406-9465-47cb2fcb4bc1",
   "metadata": {},
   "outputs": [],
   "source": [
    "idx = np.where(Y_test != test_predictions)\n",
    "correct_labels = Y_test[idx]\n",
    "incorrect_labels = test_predictions[idx]\n",
    "Incorrect_X = X[idx]"
   ]
  },
  {
   "cell_type": "code",
   "execution_count": 20,
   "id": "bc933718-09db-4605-a2f7-6bf186399e40",
   "metadata": {},
   "outputs": [
    {
     "data": {
      "text/plain": [
       "3326"
      ]
     },
     "execution_count": 20,
     "metadata": {},
     "output_type": "execute_result"
    }
   ],
   "source": [
    "incor_len = len(incorrect_labels)\n",
    "incor_len"
   ]
  },
  {
   "cell_type": "code",
   "execution_count": 21,
   "id": "4c58f947-dc3b-4b5e-be8c-73d7885a3b44",
   "metadata": {},
   "outputs": [],
   "source": [
    "correct_labels = Y_test[Y_test == test_predictions]"
   ]
  },
  {
   "cell_type": "code",
   "execution_count": 22,
   "id": "5e285e0e-af54-4dbc-8ed9-cc3fbfd85be3",
   "metadata": {},
   "outputs": [
    {
     "data": {
      "text/plain": [
       "6674"
      ]
     },
     "execution_count": 22,
     "metadata": {},
     "output_type": "execute_result"
    }
   ],
   "source": [
    "len(correct_labels)"
   ]
  },
  {
   "cell_type": "markdown",
   "id": "da7b6e91-3e68-478c-9fc2-0b5ae1d99096",
   "metadata": {},
   "source": [
    "We can see that our 10 our model predicted 8 correctly. It failed in the third and sixth where it predicted 8 and 9 respectively\n",
    "but the y test actually gives us 2 and 5 respectively. This is about 80% accurate i.e. (8 * 100) / 10 = 80"
   ]
  },
  {
   "cell_type": "code",
   "execution_count": 23,
   "id": "78802b9c-fe94-4590-beae-f7814df4bb43",
   "metadata": {},
   "outputs": [
    {
     "data": {
      "image/png": "[encoded data removed]",
      "text/plain": [
       "<Figure size 640x480 with 1 Axes>"
      ]
     },
     "metadata": {},
     "output_type": "display_data"
    }
   ],
   "source": [
    "confusion_mat = confusion_matrix(Y_test, test_predictions)\n",
    "sns.heatmap(confusion_mat, square=True, annot=True, cbar=False)\n",
    "plt.xlabel('predicted value')\n",
    "plt.ylabel('true value');"
   ]
  },
  {
   "cell_type": "markdown",
   "id": "4de6d735-0380-4a3a-9280-23c0d348a3cb",
   "metadata": {},
   "source": [
    "From the confusion the  heatmap of the confusion matrix, we can see that our model has problem in predicting 2, as it made mistake 10 times predicting it as 8. However, it predicted 0 with an absolute certainty."
   ]
  },
  {
   "cell_type": "markdown",
   "id": "f2a75ec1-b1cb-490b-9007-ff4b6d344e53",
   "metadata": {},
   "source": [
    "Let us check if our model is overfitting by predicting the train X and comparing the predictions with y train label."
   ]
  },
  {
   "cell_type": "code",
   "execution_count": 24,
   "id": "1266dcb4-5df9-4812-aa07-6fb2f7bb49ce",
   "metadata": {},
   "outputs": [],
   "source": [
    "train_predictions = model.predict(X, -1)"
   ]
  },
  {
   "cell_type": "code",
   "execution_count": 25,
   "id": "e7791d82-add8-41d0-a2b2-1d5614aa33e0",
   "metadata": {},
   "outputs": [
    {
     "data": {
      "text/plain": [
       "65.96833333333333"
      ]
     },
     "execution_count": 25,
     "metadata": {},
     "output_type": "execute_result"
    }
   ],
   "source": [
    "train_accuracy = (len(Y[np.where(Y == train_predictions)]) / len(Y)) * 100\n",
    "train_accuracy"
   ]
  },
  {
   "cell_type": "code",
   "execution_count": 26,
   "id": "3433fb6d-b351-4866-b541-eb2ca997eee3",
   "metadata": {},
   "outputs": [],
   "source": [
    "correct_labels = Y[Y == train_predictions]"
   ]
  },
  {
   "cell_type": "code",
   "execution_count": 27,
   "id": "73f09dbf-1690-43b9-a3a8-08d12892593e",
   "metadata": {},
   "outputs": [
    {
     "data": {
      "text/plain": [
       "39581"
      ]
     },
     "execution_count": 27,
     "metadata": {},
     "output_type": "execute_result"
    }
   ],
   "source": [
    "len(correct_labels)"
   ]
  },
  {
   "cell_type": "code",
   "execution_count": 28,
   "id": "a6c2c8f6-404b-4105-9be0-aa7cc0aa3ea9",
   "metadata": {},
   "outputs": [],
   "source": [
    "incorrect_labels = Y[Y != train_predictions]"
   ]
  },
  {
   "cell_type": "code",
   "execution_count": 29,
   "id": "a66955df-f752-49b5-9f9e-743245f743da",
   "metadata": {},
   "outputs": [
    {
     "data": {
      "text/plain": [
       "20419"
      ]
     },
     "execution_count": 29,
     "metadata": {},
     "output_type": "execute_result"
    }
   ],
   "source": [
    "len(incorrect_labels)"
   ]
  },
  {
   "cell_type": "markdown",
   "id": "c13589a2-595c-47e8-aebe-32a22d7220b2",
   "metadata": {},
   "source": [
    "We can see our model still maintain about the same accuracy in both test and train predictions. We safely conclude that our model is \n",
    "performing well."
   ]
  },
  {
   "cell_type": "code",
   "execution_count": 30,
   "id": "2a587c0f-1dd3-48c1-a61d-0413d61d83a9",
   "metadata": {},
   "outputs": [
    {
     "name": "stdout",
     "output_type": "stream",
     "text": [
      "First 10 predictions of our model on train X: [3 0 4 8 9 2 1 3 1 4]\n",
      "First 10 values of y train label:             [5 0 4 1 9 2 1 3 1 4]\n"
     ]
    }
   ],
   "source": [
    "print('First 10 predictions of our model on train X:', train_predictions[:10])\n",
    "print('First 10 values of y train label:            ', Y[:10])"
   ]
  },
  {
   "cell_type": "markdown",
   "id": "81e5c865-0fed-483f-ae72-59682f59ff98",
   "metadata": {},
   "source": [
    "We can see that our 10 our model predicted 9 correctly. It failed in the sixth value where it predicted 8 instead of 2 that the y train actually gives us. This is about 90% accurate i.e. (9 * 100) / 10 = 90"
   ]
  },
  {
   "cell_type": "markdown",
   "id": "07adae5a",
   "metadata": {},
   "source": [
    "Our model is really fitting the datal well."
   ]
  },
  {
   "cell_type": "code",
   "execution_count": 31,
   "id": "d813261f",
   "metadata": {},
   "outputs": [],
   "source": [
    "best_weights, best_bias, lowest_cost, best_iteration = model.get_best_params()"
   ]
  },
  {
   "cell_type": "code",
   "execution_count": 32,
   "id": "38816a96-b613-4c97-8210-6b303a23383c",
   "metadata": {},
   "outputs": [
    {
     "data": {
      "text/plain": [
       "5.5880561428058275"
      ]
     },
     "execution_count": 32,
     "metadata": {},
     "output_type": "execute_result"
    }
   ],
   "source": [
    "lowest_cost"
   ]
  },
  {
   "cell_type": "code",
   "execution_count": 33,
   "id": "ef739ccb-c6df-4894-bf41-d7d4901de7e9",
   "metadata": {},
   "outputs": [
    {
     "data": {
      "text/plain": [
       "array([[0.0533004 , 0.06067399, 0.0536162 , 0.05517299, 0.05257292,\n",
       "        0.04878463, 0.05325631, 0.05638019, 0.05265278, 0.0535356 ]])"
      ]
     },
     "execution_count": 33,
     "metadata": {},
     "output_type": "execute_result"
    }
   ],
   "source": [
    "best_bias[:5]"
   ]
  },
  {
   "cell_type": "code",
   "execution_count": 34,
   "id": "d620b7fa-6f1f-4581-8cd6-3e47b690b9e6",
   "metadata": {},
   "outputs": [
    {
     "data": {
      "text/plain": [
       "array([[ 0.00556087,  0.01434931, -0.00175959, -0.00887169, -0.02017407,\n",
       "        -0.01664827, -0.01380493, -0.00885363, -0.00946591, -0.02120469],\n",
       "       [-0.01150631,  0.00652144,  0.00108235, -0.00789501,  0.00034152,\n",
       "         0.00909741, -0.00291844,  0.00602698,  0.00933364,  0.01264315],\n",
       "       [-0.01330015, -0.00455253,  0.00499495, -0.00668292,  0.01111795,\n",
       "         0.02698632,  0.01149351, -0.01726174,  0.00624306, -0.00415119],\n",
       "       [-0.01145877,  0.00367618,  0.00628541, -0.00365661,  0.01034965,\n",
       "         0.00707714,  0.00713792,  0.00504523,  0.01749271, -0.00966012],\n",
       "       [ 0.00158572, -0.00046047,  0.00212315,  0.00904676,  0.00333475,\n",
       "        -0.00461604, -0.00479479,  0.00013571,  0.00250844,  0.01616692]])"
      ]
     },
     "execution_count": 34,
     "metadata": {},
     "output_type": "execute_result"
    }
   ],
   "source": [
    "best_weights[:5]"
   ]
  },
  {
   "cell_type": "code",
   "execution_count": 35,
   "id": "28b6a0c0-eafa-4e21-b583-b8e49741a3c5",
   "metadata": {},
   "outputs": [
    {
     "data": {
      "text/plain": [
       "(60,)"
      ]
     },
     "execution_count": 35,
     "metadata": {},
     "output_type": "execute_result"
    }
   ],
   "source": [
    "costs = np.array(model.costs)\n",
    "costs.shape"
   ]
  },
  {
   "cell_type": "code",
   "execution_count": 36,
   "id": "3ff99af4-65e1-4806-abcf-c631180b33c4",
   "metadata": {},
   "outputs": [
    {
     "data": {
      "image/png": "[encoded data removed]",
      "text/plain": [
       "<Figure size 640x480 with 1 Axes>"
      ]
     },
     "metadata": {},
     "output_type": "display_data"
    }
   ],
   "source": [
    "plt.plot(np.arange(len(model.iterations)), costs)\n",
    "plt.title('The plot of cost against the iterations')\n",
    "plt.xlabel('iterations')\n",
    "plt.ylabel('Cost')\n",
    "plt.show();"
   ]
  },
  {
   "cell_type": "code",
   "execution_count": 37,
   "id": "da435c44-13fa-4458-a388-9c3ee4e61eb9",
   "metadata": {},
   "outputs": [
    {
     "name": "stdout",
     "output_type": "stream",
     "text": [
      "Model saved to handwritten_digits_model.pkl\n"
     ]
    }
   ],
   "source": [
    "model.save('handwritten_digits_model.pkl')"
   ]
  },
  {
   "cell_type": "code",
   "execution_count": 38,
   "id": "c11abe9e-80ff-4917-8eff-9adfabee5f7e",
   "metadata": {},
   "outputs": [
    {
     "name": "stdout",
     "output_type": "stream",
     "text": [
      "Model loaded from handwritten_digits_model.pkl\n"
     ]
    }
   ],
   "source": [
    "loaded_model = model.load('handwritten_digits_model.pkl')"
   ]
  },
  {
   "cell_type": "code",
   "execution_count": 39,
   "id": "2bba234e-b684-40dc-b33b-f33cc8fa39d7",
   "metadata": {},
   "outputs": [
    {
     "data": {
      "text/plain": [
       "66.74"
      ]
     },
     "execution_count": 39,
     "metadata": {},
     "output_type": "execute_result"
    }
   ],
   "source": [
    "test_predictions = loaded_model.predict(X_test, -1)\n",
    "test_accuracy = (len(Y_test[np.where(Y_test == test_predictions)]) / len(Y_test)) * 100\n",
    "test_accuracy"
   ]
  },
  {
   "cell_type": "code",
   "execution_count": 40,
   "id": "f079d345-8bdf-492e-9c6b-19dc18c381bd",
   "metadata": {},
   "outputs": [
    {
     "data": {
      "text/plain": [
       "65.96833333333333"
      ]
     },
     "execution_count": 40,
     "metadata": {},
     "output_type": "execute_result"
    }
   ],
   "source": [
    "train_predictions = loaded_model.predict(X, -1)\n",
    "train_accuracy = (len(Y[np.where(Y == train_predictions)]) / len(Y)) * 100\n",
    "train_accuracy"
   ]
  },
  {
   "cell_type": "code",
   "execution_count": null,
   "id": "656f21c6-f4cb-4ede-b287-665efeeb05f8",
   "metadata": {},
   "outputs": [],
   "source": []
  }
 ],
 "metadata": {
  "kernelspec": {
   "display_name": "Python 3 (ipykernel)",
   "language": "python",
   "name": "python3"
  },
  "language_info": {
   "codemirror_mode": {
    "name": "ipython",
    "version": 3
   },
   "file_extension": ".py",
   "mimetype": "text/x-python",
   "name": "python",
   "nbconvert_exporter": "python",
   "pygments_lexer": "ipython3",
   "version": "3.11.7"
  }
 },
 "nbformat": 4,
 "nbformat_minor": 5
}
