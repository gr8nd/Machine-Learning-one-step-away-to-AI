{
 "cells": [
  {
   "cell_type": "code",
   "execution_count": 1,
   "id": "385f3142-2c89-45d3-8af4-a0bd43019b4c",
   "metadata": {},
   "outputs": [],
   "source": [
    "\"\"\"@author Okorie Ndubuisi March 2025\"\"\"\n",
    "import numpy as np\n",
    "import matplotlib.pyplot as plt\n",
    "from logisticregression import LogisticRegression\n",
    "import seaborn as sns\n",
    "import pandas as pd\n",
    "sns.set_theme()"
   ]
  },
  {
   "cell_type": "code",
   "execution_count": 2,
   "id": "a1817d8f-96de-498a-8c14-765b21207c48",
   "metadata": {},
   "outputs": [
    {
     "data": {
      "image/png": "[encoded data removed]",
      "text/plain": [
       "<Figure size 600x600 with 64 Axes>"
      ]
     },
     "metadata": {},
     "output_type": "display_data"
    }
   ],
   "source": [
    "from sklearn.datasets import load_digits\n",
    "digits = load_digits(n_class=10)\n",
    "fig, ax = plt.subplots(8, 8, figsize=(6, 6))\n",
    "for i, axi in enumerate(ax.flat):\n",
    "    axi.imshow(digits.images[i], cmap='binary')\n",
    "    axi.set(xticks=[], yticks=[])"
   ]
  },
  {
   "cell_type": "code",
   "execution_count": 3,
   "id": "7769f9d4-18d0-490f-b58c-50d49a7eeb3f",
   "metadata": {},
   "outputs": [],
   "source": [
    "X = np.array(digits.data[:200, :], dtype=np.float64)\n",
    "Y = digits.target[:200]\n",
    "\n",
    "X_test = digits.data[200:, :]\n",
    "Y_true = digits.target[200:]"
   ]
  },
  {
   "cell_type": "code",
   "execution_count": 4,
   "id": "bafc354b-0fc2-4ada-8c7d-3b6b2e6f72f6",
   "metadata": {},
   "outputs": [
    {
     "data": {
      "text/plain": [
       "(200, 64)"
      ]
     },
     "execution_count": 4,
     "metadata": {},
     "output_type": "execute_result"
    }
   ],
   "source": [
    "X.shape"
   ]
  },
  {
   "cell_type": "code",
   "execution_count": 5,
   "id": "7c4f6b76-e278-4954-9e1a-f57c026f6191",
   "metadata": {},
   "outputs": [
    {
     "data": {
      "text/plain": [
       "(200,)"
      ]
     },
     "execution_count": 5,
     "metadata": {},
     "output_type": "execute_result"
    }
   ],
   "source": [
    "Y.shape"
   ]
  },
  {
   "cell_type": "code",
   "execution_count": 6,
   "id": "c3270045-73f0-4759-bc72-d1106414aa11",
   "metadata": {},
   "outputs": [],
   "source": [
    "model = LogisticRegression()"
   ]
  },
  {
   "cell_type": "code",
   "execution_count": null,
   "id": "236f94f9-00e9-4e01-af54-40547e94b4c1",
   "metadata": {},
   "outputs": [],
   "source": [
    "K = 10\n",
    "W = np.zeros(shape=(X.shape[1], K))\n",
    "b = np.zeros(shape=(1, K))\n",
    "lambda_ = 1\n",
    "num_iters = 100000\n",
    "decimals = 8"
   ]
  },
  {
   "cell_type": "code",
   "execution_count": 8,
   "id": "3eeee363-b864-4bbd-9b1e-218239c28f69",
   "metadata": {},
   "outputs": [
    {
     "name": "stdout",
     "output_type": "stream",
     "text": [
      "Running epoch 1 / 1\n",
      "Running mini-batch 1 / 1\n",
      "Iteration    0: Cost 3.80043977   \n",
      "Iteration 10000: Cost 3.79062895   \n",
      "Iteration 20000: Cost 3.77823454   \n",
      "Iteration 30000: Cost 3.76466065   \n",
      "Iteration 40000: Cost 3.75088473   \n",
      "Iteration 50000: Cost 3.73722050   \n",
      "Iteration 60000: Cost 3.72380088   \n",
      "Iteration 70000: Cost 3.71058934   \n",
      "Iteration 80000: Cost 3.69759323   \n",
      "Iteration 90000: Cost 3.68490298   \n",
      "Iteration 99999: Cost 3.67254075   \n"
     ]
    }
   ],
   "source": [
    "d = model.fit(X, Y, W, b, learning_rate=1e-8, optimizer='adam', num_iters=num_iters, epochs=1, lambda_=lambda_)\n",
    "W = d['W']\n",
    "b = d['b']\n",
    "costs = d['costs']\n",
    "W_history = d['W_history']\n",
    "b_history = d['W_history']\n",
    "iterations = d['iterations']"
   ]
  },
  {
   "cell_type": "code",
   "execution_count": 9,
   "id": "2cf2c027",
   "metadata": {},
   "outputs": [
    {
     "data": {
      "text/plain": [
       "array([[ 0.00000000e+00,  0.00000000e+00,  0.00000000e+00,\n",
       "         0.00000000e+00,  0.00000000e+00,  0.00000000e+00,\n",
       "         0.00000000e+00,  0.00000000e+00,  0.00000000e+00,\n",
       "         0.00000000e+00],\n",
       "       [-2.07016299e-03, -2.06707284e-03, -1.78473155e-03,\n",
       "         2.01043817e-03, -1.37119767e-03,  2.00954523e-03,\n",
       "        -2.01026055e-03, -2.08672301e-03, -1.80372584e-03,\n",
       "        -1.93660791e-03],\n",
       "       [-1.28153607e-03, -2.06794618e-03, -3.22155178e-04,\n",
       "         2.00229015e-03, -2.05031823e-03,  2.00359547e-03,\n",
       "        -1.90629798e-03, -1.08388174e-03, -8.92356869e-04,\n",
       "         1.17067387e-03],\n",
       "       [ 1.89406677e-03, -1.87544719e-03, -1.11636556e-03,\n",
       "         1.99566081e-03, -1.53786645e-03,  1.94995763e-03,\n",
       "         1.53211353e-03,  1.97254144e-03, -9.26374096e-04,\n",
       "         1.97166276e-03],\n",
       "       [-7.34575570e-04, -1.34438742e-04, -1.20789031e-03,\n",
       "         1.98990997e-03,  1.97306893e-03,  2.92317571e-05,\n",
       "        -4.29154992e-04,  1.26991004e-03, -7.61111356e-05,\n",
       "        -1.34021551e-03]])"
      ]
     },
     "execution_count": 9,
     "metadata": {},
     "output_type": "execute_result"
    }
   ],
   "source": [
    "W[:5]"
   ]
  },
  {
   "cell_type": "code",
   "execution_count": 10,
   "id": "f1c06078",
   "metadata": {},
   "outputs": [
    {
     "data": {
      "text/plain": [
       "array([[-6.82437418e-04,  1.95803605e-03,  1.96186516e-03,\n",
       "         1.96304165e-03,  1.91603506e-03,  1.93057194e-03,\n",
       "         3.75259629e-04,  8.35604563e-06, -1.03108312e-03,\n",
       "         7.59880694e-04]])"
      ]
     },
     "execution_count": 10,
     "metadata": {},
     "output_type": "execute_result"
    }
   ],
   "source": [
    "b"
   ]
  },
  {
   "cell_type": "code",
   "execution_count": 11,
   "id": "dbcb5a8b-959a-4d0e-8593-a657f31cc4e1",
   "metadata": {},
   "outputs": [
    {
     "name": "stdout",
     "output_type": "stream",
     "text": [
      "(64, 10)\n",
      "(1, 10)\n"
     ]
    }
   ],
   "source": [
    "print(W.shape)\n",
    "print(b.shape)"
   ]
  },
  {
   "cell_type": "code",
   "execution_count": 12,
   "id": "59c7ec28-2522-473d-83e0-2d44035a68e6",
   "metadata": {},
   "outputs": [
    {
     "data": {
      "text/plain": [
       "(1597, 64)"
      ]
     },
     "execution_count": 12,
     "metadata": {},
     "output_type": "execute_result"
    }
   ],
   "source": [
    "X_test.shape"
   ]
  },
  {
   "cell_type": "code",
   "execution_count": 13,
   "id": "60d13a81-e8ef-4d6e-8c24-12c720c0f57e",
   "metadata": {},
   "outputs": [],
   "source": [
    "test_predictions = model.predict(X_test, W, b)"
   ]
  },
  {
   "cell_type": "code",
   "execution_count": 14,
   "id": "cd84e382-d74b-4127-b3ef-37950999b3fa",
   "metadata": {},
   "outputs": [
    {
     "name": "stdout",
     "output_type": "stream",
     "text": [
      "(1597,)\n"
     ]
    }
   ],
   "source": [
    "print(test_predictions.shape)"
   ]
  },
  {
   "cell_type": "code",
   "execution_count": 15,
   "id": "476e14c9-a846-494c-9e45-87dfd73c5b77",
   "metadata": {},
   "outputs": [
    {
     "data": {
      "text/plain": [
       "72.94927989981215"
      ]
     },
     "execution_count": 15,
     "metadata": {},
     "output_type": "execute_result"
    }
   ],
   "source": [
    "test_accuracy = (len(Y_true[np.where(Y_true == test_predictions)]) / len(Y_true)) * 100\n",
    "test_accuracy"
   ]
  },
  {
   "cell_type": "code",
   "execution_count": 16,
   "id": "1266dcb4-5df9-4812-aa07-6fb2f7bb49ce",
   "metadata": {},
   "outputs": [],
   "source": [
    "train_predictions = model.predict(X, W, b)"
   ]
  },
  {
   "cell_type": "code",
   "execution_count": 17,
   "id": "e7791d82-add8-41d0-a2b2-1d5614aa33e0",
   "metadata": {},
   "outputs": [
    {
     "data": {
      "text/plain": [
       "97.0"
      ]
     },
     "execution_count": 17,
     "metadata": {},
     "output_type": "execute_result"
    }
   ],
   "source": [
    "train_accuracy = (len(Y[np.where(Y == train_predictions)]) / len(Y)) * 100\n",
    "train_accuracy"
   ]
  },
  {
   "cell_type": "code",
   "execution_count": 18,
   "id": "d813261f",
   "metadata": {},
   "outputs": [],
   "source": [
    "best_weights, best_bias, lowest_cost = model.get_best_params()"
   ]
  },
  {
   "cell_type": "code",
   "execution_count": 19,
   "id": "38816a96-b613-4c97-8210-6b303a23383c",
   "metadata": {},
   "outputs": [
    {
     "data": {
      "text/plain": [
       "3.6725407483126467"
      ]
     },
     "execution_count": 19,
     "metadata": {},
     "output_type": "execute_result"
    }
   ],
   "source": [
    "lowest_cost"
   ]
  },
  {
   "cell_type": "code",
   "execution_count": 20,
   "id": "ef739ccb-c6df-4894-bf41-d7d4901de7e9",
   "metadata": {},
   "outputs": [
    {
     "data": {
      "text/plain": [
       "array([[-6.82437418e-04,  1.95803605e-03,  1.96186516e-03,\n",
       "         1.96304165e-03,  1.91603506e-03,  1.93057194e-03,\n",
       "         3.75259629e-04,  8.35604563e-06, -1.03108312e-03,\n",
       "         7.59880694e-04]])"
      ]
     },
     "execution_count": 20,
     "metadata": {},
     "output_type": "execute_result"
    }
   ],
   "source": [
    "best_bias"
   ]
  },
  {
   "cell_type": "code",
   "execution_count": 21,
   "id": "d620b7fa-6f1f-4581-8cd6-3e47b690b9e6",
   "metadata": {},
   "outputs": [
    {
     "data": {
      "text/plain": [
       "array([[ 0.00000000e+00,  0.00000000e+00,  0.00000000e+00,\n",
       "         0.00000000e+00,  0.00000000e+00,  0.00000000e+00,\n",
       "         0.00000000e+00,  0.00000000e+00,  0.00000000e+00,\n",
       "         0.00000000e+00],\n",
       "       [-2.07016299e-03, -2.06707284e-03, -1.78473155e-03,\n",
       "         2.01043817e-03, -1.37119767e-03,  2.00954523e-03,\n",
       "        -2.01026055e-03, -2.08672301e-03, -1.80372584e-03,\n",
       "        -1.93660791e-03],\n",
       "       [-1.28153607e-03, -2.06794618e-03, -3.22155178e-04,\n",
       "         2.00229015e-03, -2.05031823e-03,  2.00359547e-03,\n",
       "        -1.90629798e-03, -1.08388174e-03, -8.92356869e-04,\n",
       "         1.17067387e-03],\n",
       "       [ 1.89406677e-03, -1.87544719e-03, -1.11636556e-03,\n",
       "         1.99566081e-03, -1.53786645e-03,  1.94995763e-03,\n",
       "         1.53211353e-03,  1.97254144e-03, -9.26374096e-04,\n",
       "         1.97166276e-03],\n",
       "       [-7.34575570e-04, -1.34438742e-04, -1.20789031e-03,\n",
       "         1.98990997e-03,  1.97306893e-03,  2.92317571e-05,\n",
       "        -4.29154992e-04,  1.26991004e-03, -7.61111356e-05,\n",
       "        -1.34021551e-03],\n",
       "       [-1.67310919e-03,  1.99745620e-03,  1.94767778e-03,\n",
       "         1.94784755e-03, -1.85331160e-03,  1.99774259e-03,\n",
       "        -1.78399790e-03,  1.98076819e-03, -1.28089598e-03,\n",
       "        -1.74942326e-03],\n",
       "       [-2.07148283e-03,  2.00021315e-03, -1.59881440e-03,\n",
       "        -1.12957402e-04, -2.07483215e-03,  2.00590807e-03,\n",
       "        -1.10279301e-03,  2.00115788e-03, -1.91411772e-03,\n",
       "        -2.02154095e-03],\n",
       "       [-8.33279181e-04, -2.09336775e-03, -2.08665755e-03,\n",
       "        -2.08796661e-03, -1.22626717e-03, -2.09057018e-03,\n",
       "         4.01238204e-04,  2.01676273e-03, -2.06811044e-03,\n",
       "         2.44989719e-04],\n",
       "       [ 0.00000000e+00,  0.00000000e+00,  0.00000000e+00,\n",
       "         0.00000000e+00,  0.00000000e+00,  0.00000000e+00,\n",
       "         0.00000000e+00,  0.00000000e+00,  0.00000000e+00,\n",
       "         0.00000000e+00],\n",
       "       [-1.28130758e-03, -2.05047898e-03,  2.00226958e-03,\n",
       "         1.99136468e-03, -2.03442001e-03,  2.00667359e-03,\n",
       "        -2.05608310e-03, -1.63621178e-03, -1.52550093e-03,\n",
       "         1.97397157e-03],\n",
       "       [ 1.96542008e-03, -2.06692209e-03,  1.95613806e-03,\n",
       "        -1.57724110e-04, -1.83223869e-03,  1.99356222e-03,\n",
       "        -1.16089622e-03,  1.97852168e-03,  1.97478955e-03,\n",
       "         1.98678255e-03],\n",
       "       [ 1.93232889e-03, -1.60348221e-03,  1.97471780e-03,\n",
       "        -1.29526343e-03,  1.91557578e-03,  1.97455342e-03,\n",
       "         1.40374829e-03,  1.70652921e-03,  1.90800652e-03,\n",
       "         1.96530684e-03],\n",
       "       [ 1.95785848e-03,  1.98169937e-03,  1.97223972e-03,\n",
       "         2.53480097e-04, -1.30304889e-04,  2.71260730e-05,\n",
       "        -1.34849677e-03, -6.05562963e-04, -1.07039325e-03,\n",
       "         6.23837628e-05],\n",
       "       [ 1.97211001e-03,  1.98690724e-03, -8.95849268e-04,\n",
       "         1.97926939e-03, -1.98362022e-03,  1.74723070e-03,\n",
       "        -2.04631782e-03,  1.94407846e-03,  1.99148339e-03,\n",
       "        -8.91431421e-04],\n",
       "       [-1.41117352e-03,  1.96755958e-03,  1.95587419e-03,\n",
       "         1.99976016e-03, -2.05427813e-03, -9.62182109e-04,\n",
       "        -1.27242970e-03,  1.99211902e-03, -1.68264580e-03,\n",
       "        -1.89649617e-03],\n",
       "       [ 0.00000000e+00,  0.00000000e+00,  0.00000000e+00,\n",
       "         0.00000000e+00,  0.00000000e+00,  0.00000000e+00,\n",
       "         0.00000000e+00,  0.00000000e+00,  0.00000000e+00,\n",
       "         0.00000000e+00],\n",
       "       [ 0.00000000e+00,  0.00000000e+00,  0.00000000e+00,\n",
       "         0.00000000e+00,  0.00000000e+00,  0.00000000e+00,\n",
       "         0.00000000e+00,  0.00000000e+00,  0.00000000e+00,\n",
       "         0.00000000e+00],\n",
       "       [ 2.00546983e-03, -1.24730302e-03,  1.99727933e-03,\n",
       "        -2.02494562e-03,  1.98621727e-03,  2.00542972e-03,\n",
       "        -1.97152747e-03, -1.67928327e-03, -1.78360391e-03,\n",
       "        -1.55697594e-04],\n",
       "       [ 1.98835541e-03, -1.58112827e-03, -1.32459991e-03,\n",
       "        -2.07770114e-03,  9.73363006e-04,  1.99944930e-03,\n",
       "         1.63348322e-03, -1.84514864e-03,  1.69025604e-03,\n",
       "         1.99380320e-03],\n",
       "       [-1.13912540e-03,  1.99516277e-03, -1.14041901e-03,\n",
       "        -1.66252298e-03,  1.98652862e-03, -4.15890104e-04,\n",
       "         1.96391530e-03, -1.98037011e-03,  1.97889762e-03,\n",
       "         1.98777226e-03],\n",
       "       [-1.66541983e-03,  1.99984878e-03,  1.97419159e-03,\n",
       "         1.98508755e-03,  1.21381501e-03, -1.91037510e-03,\n",
       "        -1.88876270e-03, -7.92811495e-04,  1.97519141e-03,\n",
       "         1.97748632e-03],\n",
       "       [ 1.98858670e-03,  1.95066386e-03,  1.27650494e-03,\n",
       "         1.73092271e-03, -1.68020018e-03, -1.96733740e-03,\n",
       "        -2.07518151e-03,  1.96740102e-03,  1.99640540e-03,\n",
       "         1.98987261e-03],\n",
       "       [ 1.99783457e-03, -3.19293107e-04,  1.99943979e-03,\n",
       "         1.86376624e-03, -1.32804268e-03, -1.94982436e-03,\n",
       "        -2.06998341e-03,  1.94741467e-03,  1.99223810e-03,\n",
       "        -1.60375650e-03],\n",
       "       [ 0.00000000e+00,  0.00000000e+00,  0.00000000e+00,\n",
       "         0.00000000e+00,  0.00000000e+00,  0.00000000e+00,\n",
       "         0.00000000e+00,  0.00000000e+00,  0.00000000e+00,\n",
       "         0.00000000e+00],\n",
       "       [-2.08577814e-03, -2.09210490e-03, -2.08043858e-03,\n",
       "        -1.48563635e-04,  2.01677733e-03, -2.09752219e-03,\n",
       "        -2.08911057e-03, -2.09238737e-03, -2.08371530e-03,\n",
       "        -1.18175577e-03],\n",
       "       [ 2.00552361e-03,  2.00940975e-03, -1.89055730e-03,\n",
       "        -2.07442364e-03,  1.99988949e-03,  1.99882370e-03,\n",
       "        -1.57495740e-03, -1.75001941e-03, -2.01755183e-03,\n",
       "        -1.99345695e-03],\n",
       "       [ 1.99295514e-03,  2.00507694e-03, -1.97201266e-03,\n",
       "        -2.07168309e-03,  1.97358796e-03,  2.00111424e-03,\n",
       "         1.97901391e-03, -1.68646440e-03, -1.66146691e-03,\n",
       "        -1.24264998e-03],\n",
       "       [-1.82527662e-03,  1.99864155e-03, -1.63156590e-03,\n",
       "        -1.52551073e-03, -3.89090256e-04,  1.99258565e-03,\n",
       "         7.41338273e-04, -1.38790242e-03,  1.99874073e-03,\n",
       "         1.99589607e-03],\n",
       "       [-2.07304501e-03,  1.98704518e-03,  1.98073233e-03,\n",
       "         1.97435634e-03, -5.65669938e-04, -1.18787771e-03,\n",
       "        -1.98030906e-03,  1.94950277e-03,  1.97601800e-03,\n",
       "         1.99175723e-03],\n",
       "       [ 1.96819690e-03,  1.20490153e-03, -1.12899674e-03,\n",
       "        -9.08081101e-04,  1.98155851e-03, -1.93262412e-03,\n",
       "        -2.05937155e-03,  1.99283324e-03, -1.48657220e-03,\n",
       "         2.00238562e-03],\n",
       "       [ 2.00549705e-03, -1.47415690e-03, -1.79832909e-03,\n",
       "        -2.06170594e-03,  2.00279049e-03, -2.07063243e-03,\n",
       "        -2.08345959e-03,  2.00513007e-03, -1.95847706e-03,\n",
       "         2.00392998e-04],\n",
       "       [ 0.00000000e+00,  0.00000000e+00,  0.00000000e+00,\n",
       "         0.00000000e+00,  0.00000000e+00,  0.00000000e+00,\n",
       "         0.00000000e+00,  0.00000000e+00,  0.00000000e+00,\n",
       "         0.00000000e+00],\n",
       "       [ 0.00000000e+00,  0.00000000e+00,  0.00000000e+00,\n",
       "         0.00000000e+00,  0.00000000e+00,  0.00000000e+00,\n",
       "         0.00000000e+00,  0.00000000e+00,  0.00000000e+00,\n",
       "         0.00000000e+00],\n",
       "       [ 2.00131905e-03,  1.98431820e-03, -1.96628653e-03,\n",
       "        -2.06796708e-03,  2.00232983e-03, -1.72907175e-03,\n",
       "        -7.24188988e-04,  1.99168568e-03, -1.77952031e-03,\n",
       "        -2.06996765e-03],\n",
       "       [ 1.98745754e-03,  7.12899974e-04, -1.86574838e-03,\n",
       "        -2.07075701e-03,  1.98014758e-03, -9.61439381e-04,\n",
       "         1.99072151e-03,  1.99717140e-03,  1.13902666e-03,\n",
       "        -2.00285948e-03],\n",
       "       [-1.89729333e-03, -6.70801838e-04,  1.96737344e-03,\n",
       "        -1.89042300e-03,  1.72877310e-03,  1.81008617e-03,\n",
       "         1.97821446e-03,  1.99639015e-03,  1.99282122e-03,\n",
       "        -1.87134802e-03],\n",
       "       [-2.08148018e-03,  1.97914141e-03,  1.97029645e-03,\n",
       "         1.99004141e-03,  1.97608542e-03,  3.97743381e-04,\n",
       "         1.96721232e-03,  1.98423128e-03, -1.08639747e-03,\n",
       "        -1.79668693e-03],\n",
       "       [-1.63319437e-04, -3.83908127e-04, -1.88203021e-03,\n",
       "         1.94490869e-03,  1.99610073e-03, -1.46052287e-03,\n",
       "        -1.18321459e-03,  1.99875586e-03, -1.98298933e-03,\n",
       "         1.99494201e-03],\n",
       "       [ 2.00451567e-03, -1.73028952e-03, -2.07028916e-03,\n",
       "        -1.89522192e-03,  1.99592747e-03, -1.97376091e-03,\n",
       "        -1.88067858e-03,  2.01017858e-03, -2.07561414e-03,\n",
       "         1.99436807e-03],\n",
       "       [ 0.00000000e+00,  0.00000000e+00,  0.00000000e+00,\n",
       "         0.00000000e+00,  0.00000000e+00,  0.00000000e+00,\n",
       "         0.00000000e+00,  0.00000000e+00,  0.00000000e+00,\n",
       "         0.00000000e+00],\n",
       "       [ 0.00000000e+00,  0.00000000e+00,  0.00000000e+00,\n",
       "         0.00000000e+00,  0.00000000e+00,  0.00000000e+00,\n",
       "         0.00000000e+00,  0.00000000e+00,  0.00000000e+00,\n",
       "         0.00000000e+00],\n",
       "       [ 1.99657251e-03, -1.98828555e-03,  2.00977109e-03,\n",
       "        -2.06913507e-03,  1.98281770e-03, -2.04776435e-03,\n",
       "         5.68539375e-04, -6.89717955e-04,  1.97976293e-03,\n",
       "        -2.06823872e-03],\n",
       "       [ 1.99794734e-03, -1.98895312e-03,  1.99954715e-03,\n",
       "        -2.06441492e-03, -5.15127626e-04, -1.99600799e-03,\n",
       "         1.99104880e-03, -8.87575327e-04,  2.00177636e-03,\n",
       "        -2.05377376e-03],\n",
       "       [-1.46166747e-03, -1.27935399e-03,  2.00285270e-03,\n",
       "        -2.03101873e-03,  1.98909379e-03, -1.35338578e-03,\n",
       "         1.98728869e-03,  1.98903756e-03,  3.67149428e-04,\n",
       "        -1.98165972e-03],\n",
       "       [-1.95199085e-03,  1.99174338e-03, -1.57798282e-03,\n",
       "        -7.47293811e-04,  1.98704052e-03,  1.98454739e-03,\n",
       "         1.97730799e-03,  1.97075713e-03,  1.97241277e-03,\n",
       "        -2.00359325e-03],\n",
       "       [ 1.91618632e-03,  2.12098201e-04, -2.07145118e-03,\n",
       "         1.99783591e-03,  1.98012617e-03,  1.27058805e-03,\n",
       "         1.99758662e-03, -1.60704820e-03, -1.63841083e-03,\n",
       "         6.42186194e-04],\n",
       "       [ 1.99404481e-03, -1.90089674e-03, -2.04688772e-03,\n",
       "         1.99171682e-03, -7.96313167e-04, -1.90524053e-03,\n",
       "         2.00401179e-03, -1.93434062e-03, -2.03334136e-03,\n",
       "         2.00022405e-03],\n",
       "       [-2.08922704e-03, -1.36871631e-03, -2.08266222e-03,\n",
       "        -4.71678629e-04, -2.09433921e-03, -2.08205478e-03,\n",
       "         2.01335714e-03, -4.43754224e-04, -2.07407715e-03,\n",
       "        -2.07839103e-03],\n",
       "       [ 0.00000000e+00,  0.00000000e+00,  0.00000000e+00,\n",
       "         0.00000000e+00,  0.00000000e+00,  0.00000000e+00,\n",
       "         0.00000000e+00,  0.00000000e+00,  0.00000000e+00,\n",
       "         0.00000000e+00],\n",
       "       [-7.30670708e-04, -2.06753267e-03,  2.01274797e-03,\n",
       "        -1.27693102e-03, -1.42682167e-03,  1.98511531e-03,\n",
       "        -1.59286104e-03, -2.08140114e-03,  1.27144163e-03,\n",
       "         1.99054209e-03],\n",
       "       [ 1.99755790e-03, -2.05400596e-03,  2.00181498e-03,\n",
       "        -8.45241213e-04, -2.03476558e-03, -1.09383327e-03,\n",
       "         1.98064604e-03, -1.82923008e-03,  2.00357868e-03,\n",
       "        -1.35578264e-03],\n",
       "       [ 1.97205911e-03, -1.53707555e-03,  1.99649749e-03,\n",
       "        -1.06738964e-03, -1.55542081e-03,  1.97685350e-03,\n",
       "         1.99145656e-03,  1.98778618e-03, -1.49182818e-03,\n",
       "        -1.38457175e-03],\n",
       "       [ 2.52730807e-04,  1.97949830e-03,  1.96842219e-03,\n",
       "         1.98070237e-03,  1.97761170e-03,  1.98425166e-03,\n",
       "        -1.15529958e-03, -1.23748554e-03, -9.94227066e-04,\n",
       "        -1.51043854e-03],\n",
       "       [ 1.98718460e-03,  1.97315052e-03, -3.60709376e-04,\n",
       "         1.99730781e-03, -1.62325212e-03, -1.60301566e-03,\n",
       "         1.99221509e-03, -2.02507477e-03, -1.38209114e-03,\n",
       "         8.55172486e-04],\n",
       "       [-1.13607858e-03, -1.97085663e-03,  1.20443122e-03,\n",
       "         1.99771152e-03, -2.07568620e-03, -2.01588407e-03,\n",
       "         2.00934582e-03, -2.02470277e-03, -1.84322824e-03,\n",
       "         2.00051594e-03],\n",
       "       [-2.07930077e-03, -2.05426616e-03,  1.96795244e-03,\n",
       "        -2.07733895e-03, -2.08267801e-03, -2.05596112e-03,\n",
       "         2.01001370e-03, -7.00654760e-04, -2.06729448e-03,\n",
       "         2.00899634e-03],\n",
       "       [ 0.00000000e+00,  0.00000000e+00,  0.00000000e+00,\n",
       "         0.00000000e+00,  0.00000000e+00,  0.00000000e+00,\n",
       "         0.00000000e+00,  0.00000000e+00,  0.00000000e+00,\n",
       "         0.00000000e+00],\n",
       "       [-2.06800835e-03, -2.06197335e-03, -1.74613125e-03,\n",
       "         2.01100228e-03, -1.46755767e-03,  2.00987305e-03,\n",
       "        -1.99943841e-03, -1.93422127e-03, -1.93431901e-03,\n",
       "        -1.90956663e-03],\n",
       "       [-1.29393617e-03, -2.06915336e-03, -1.21612467e-03,\n",
       "         2.00429154e-03, -2.05356684e-03,  2.00227684e-03,\n",
       "        -1.83093042e-03, -8.47505366e-04,  1.15460998e-03,\n",
       "        -4.01227528e-04],\n",
       "       [-2.08664302e-04, -1.86538068e-03, -1.23324881e-03,\n",
       "         1.98913286e-03, -1.50003745e-03,  1.97035167e-03,\n",
       "        -4.70366963e-04,  1.46433520e-03,  1.98606358e-03,\n",
       "         1.96590056e-03],\n",
       "       [-2.86087388e-05,  1.96649217e-03,  1.98067059e-03,\n",
       "         1.97777185e-03,  1.98096254e-03, -1.54301427e-03,\n",
       "         1.96192072e-03, -1.82637015e-03,  1.94590967e-03,\n",
       "         1.94580624e-03],\n",
       "       [-1.16013224e-03,  2.00254695e-03,  2.00655209e-03,\n",
       "        -9.83802387e-04, -1.81874960e-03, -1.96416162e-03,\n",
       "         1.99952597e-03, -2.06999566e-03, -1.59414680e-03,\n",
       "         1.98588772e-03],\n",
       "       [-1.94729017e-03, -1.70522844e-03,  2.01354085e-03,\n",
       "        -1.93475264e-03, -2.07429206e-03, -2.05747642e-03,\n",
       "         2.00493033e-03, -2.05557344e-03, -1.95904773e-03,\n",
       "         2.00290216e-03],\n",
       "       [-2.06955589e-03, -2.05312910e-03,  2.01876123e-03,\n",
       "        -2.09123256e-03, -1.04800306e-03, -2.06638654e-03,\n",
       "        -2.09534974e-03, -2.04466310e-03, -2.07177639e-03,\n",
       "         2.00454554e-03]])"
      ]
     },
     "execution_count": 21,
     "metadata": {},
     "output_type": "execute_result"
    }
   ],
   "source": [
    "best_weights"
   ]
  }
 ],
 "metadata": {
  "kernelspec": {
   "display_name": "Python 3 (ipykernel)",
   "language": "python",
   "name": "python3"
  },
  "language_info": {
   "codemirror_mode": {
    "name": "ipython",
    "version": 3
   },
   "file_extension": ".py",
   "mimetype": "text/x-python",
   "name": "python",
   "nbconvert_exporter": "python",
   "pygments_lexer": "ipython3",
   "version": "3.11.7"
  }
 },
 "nbformat": 4,
 "nbformat_minor": 5
}
