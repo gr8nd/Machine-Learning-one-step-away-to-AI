{
 "cells": [
  {
   "cell_type": "code",
   "execution_count": 1,
   "id": "385f3142-2c89-45d3-8af4-a0bd43019b4c",
   "metadata": {},
   "outputs": [],
   "source": [
    "\"\"\"@author Okorie Ndubuisi March 2025\"\"\"\n",
    "import numpy as np\n",
    "import matplotlib.pyplot as plt\n",
    "from logisticregression import LogisticRegression\n",
    "import seaborn as sns\n",
    "import pandas as pd\n",
    "sns.set_theme()"
   ]
  },
  {
   "cell_type": "code",
   "execution_count": 2,
   "id": "a1817d8f-96de-498a-8c14-765b21207c48",
   "metadata": {},
   "outputs": [
    {
     "data": {
      "image/png": "[encoded data removed]",
      "text/plain": [
       "<Figure size 600x600 with 64 Axes>"
      ]
     },
     "metadata": {},
     "output_type": "display_data"
    }
   ],
   "source": [
    "from sklearn.datasets import load_digits\n",
    "digits = load_digits(n_class=10)\n",
    "fig, ax = plt.subplots(8, 8, figsize=(6, 6))\n",
    "for i, axi in enumerate(ax.flat):\n",
    "    axi.imshow(digits.images[i], cmap='binary')\n",
    "    axi.set(xticks=[], yticks=[])"
   ]
  },
  {
   "cell_type": "code",
   "execution_count": 3,
   "id": "7769f9d4-18d0-490f-b58c-50d49a7eeb3f",
   "metadata": {},
   "outputs": [],
   "source": [
    "X = np.array(digits.data[:200, :], dtype=np.float64)\n",
    "Y = digits.target[:200]\n",
    "\n",
    "X_test = digits.data[200:, :]\n",
    "Y_true = digits.target[200:]"
   ]
  },
  {
   "cell_type": "code",
   "execution_count": 4,
   "id": "bafc354b-0fc2-4ada-8c7d-3b6b2e6f72f6",
   "metadata": {},
   "outputs": [
    {
     "data": {
      "text/plain": [
       "(200, 64)"
      ]
     },
     "execution_count": 4,
     "metadata": {},
     "output_type": "execute_result"
    }
   ],
   "source": [
    "X.shape"
   ]
  },
  {
   "cell_type": "code",
   "execution_count": 5,
   "id": "7c4f6b76-e278-4954-9e1a-f57c026f6191",
   "metadata": {},
   "outputs": [
    {
     "data": {
      "text/plain": [
       "(200,)"
      ]
     },
     "execution_count": 5,
     "metadata": {},
     "output_type": "execute_result"
    }
   ],
   "source": [
    "Y.shape"
   ]
  },
  {
   "cell_type": "code",
   "execution_count": 22,
   "id": "c3270045-73f0-4759-bc72-d1106414aa11",
   "metadata": {},
   "outputs": [],
   "source": [
    "model = LogisticRegression()"
   ]
  },
  {
   "cell_type": "code",
   "execution_count": 23,
   "id": "236f94f9-00e9-4e01-af54-40547e94b4c1",
   "metadata": {},
   "outputs": [],
   "source": [
    "K = 10\n",
    "W = np.zeros(shape=(X.shape[1], K))\n",
    "b = np.zeros(shape=(1, K))\n",
    "lambda_ = 1\n",
    "num_iters = 100000\n",
    "decimals = 8"
   ]
  },
  {
   "cell_type": "code",
   "execution_count": 24,
   "id": "3eeee363-b864-4bbd-9b1e-218239c28f69",
   "metadata": {},
   "outputs": [
    {
     "name": "stdout",
     "output_type": "stream",
     "text": [
      "Running epoch 1 / 1\n",
      "Running mini-batch 1 / 1\n",
      "Iteration    0: Cost 3.80044096   \n",
      "Iteration 10000: Cost 3.79858585   \n",
      "Iteration 20000: Cost 3.79676583   \n",
      "Iteration 30000: Cost 3.79498227   \n",
      "Iteration 40000: Cost 3.79323469   \n",
      "Iteration 50000: Cost 3.79152264   \n",
      "Iteration 60000: Cost 3.78984615   \n",
      "Iteration 70000: Cost 3.78820522   \n",
      "Iteration 80000: Cost 3.78659988   \n",
      "Iteration 90000: Cost 3.78503013   \n",
      "Iteration 99999: Cost 3.78349614   \n"
     ]
    }
   ],
   "source": [
    "d = model.fit(X, Y, W, b, learning_rate=1e-8, optimizer='adam', decay=True, \n",
    "              num_iters=num_iters, epochs=1, lambda_=lambda_, bias=True)\n",
    "W = d['W']\n",
    "b = d['b']\n",
    "costs = d['costs']\n",
    "W_history = d['W_history']\n",
    "b_history = d['W_history']\n",
    "iterations = d['iterations']"
   ]
  },
  {
   "cell_type": "code",
   "execution_count": 25,
   "id": "2cf2c027",
   "metadata": {},
   "outputs": [
    {
     "data": {
      "text/plain": [
       "array([[ 0.        ,  0.        ,  0.        ,  0.        ,  0.        ,\n",
       "         0.        ,  0.        ,  0.        ,  0.        ,  0.        ],\n",
       "       [-0.00223616, -0.00223617,  0.00223658,  0.00223658, -0.00223616,\n",
       "         0.00223658, -0.00223616, -0.00223617,  0.00223658,  0.00223657],\n",
       "       [ 0.00223658,  0.00223654,  0.00223658,  0.00223658,  0.00223654,\n",
       "         0.00223658,  0.00223658,  0.00223658,  0.00223658,  0.00223658],\n",
       "       [ 0.00223658,  0.00223658,  0.00223658,  0.00223658,  0.00223658,\n",
       "         0.00223658,  0.00223658,  0.00223658,  0.00223658,  0.00223658],\n",
       "       [ 0.00223658,  0.00223658,  0.00223658,  0.00223658,  0.00223658,\n",
       "         0.00223658,  0.00223658,  0.00223658,  0.00223658,  0.00223658]])"
      ]
     },
     "execution_count": 25,
     "metadata": {},
     "output_type": "execute_result"
    }
   ],
   "source": [
    "W[:5]"
   ]
  },
  {
   "cell_type": "code",
   "execution_count": 26,
   "id": "f1c06078",
   "metadata": {},
   "outputs": [
    {
     "data": {
      "text/plain": [
       "array([[0.00223658, 0.00223658, 0.00223658, 0.00223658, 0.00223658,\n",
       "        0.00223658, 0.00223658, 0.00223658, 0.00223658, 0.00223658]])"
      ]
     },
     "execution_count": 26,
     "metadata": {},
     "output_type": "execute_result"
    }
   ],
   "source": [
    "b"
   ]
  },
  {
   "cell_type": "code",
   "execution_count": 27,
   "id": "dbcb5a8b-959a-4d0e-8593-a657f31cc4e1",
   "metadata": {},
   "outputs": [
    {
     "name": "stdout",
     "output_type": "stream",
     "text": [
      "(64, 10)\n",
      "(1, 10)\n"
     ]
    }
   ],
   "source": [
    "print(W.shape)\n",
    "print(b.shape)"
   ]
  },
  {
   "cell_type": "code",
   "execution_count": 28,
   "id": "59c7ec28-2522-473d-83e0-2d44035a68e6",
   "metadata": {},
   "outputs": [
    {
     "data": {
      "text/plain": [
       "(1597, 64)"
      ]
     },
     "execution_count": 28,
     "metadata": {},
     "output_type": "execute_result"
    }
   ],
   "source": [
    "X_test.shape"
   ]
  },
  {
   "cell_type": "code",
   "execution_count": 29,
   "id": "60d13a81-e8ef-4d6e-8c24-12c720c0f57e",
   "metadata": {},
   "outputs": [],
   "source": [
    "test_predictions = model.predict(X_test, W, b)"
   ]
  },
  {
   "cell_type": "code",
   "execution_count": 30,
   "id": "cd84e382-d74b-4127-b3ef-37950999b3fa",
   "metadata": {},
   "outputs": [
    {
     "name": "stdout",
     "output_type": "stream",
     "text": [
      "(1597,)\n"
     ]
    }
   ],
   "source": [
    "print(test_predictions.shape)"
   ]
  },
  {
   "cell_type": "code",
   "execution_count": 31,
   "id": "476e14c9-a846-494c-9e45-87dfd73c5b77",
   "metadata": {},
   "outputs": [
    {
     "data": {
      "text/plain": [
       "63.68190356919223"
      ]
     },
     "execution_count": 31,
     "metadata": {},
     "output_type": "execute_result"
    }
   ],
   "source": [
    "test_accuracy = (len(Y_true[np.where(Y_true == test_predictions)]) / len(Y_true)) * 100\n",
    "test_accuracy"
   ]
  },
  {
   "cell_type": "code",
   "execution_count": 32,
   "id": "1266dcb4-5df9-4812-aa07-6fb2f7bb49ce",
   "metadata": {},
   "outputs": [],
   "source": [
    "train_predictions = model.predict(X, W, b)"
   ]
  },
  {
   "cell_type": "code",
   "execution_count": 33,
   "id": "e7791d82-add8-41d0-a2b2-1d5614aa33e0",
   "metadata": {},
   "outputs": [
    {
     "data": {
      "text/plain": [
       "93.0"
      ]
     },
     "execution_count": 33,
     "metadata": {},
     "output_type": "execute_result"
    }
   ],
   "source": [
    "train_accuracy = (len(Y[np.where(Y == train_predictions)]) / len(Y)) * 100\n",
    "train_accuracy"
   ]
  },
  {
   "cell_type": "markdown",
   "id": "07adae5a",
   "metadata": {},
   "source": [
    "Our model is overfitting the data, it seems that we need more data for the model to start performing well."
   ]
  },
  {
   "cell_type": "code",
   "execution_count": 18,
   "id": "d813261f",
   "metadata": {},
   "outputs": [],
   "source": [
    "best_weights, best_bias, lowest_cost = model.get_best_params()"
   ]
  },
  {
   "cell_type": "code",
   "execution_count": 19,
   "id": "38816a96-b613-4c97-8210-6b303a23383c",
   "metadata": {},
   "outputs": [
    {
     "data": {
      "text/plain": [
       "np.float64(3.783485107149585)"
      ]
     },
     "execution_count": 19,
     "metadata": {},
     "output_type": "execute_result"
    }
   ],
   "source": [
    "lowest_cost"
   ]
  },
  {
   "cell_type": "code",
   "execution_count": 20,
   "id": "ef739ccb-c6df-4894-bf41-d7d4901de7e9",
   "metadata": {},
   "outputs": [
    {
     "data": {
      "text/plain": [
       "array([[0.00223658, 0.00223658, 0.00223658, 0.00223658, 0.00223658,\n",
       "        0.00223658, 0.00223658, 0.00223658, 0.00223658, 0.00223658]])"
      ]
     },
     "execution_count": 20,
     "metadata": {},
     "output_type": "execute_result"
    }
   ],
   "source": [
    "best_bias"
   ]
  },
  {
   "cell_type": "code",
   "execution_count": 21,
   "id": "d620b7fa-6f1f-4581-8cd6-3e47b690b9e6",
   "metadata": {},
   "outputs": [
    {
     "data": {
      "text/plain": [
       "array([[ 0.        ,  0.        ,  0.        ,  0.        ,  0.        ,\n",
       "         0.        ,  0.        ,  0.        ,  0.        ,  0.        ],\n",
       "       [-0.00223617, -0.00223618,  0.00223658,  0.00223658, -0.00223617,\n",
       "         0.00223658, -0.00223617, -0.00223618,  0.00223658,  0.00223657],\n",
       "       [ 0.00223658,  0.00223654,  0.00223658,  0.00223658,  0.00223654,\n",
       "         0.00223658,  0.00223658,  0.00223658,  0.00223658,  0.00223658],\n",
       "       [ 0.00223658,  0.00223658,  0.00223658,  0.00223658,  0.00223658,\n",
       "         0.00223658,  0.00223658,  0.00223658,  0.00223658,  0.00223658],\n",
       "       [ 0.00223658,  0.00223658,  0.00223658,  0.00223658,  0.00223658,\n",
       "         0.00223658,  0.00223658,  0.00223658,  0.00223658,  0.00223658],\n",
       "       [ 0.00223658,  0.00223658,  0.00223658,  0.00223658,  0.00223658,\n",
       "         0.00223658,  0.00223658,  0.00223658,  0.00223658,  0.00223658],\n",
       "       [-0.00223635,  0.00223658,  0.00223658,  0.00223658, -0.00223635,\n",
       "         0.00223658, -0.00223635,  0.00223658,  0.00223658, -0.00223636],\n",
       "       [-0.00219423, -0.00219696, -0.00219696, -0.00219544, -0.00219442,\n",
       "        -0.00219644, -0.00219257,  0.00223656, -0.00219696, -0.00219544],\n",
       "       [ 0.        ,  0.        ,  0.        ,  0.        ,  0.        ,\n",
       "         0.        ,  0.        ,  0.        ,  0.        ,  0.        ],\n",
       "       [ 0.00223658, -0.00223645,  0.00223658,  0.00223658,  0.00223656,\n",
       "         0.00223658,  0.00223656,  0.00223658,  0.00223658,  0.00223658],\n",
       "       [ 0.00223658,  0.00223627,  0.00223658,  0.00223658,  0.00223658,\n",
       "         0.00223658,  0.00223658,  0.00223658,  0.00223658,  0.00223658],\n",
       "       [ 0.00223658,  0.00223658,  0.00223658,  0.00223658,  0.00223658,\n",
       "         0.00223658,  0.00223658,  0.00223658,  0.00223658,  0.00223658],\n",
       "       [ 0.00223658,  0.00223658,  0.00223658,  0.00223658,  0.00223658,\n",
       "         0.00223658,  0.00223658,  0.00223658,  0.00223658,  0.00223658],\n",
       "       [ 0.00223658,  0.00223658,  0.00223658,  0.00223658,  0.00223658,\n",
       "         0.00223658,  0.00223658,  0.00223658,  0.00223658,  0.00223658],\n",
       "       [ 0.00223658,  0.00223658,  0.00223658,  0.00223658,  0.00223656,\n",
       "         0.00223658, -0.00223646,  0.00223658,  0.00223658,  0.00223658],\n",
       "       [ 0.        ,  0.        ,  0.        ,  0.        ,  0.        ,\n",
       "         0.        ,  0.        ,  0.        ,  0.        ,  0.        ],\n",
       "       [ 0.        ,  0.        ,  0.        ,  0.        ,  0.        ,\n",
       "         0.        ,  0.        ,  0.        ,  0.        ,  0.        ],\n",
       "       [ 0.00223658,  0.00223658,  0.00223658,  0.00223657,  0.00223658,\n",
       "         0.00223658,  0.00223658,  0.00223658,  0.00223658,  0.00223658],\n",
       "       [ 0.00223658,  0.00223658,  0.00223658,  0.00223646,  0.00223658,\n",
       "         0.00223658,  0.00223658,  0.00223658,  0.00223658,  0.00223658],\n",
       "       [ 0.00223658,  0.00223658,  0.00223658,  0.00223658,  0.00223658,\n",
       "         0.00223658,  0.00223658,  0.00223658,  0.00223658,  0.00223658],\n",
       "       [ 0.00223658,  0.00223658,  0.00223658,  0.00223658,  0.00223658,\n",
       "         0.00223658,  0.00223658,  0.00223658,  0.00223658,  0.00223658],\n",
       "       [ 0.00223658,  0.00223658,  0.00223658,  0.00223658,  0.00223658,\n",
       "         0.00223658, -0.00223656,  0.00223658,  0.00223658,  0.00223658],\n",
       "       [ 0.00223658,  0.00223658,  0.00223658,  0.00223658,  0.00223658,\n",
       "         0.00223658, -0.00223644,  0.00223658,  0.00223658,  0.00223658],\n",
       "       [ 0.        ,  0.        ,  0.        ,  0.        ,  0.        ,\n",
       "         0.        ,  0.        ,  0.        ,  0.        ,  0.        ],\n",
       "       [-0.00219705, -0.00219833, -0.00219841, -0.00219507,  0.00223656,\n",
       "        -0.00219841, -0.00219841, -0.00219841, -0.00219841, -0.00219799],\n",
       "       [ 0.00223658,  0.00223658,  0.00223658, -0.00223649,  0.00223658,\n",
       "         0.00223658,  0.00223658,  0.00223658,  0.00223658,  0.00223658],\n",
       "       [ 0.00223658,  0.00223658,  0.00223658,  0.00223657,  0.00223658,\n",
       "         0.00223658,  0.00223658,  0.00223658,  0.00223658,  0.00223658],\n",
       "       [ 0.00223658,  0.00223658,  0.00223658,  0.00223658,  0.00223658,\n",
       "         0.00223658,  0.00223658,  0.00223658,  0.00223658,  0.00223658],\n",
       "       [ 0.00223657,  0.00223658,  0.00223658,  0.00223658,  0.00223658,\n",
       "         0.00223658,  0.00223658,  0.00223658,  0.00223658,  0.00223658],\n",
       "       [ 0.00223658,  0.00223658,  0.00223658,  0.00223658,  0.00223658,\n",
       "         0.00223658,  0.00223658,  0.00223658,  0.00223658,  0.00223658],\n",
       "       [ 0.00223658,  0.00223658,  0.00223658,  0.00223656,  0.00223658,\n",
       "        -0.00223647, -0.00223647,  0.00223658,  0.00223658,  0.00223658],\n",
       "       [ 0.        ,  0.        ,  0.        ,  0.        ,  0.        ,\n",
       "         0.        ,  0.        ,  0.        ,  0.        ,  0.        ],\n",
       "       [ 0.        ,  0.        ,  0.        ,  0.        ,  0.        ,\n",
       "         0.        ,  0.        ,  0.        ,  0.        ,  0.        ],\n",
       "       [ 0.00223658,  0.00223658,  0.00223658, -0.00223648,  0.00223658,\n",
       "         0.00223658,  0.00223658,  0.00223658,  0.00223658, -0.00223649],\n",
       "       [ 0.00223658,  0.00223658,  0.00223658, -0.00223656,  0.00223658,\n",
       "         0.00223658,  0.00223658,  0.00223658,  0.00223658,  0.00223658],\n",
       "       [ 0.00223658,  0.00223658,  0.00223658,  0.00223658,  0.00223658,\n",
       "         0.00223658,  0.00223658,  0.00223658,  0.00223658,  0.00223658],\n",
       "       [-0.00223656,  0.00223658,  0.00223658,  0.00223658,  0.00223658,\n",
       "         0.00223658,  0.00223658,  0.00223658,  0.00223658,  0.00223658],\n",
       "       [ 0.00223658,  0.00223658,  0.00223658,  0.00223658,  0.00223658,\n",
       "         0.00223658,  0.00223658,  0.00223658,  0.00223658,  0.00223658],\n",
       "       [ 0.00223658,  0.00223658, -0.0022365 ,  0.00223658,  0.00223658,\n",
       "         0.00223658,  0.00223658,  0.00223658, -0.0022365 ,  0.00223658],\n",
       "       [ 0.        ,  0.        ,  0.        ,  0.        ,  0.        ,\n",
       "         0.        ,  0.        ,  0.        ,  0.        ,  0.        ],\n",
       "       [ 0.        ,  0.        ,  0.        ,  0.        ,  0.        ,\n",
       "         0.        ,  0.        ,  0.        ,  0.        ,  0.        ],\n",
       "       [ 0.00223658,  0.00223658,  0.00223658, -0.00223642,  0.00223658,\n",
       "         0.00223656,  0.00223658,  0.00223658,  0.00223658, -0.00223643],\n",
       "       [ 0.00223658,  0.00223658,  0.00223658, -0.00223655,  0.00223658,\n",
       "         0.00223658,  0.00223658,  0.00223658,  0.00223658,  0.00223658],\n",
       "       [ 0.00223658,  0.00223658,  0.00223658,  0.00223658,  0.00223658,\n",
       "         0.00223658,  0.00223658,  0.00223658,  0.00223658,  0.00223658],\n",
       "       [ 0.00223658,  0.00223658,  0.00223658,  0.00223658,  0.00223658,\n",
       "         0.00223658,  0.00223658,  0.00223658,  0.00223658,  0.00223658],\n",
       "       [ 0.00223658,  0.00223658,  0.00223656,  0.00223658,  0.00223658,\n",
       "         0.00223658,  0.00223658,  0.00223658,  0.00223658,  0.00223658],\n",
       "       [ 0.00223658,  0.00223658,  0.00223658,  0.00223658,  0.00223658,\n",
       "         0.00223658,  0.00223658,  0.00223658,  0.00223658,  0.00223658],\n",
       "       [-0.00219727, -0.00219795, -0.00219829, -0.00219549, -0.00219612,\n",
       "        -0.00219753,  0.00223656, -0.00219612, -0.00219795, -0.0021982 ],\n",
       "       [ 0.        ,  0.        ,  0.        ,  0.        ,  0.        ,\n",
       "         0.        ,  0.        ,  0.        ,  0.        ,  0.        ],\n",
       "       [ 0.00223658, -0.00223627,  0.00223658,  0.00223658,  0.00223658,\n",
       "         0.00223658,  0.00223658, -0.00223627,  0.00223658,  0.00223658],\n",
       "       [ 0.00223658,  0.00223657,  0.00223658,  0.00223658,  0.00223658,\n",
       "         0.00223658,  0.00223658,  0.00223658,  0.00223658,  0.00223658],\n",
       "       [ 0.00223658,  0.00223658,  0.00223658,  0.00223658,  0.00223658,\n",
       "         0.00223658,  0.00223658,  0.00223658,  0.00223658,  0.00223658],\n",
       "       [ 0.00223658,  0.00223658,  0.00223658,  0.00223658,  0.00223658,\n",
       "         0.00223658,  0.00223658,  0.00223658,  0.00223658,  0.00223658],\n",
       "       [ 0.00223658,  0.00223658,  0.00223658,  0.00223658,  0.00223658,\n",
       "         0.00223658,  0.00223658,  0.00223658,  0.00223658,  0.00223658],\n",
       "       [ 0.00223658,  0.00223658,  0.00223658,  0.00223658, -0.00223652,\n",
       "         0.00223658,  0.00223658, -0.00223652,  0.00223658,  0.00223658],\n",
       "       [-0.00223405, -0.00223409,  0.00223657, -0.00223401, -0.00223393,\n",
       "        -0.00223403,  0.00223658, -0.00223394, -0.00223408,  0.00223658],\n",
       "       [ 0.        ,  0.        ,  0.        ,  0.        ,  0.        ,\n",
       "         0.        ,  0.        ,  0.        ,  0.        ,  0.        ],\n",
       "       [-0.00223613, -0.00223614,  0.00223658,  0.00223658, -0.00223613,\n",
       "         0.00223658, -0.00223613,  0.00223657,  0.00223657,  0.00223657],\n",
       "       [ 0.00223658,  0.00223654,  0.00223658,  0.00223658, -0.00223655,\n",
       "         0.00223658,  0.00223658,  0.00223658,  0.00223658,  0.00223658],\n",
       "       [ 0.00223658,  0.00223658,  0.00223658,  0.00223658,  0.00223658,\n",
       "         0.00223658,  0.00223658,  0.00223658,  0.00223658,  0.00223658],\n",
       "       [ 0.00223658,  0.00223658,  0.00223658,  0.00223658,  0.00223658,\n",
       "         0.00223658,  0.00223658,  0.00223658,  0.00223658,  0.00223658],\n",
       "       [ 0.00223658,  0.00223658,  0.00223658,  0.00223658,  0.00223658,\n",
       "         0.00223658,  0.00223658,  0.00223652,  0.00223658,  0.00223658],\n",
       "       [ 0.00223658,  0.00223658,  0.00223658,  0.00223658, -0.00223646,\n",
       "        -0.00223646,  0.00223658, -0.00223646,  0.00223658,  0.00223658],\n",
       "       [-0.00223124, -0.00223135,  0.00223658, -0.00223132, -0.00223103,\n",
       "        -0.0022312 , -0.00223133, -0.00223108, -0.00223134,  0.00223658]])"
      ]
     },
     "execution_count": 21,
     "metadata": {},
     "output_type": "execute_result"
    }
   ],
   "source": [
    "best_weights"
   ]
  }
 ],
 "metadata": {
  "kernelspec": {
   "display_name": ".venv",
   "language": "python",
   "name": "python3"
  },
  "language_info": {
   "codemirror_mode": {
    "name": "ipython",
    "version": 3
   },
   "file_extension": ".py",
   "mimetype": "text/x-python",
   "name": "python",
   "nbconvert_exporter": "python",
   "pygments_lexer": "ipython3",
   "version": "3.11.7"
  }
 },
 "nbformat": 4,
 "nbformat_minor": 5
}
