{
 "cells": [
  {
   "cell_type": "code",
   "execution_count": 1,
   "id": "874d2f0e-7406-440d-8f14-cc254187afef",
   "metadata": {},
   "outputs": [
    {
     "ename": "ModuleNotFoundError",
     "evalue": "No module named 'MLAlgorithms'",
     "output_type": "error",
     "traceback": [
      "\u001b[1;31m---------------------------------------------------------------------------\u001b[0m",
      "\u001b[1;31mModuleNotFoundError\u001b[0m                       Traceback (most recent call last)",
      "Cell \u001b[1;32mIn[1], line 7\u001b[0m\n\u001b[0;32m      5\u001b[0m \u001b[38;5;28;01mimport\u001b[39;00m \u001b[38;5;21;01mscipy\u001b[39;00m\u001b[38;5;21;01m.\u001b[39;00m\u001b[38;5;21;01mstats\u001b[39;00m \u001b[38;5;28;01mas\u001b[39;00m \u001b[38;5;21;01mstats\u001b[39;00m \n\u001b[0;32m      6\u001b[0m \u001b[38;5;66;03m#The following imports are my own implementations of the Classification algorithms using Python and Numpy\u001b[39;00m\n\u001b[1;32m----> 7\u001b[0m \u001b[38;5;28;01mfrom\u001b[39;00m \u001b[38;5;21;01mMLAlgorithms\u001b[39;00m\u001b[38;5;21;01m.\u001b[39;00m\u001b[38;5;21;01mSupervised\u001b[39;00m\u001b[38;5;21;01m.\u001b[39;00m\u001b[38;5;21;01mClassification\u001b[39;00m\u001b[38;5;21;01m.\u001b[39;00m\u001b[38;5;21;01mknnclassifier\u001b[39;00m \u001b[38;5;28;01mimport\u001b[39;00m \u001b[38;5;241m*\u001b[39m\n\u001b[0;32m      8\u001b[0m \u001b[38;5;28;01mfrom\u001b[39;00m \u001b[38;5;21;01mMLAlgorithms\u001b[39;00m\u001b[38;5;21;01m.\u001b[39;00m\u001b[38;5;21;01mSupervised\u001b[39;00m\u001b[38;5;21;01m.\u001b[39;00m\u001b[38;5;21;01mClassification\u001b[39;00m\u001b[38;5;21;01m.\u001b[39;00m\u001b[38;5;21;01mlogisticregression\u001b[39;00m \u001b[38;5;28;01mimport\u001b[39;00m \u001b[38;5;241m*\u001b[39m\n",
      "\u001b[1;31mModuleNotFoundError\u001b[0m: No module named 'MLAlgorithms'"
     ]
    }
   ],
   "source": [
    "import numpy as np\n",
    "import pandas as pd\n",
    "import seaborn as sns\n",
    "import matplotlib.pyplot as plt\n",
    "import scipy.stats as stats \n",
    "#The following imports are my own implementations of the Classification algorithms using Python and Numpy\n",
    "from MLAlgorithms.Supervised.Classification.knnclassifier import *\n",
    "from MLAlgorithms.Supervised.Classification.logisticregression import *"
   ]
  },
  {
   "cell_type": "markdown",
   "id": "7c7cc39f-18cc-41ba-9d1c-b4d6d2507c26",
   "metadata": {},
   "source": [
    "The data set of this project was downloaded from Kaggle website https://www.kaggle.com/competitions/titanic\n",
    "\n",
    "### Titanic Disaster\n",
    "\n",
    "### Description of the Data set:\n",
    "\n",
    "The sinking of the Titanic is one of the most infamous shipwrecks in history.\n",
    "\n",
    "On April 15, 1912, during her maiden voyage, the widely considered “unsinkable” RMS Titanic sank after colliding with an iceberg. Unfortunately, there weren’t enough lifeboats for everyone onboard, resulting in the death of 1502 out of 2224 passengers and crew.\n",
    "\n",
    "While there was some element of luck involved in surviving, it seems some groups of people were more likely to survive than others"
   ]
  },
  {
   "cell_type": "markdown",
   "id": "9c586bec-16f1-45ab-acfe-c7d1437af356",
   "metadata": {},
   "source": [
    "Here is a description of the columns of the data set.\n",
    "Survival column is  our response variable where 0 indicates that the passenger did not survive the accident and 1 means the passenger survived  it."
   ]
  },
  {
   "cell_type": "markdown",
   "id": "3ed23c20-a2dc-4ca8-a133-11b443844838",
   "metadata": {},
   "source": [
    "Let us read the data set using Pandas"
   ]
  },
  {
   "cell_type": "code",
   "execution_count": null,
   "id": "97f39222-d51d-443e-8fc4-6ce829ef93fa",
   "metadata": {},
   "outputs": [],
   "source": [
    "titanic = pd.read_csv('titanic/train.csv')\n",
    "response = titanic['Survived']"
   ]
  },
  {
   "cell_type": "markdown",
   "id": "25f382c9-9d1f-455d-8939-3f5f0933697e",
   "metadata": {},
   "source": [
    "We can view the head of the data to see what the data attributes look like."
   ]
  },
  {
   "cell_type": "code",
   "execution_count": null,
   "id": "ca8e5bf2-1372-4fbe-bcd4-d2105b06ad7b",
   "metadata": {},
   "outputs": [],
   "source": [
    "titanic.head()"
   ]
  },
  {
   "cell_type": "markdown",
   "id": "14bd7c9e-3972-472f-bc89-b4c91eada381",
   "metadata": {},
   "source": [
    "Let find out more about the data set"
   ]
  },
  {
   "cell_type": "code",
   "execution_count": null,
   "id": "82199c49-6e7a-4bad-a071-bd2503c14c9a",
   "metadata": {},
   "outputs": [],
   "source": [
    "titanic.info()"
   ]
  },
  {
   "cell_type": "markdown",
   "id": "d683b6b2-2393-4ab3-97e1-3123f64873bc",
   "metadata": {},
   "source": [
    "There are some missing values in the data set, we can find how the number of the missing value."
   ]
  },
  {
   "cell_type": "code",
   "execution_count": null,
   "id": "bd4cd6ca-744f-4d75-9ee9-d2b8b9d896bb",
   "metadata": {},
   "outputs": [],
   "source": [
    "titanic.isnull().sum()"
   ]
  },
  {
   "cell_type": "markdown",
   "id": "2128e8d7-f214-4531-ad00-4ffac9fc87fc",
   "metadata": {},
   "source": [
    "Most of the missing values are in the Cabin column and Age column, and we have 2 missing values in Embarked. We can apply feature engineering to the categorical variables in the data. Drop columns that do not contribute to the survival rate of those on board"
   ]
  },
  {
   "cell_type": "code",
   "execution_count": null,
   "id": "8451e368-5d2b-48f9-b108-ca2a060a0a1e",
   "metadata": {},
   "outputs": [],
   "source": [
    "dropped_cols = ['PassengerId', 'Name', 'Ticket', 'Cabin']"
   ]
  },
  {
   "cell_type": "code",
   "execution_count": null,
   "id": "b8f73c6f-29a5-4b4a-8b13-07b90e74869d",
   "metadata": {},
   "outputs": [],
   "source": [
    "titanic.drop(dropped_cols, axis=1, inplace=True)"
   ]
  },
  {
   "cell_type": "code",
   "execution_count": null,
   "id": "e4e2f6af-030f-414c-916e-882088271e2a",
   "metadata": {},
   "outputs": [],
   "source": [
    "titanic.head()"
   ]
  },
  {
   "cell_type": "markdown",
   "id": "a1c79eab-da92-4f05-9cb4-231eeeb6a1d4",
   "metadata": {},
   "source": [
    "From the data info we can see that we only have some nan values in the Age column, we can handle the Nan values first. We can fill the missing age with the average age of the Age. It seems reasonable to fill the Age with the average of the people on board. We found tha average of the people on board is about 30 years."
   ]
  },
  {
   "cell_type": "code",
   "execution_count": null,
   "id": "f003ecf4-3125-407c-9432-7ce26ba705b9",
   "metadata": {},
   "outputs": [],
   "source": [
    "av_age = titanic.Age.mean()\n",
    "av_age"
   ]
  },
  {
   "cell_type": "code",
   "execution_count": null,
   "id": "c502c932-360b-40db-ae54-741440063ac9",
   "metadata": {},
   "outputs": [],
   "source": [
    "titanic['Age']  = titanic['Age'].fillna(int(np.round(av_age)))"
   ]
  },
  {
   "cell_type": "markdown",
   "id": "80c1f87c-449a-41f2-ba74-c9fa8ab6487a",
   "metadata": {},
   "source": [
    "There are some null  values in Embarked, we will replace  it with the max of the Embarked. We see that majority of the passengers comes from Southampton, so we fill the 2 missing values with S for Southampton."
   ]
  },
  {
   "cell_type": "code",
   "execution_count": null,
   "id": "8197fac9-a443-4f08-b779-88c260d56b10",
   "metadata": {},
   "outputs": [],
   "source": [
    "titanic.groupby('Embarked').count()"
   ]
  },
  {
   "cell_type": "code",
   "execution_count": null,
   "id": "a57d2d8b-332a-4a50-be76-14ee8e8a795c",
   "metadata": {},
   "outputs": [],
   "source": [
    "titanic['Embarked']  = titanic['Embarked'].fillna('S')"
   ]
  },
  {
   "cell_type": "code",
   "execution_count": null,
   "id": "2a196104-a0cc-4615-aba7-ecc6e1da329f",
   "metadata": {},
   "outputs": [],
   "source": [
    "titanic.info()"
   ]
  },
  {
   "cell_type": "markdown",
   "id": "73b22310-3f4a-4f05-bbc3-02e34f2e04f2",
   "metadata": {},
   "source": [
    "There is no longer any missing value in the data set we will be working with."
   ]
  },
  {
   "cell_type": "code",
   "execution_count": null,
   "id": "b3ecf56d-f0a1-42df-af8d-7d60da59f885",
   "metadata": {},
   "outputs": [],
   "source": [
    "titanic.describe()"
   ]
  },
  {
   "cell_type": "code",
   "execution_count": null,
   "id": "de41b407-921e-4512-8d5b-2d9318173f98",
   "metadata": {},
   "outputs": [],
   "source": [
    "titanic.groupby('Sex').count()"
   ]
  },
  {
   "cell_type": "markdown",
   "id": "3de5f4d6-0c7e-41da-a7a2-53b10d41cc25",
   "metadata": {},
   "source": [
    "It seems that the values of both Age and Fare deviate way too much from the rest of the data, so scaling will be useful. Let us first apply the above feature engineering to our test data."
   ]
  },
  {
   "cell_type": "markdown",
   "id": "985d4f2e-c169-4495-bba2-28340f82ea65",
   "metadata": {},
   "source": [
    "### Define hypothesis (Null and Alternative)\n",
    "\n",
    "The next step is to define the hypothesis to be tested. Hypothesis is defined in two ways - null hypothesis and alternative hypothesis. Null hypothesis is a statistical hypothesis which assumes that the difference in observations is due to a random factor. It is denoted by Ho. Alternative hypothesis is the opposite of null hypothesis. It assumes that the difference in observations is the result of a real effect. The alternate hypothesis is denoted by H1.."
   ]
  },
  {
   "cell_type": "markdown",
   "id": "bbf66c64-9191-4412-99e2-453de55df7fb",
   "metadata": {},
   "source": [
    "### First Hypothesis\n",
    "\n",
    "$ 𝐻_{0}: $ There is no difference between the survival of male and female.\\\n",
    "$ 𝐻_{A}: $ There is a difference between the survival of male and the female."
   ]
  },
  {
   "cell_type": "markdown",
   "id": "d5341cb3-6d59-4de5-b417-0a5ee37579a6",
   "metadata": {},
   "source": [
    "### Second Hypothesis\n",
    "\n",
    "$ 𝐻_{0}: $ There survival depends on the age of the passenger.\\\n",
    "$ 𝐻_{A}: $ There is no relationship between the survival and age of those on board."
   ]
  },
  {
   "cell_type": "markdown",
   "id": "62b373c6-9df6-4985-8cd2-fe0f4caf6baa",
   "metadata": {},
   "source": [
    "### Third Hypothesis\n",
    "\n",
    "$ 𝐻_{0}: $ The survival depends on the socio-economic status of the passengers. First class passengers survived more than second and third class.\\\n",
    "$ 𝐻_{A}: $ There is no relationship between the survival and socio-economic status of those on board."
   ]
  },
  {
   "cell_type": "code",
   "execution_count": null,
   "id": "32990d47-6204-41b0-b94f-b466ca349892",
   "metadata": {},
   "outputs": [],
   "source": [
    "female=titanic.loc[titanic.Sex==\"female\"]\n",
    "male=titanic.loc[titanic.Sex==\"male\"]"
   ]
  },
  {
   "cell_type": "markdown",
   "id": "2e71a3f7-9e42-4e06-a0a3-f4b11bc10f17",
   "metadata": {},
   "source": [
    "Let us Test the first hypothesis"
   ]
  },
  {
   "cell_type": "code",
   "execution_count": null,
   "id": "66991475-101e-430f-b5cd-453dd5752b5d",
   "metadata": {},
   "outputs": [],
   "source": [
    "survived_female = female.Survived\n",
    "survived_male = male.Survived"
   ]
  },
  {
   "cell_type": "code",
   "execution_count": null,
   "id": "80fa4877-70b4-4443-87a2-5f559fac8614",
   "metadata": {},
   "outputs": [],
   "source": [
    "survived_group = titanic[titanic['Survived'] == 1]\n",
    "sns.displot(survived_group.Sex,color='green')\n",
    "plt.title('Survival of Female vs Male');"
   ]
  },
  {
   "cell_type": "markdown",
   "id": "daf99b67-0a89-40c8-b934-179067e8ca42",
   "metadata": {},
   "source": [
    "From the graph, we already see that the female actually survived more than male."
   ]
  },
  {
   "cell_type": "code",
   "execution_count": null,
   "id": "410db805-dfe3-4d50-9792-dbefa13abe52",
   "metadata": {},
   "outputs": [],
   "source": [
    "print('Female', survived_female.mean())\n",
    "print('Male', survived_male.mean())"
   ]
  },
  {
   "cell_type": "markdown",
   "id": "b1aec2be-c3eb-48b6-b6d2-70ea8b48b8fd",
   "metadata": {},
   "source": [
    "This means about 74% of female on board survived the incident while a handful of 19% of male survived."
   ]
  },
  {
   "cell_type": "markdown",
   "id": "878b6d36-15ba-4caa-a653-eeea016cd971",
   "metadata": {},
   "source": [
    "### Formal Significance Test \n",
    "\n",
    "Next, we will obtain our statistics, t-value and p-value. We will use `scipy.stats` library and `ttest_ind()` function to calculate these parameters.\n",
    "We will Conduct a formal significance test for our first hypotheses and discuss the results"
   ]
  },
  {
   "cell_type": "code",
   "execution_count": null,
   "id": "814873e8-7079-4552-aa3f-5776bd177cfa",
   "metadata": {},
   "outputs": [],
   "source": [
    "alpha=0.05\n",
    "t_value, p_value = stats.ttest_ind(survived_female, survived_male)\n",
    "print(\"t_value = \",t_value, \", p_value = \", p_value)"
   ]
  },
  {
   "cell_type": "code",
   "execution_count": null,
   "id": "93e1794a-ab2f-4fc0-ae89-ff7daeee2cfd",
   "metadata": {},
   "outputs": [],
   "source": [
    "if p_value <alpha:\n",
    "    print(\"Conclusion: since p_value {} is less than alpha {} \". format (p_value,alpha))\n",
    "    print(\"Reject the null hypothesis that there is no difference between the survival of females and survival of males.\")\n",
    "    \n",
    "else:\n",
    "    print(\"Conclusion: since p_value {} is greater than alpha {} \". format (p_value,alpha))\n",
    "    print(\"Fail to reject the null hypothesis that there is a difference between the survival of females and survival of males.\")"
   ]
  },
  {
   "cell_type": "markdown",
   "id": "bc012fea-8203-4452-962f-f5c3cf8e8088",
   "metadata": {},
   "source": [
    "### Suggestions for next steps in analyzing this data\n",
    "\n",
    "We do not have the full list of the data set, some data set was reserved so need to test our data more when we have additional data on Titanic."
   ]
  },
  {
   "cell_type": "markdown",
   "id": "5836d8bf-83fa-47e2-a2d8-0361b37afd97",
   "metadata": {},
   "source": [
    "### Summary\n",
    "\n",
    "As only worked on a subset of Titanic data, we need more data to infer more quality insights. "
   ]
  },
  {
   "cell_type": "markdown",
   "id": "826659e5-7439-412b-a9e7-396d71a883df",
   "metadata": {},
   "source": [
    "We will now further clean the data for machine learning. "
   ]
  },
  {
   "cell_type": "code",
   "execution_count": null,
   "id": "f732c1ff-6fba-46f5-a117-8e209f1a2067",
   "metadata": {},
   "outputs": [],
   "source": [
    "titanic.head()"
   ]
  },
  {
   "cell_type": "code",
   "execution_count": null,
   "id": "817e362c-b8e0-4900-8635-a3b7dc6ab126",
   "metadata": {},
   "outputs": [],
   "source": [
    "embarked_cat = titanic['Embarked'].unique().tolist()\n",
    "embarked_cat"
   ]
  },
  {
   "cell_type": "code",
   "execution_count": null,
   "id": "4f13df67-6c8b-42f2-8734-edbb6d2faed3",
   "metadata": {},
   "outputs": [],
   "source": [
    "parch_cat = titanic['Parch'].unique().tolist()\n",
    "parch_cat"
   ]
  },
  {
   "cell_type": "code",
   "execution_count": null,
   "id": "a22514a6-0643-43c8-b512-6db0c86ad574",
   "metadata": {},
   "outputs": [],
   "source": [
    "sibsp_cat = titanic['SibSp'].unique().tolist()\n",
    "sibsp_cat"
   ]
  },
  {
   "cell_type": "code",
   "execution_count": null,
   "id": "81a482b4-6b80-4946-8e85-dc2078640017",
   "metadata": {},
   "outputs": [],
   "source": [
    "pclass_cat = titanic['Pclass'].unique().tolist()\n",
    "pclass_cat"
   ]
  },
  {
   "cell_type": "code",
   "execution_count": null,
   "id": "baa13617-3831-4dc3-99ff-d0774ec3a3ed",
   "metadata": {},
   "outputs": [],
   "source": [
    "sex_cat = titanic['Sex'].unique().tolist()\n",
    "sex_cat"
   ]
  },
  {
   "cell_type": "code",
   "execution_count": null,
   "id": "e22f22f4-c3f8-4dc9-959e-77e4057d00bd",
   "metadata": {},
   "outputs": [],
   "source": [
    "titanic['Sex'] = titanic['Sex'].apply(lambda x: 0 if x=='female' else 1)"
   ]
  },
  {
   "cell_type": "code",
   "execution_count": null,
   "id": "5b33c98a-a73e-4ef9-9484-553f04d98d0b",
   "metadata": {},
   "outputs": [],
   "source": [
    "vars = ['Pclass', 'Parch', 'SibSp', 'Embarked']\n",
    "titanic = pd.get_dummies(data=titanic, columns=vars, dtype=int)\n",
    "titanic.head()"
   ]
  },
  {
   "cell_type": "code",
   "execution_count": null,
   "id": "245d50c1-f860-40a6-b671-9a53ef69fd9d",
   "metadata": {},
   "outputs": [],
   "source": [
    "cor = titanic.corr().fillna(0)\n",
    "cor"
   ]
  },
  {
   "cell_type": "code",
   "execution_count": null,
   "id": "b71b689e-f339-4f5b-aca1-f0b0a58a7e34",
   "metadata": {},
   "outputs": [],
   "source": [
    "features = cor['Survived'].sort_values()\n",
    "features"
   ]
  },
  {
   "cell_type": "code",
   "execution_count": null,
   "id": "c9854579-fdc2-4e84-af01-175a6c1d1278",
   "metadata": {},
   "outputs": [],
   "source": [
    "features.plot(kind='bar',figsize=(8,8))\n",
    "plt.title('The correlation of the features');"
   ]
  },
  {
   "cell_type": "code",
   "execution_count": null,
   "id": "581e4861-f5d6-4ba3-84e9-620addb8da4c",
   "metadata": {},
   "outputs": [],
   "source": [
    "plt.figure(figsize=(8,8))\n",
    "sns.heatmap(cor,annot=False,cmap='RdYlGn')"
   ]
  },
  {
   "cell_type": "code",
   "execution_count": null,
   "id": "98cf80ed-2052-4f0f-beb7-ec0f838a6528",
   "metadata": {},
   "outputs": [],
   "source": [
    "titanic.drop('Survived', axis=1, inplace=True)"
   ]
  },
  {
   "cell_type": "code",
   "execution_count": null,
   "id": "7c87a2f6-5b5e-4111-a4dc-d31813612bc7",
   "metadata": {},
   "outputs": [],
   "source": [
    "titanic.head()"
   ]
  },
  {
   "cell_type": "code",
   "execution_count": null,
   "id": "c9750a3f-a761-4456-9273-0ab6f4d1eb27",
   "metadata": {},
   "outputs": [],
   "source": [
    "y = np.array(response)"
   ]
  },
  {
   "cell_type": "code",
   "execution_count": null,
   "id": "c3b23abd-5cb6-4dc8-8532-45408fce22df",
   "metadata": {},
   "outputs": [],
   "source": [
    "X_train = titanic.iloc[:600, :]\n",
    "X_test = titanic.iloc[600:, :]\n",
    "y_train = y[:600]\n",
    "y_true = y[600:]\n",
    "model = KNNClassifier(X_train, y_train, K=3)\n",
    "#CV_n = model.loocv() #Apply Leave-Out-One Cross-Validation\n",
    "#CV_n\n",
    "predictions = model.predict(X_test)\n",
    "#predictions, y_test = model.slice_cv(600)"
   ]
  },
  {
   "cell_type": "code",
   "execution_count": null,
   "id": "cec9f67d-87dd-4850-9633-c479d072ebb9",
   "metadata": {},
   "outputs": [],
   "source": [
    "model.accuracy(y_true)"
   ]
  },
  {
   "cell_type": "code",
   "execution_count": null,
   "id": "02d98ce0-8415-44cc-83c7-e4106b311d6c",
   "metadata": {},
   "outputs": [],
   "source": [
    "count, values = model.error_count(y_true)\n",
    "count"
   ]
  },
  {
   "cell_type": "code",
   "execution_count": null,
   "id": "fd238aa9-4e5e-4b10-be33-92cd9e2fcf2c",
   "metadata": {},
   "outputs": [],
   "source": [
    "from sklearn.neighbors import KNeighborsClassifier"
   ]
  },
  {
   "cell_type": "code",
   "execution_count": null,
   "id": "638ab5a3-8cc9-460c-a2a1-64c52ec88788",
   "metadata": {},
   "outputs": [],
   "source": [
    "knn = KNeighborsClassifier(n_neighbors = 3)\n",
    "knn.fit(X_train, y_train)\n",
    "knn_predictions = knn.predict(X_test)\n",
    "knn_predictions\n",
    "accuracy = (len(np.where(knn_predictions == y_true)[0]) / len(y_true))*100\n",
    "print(accuracy)\n",
    "error_count = len(np.where(knn_predictions != y_true)[0])\n",
    "error_count"
   ]
  },
  {
   "cell_type": "code",
   "execution_count": null,
   "id": "eb9b067a-0743-4075-8959-2f564e0a6c94",
   "metadata": {},
   "outputs": [],
   "source": []
  }
 ],
 "metadata": {
  "kernelspec": {
   "display_name": "Python 3 (ipykernel)",
   "language": "python",
   "name": "python3"
  },
  "language_info": {
   "codemirror_mode": {
    "name": "ipython",
    "version": 3
   },
   "file_extension": ".py",
   "mimetype": "text/x-python",
   "name": "python",
   "nbconvert_exporter": "python",
   "pygments_lexer": "ipython3",
   "version": "3.11.7"
  }
 },
 "nbformat": 4,
 "nbformat_minor": 5
}
