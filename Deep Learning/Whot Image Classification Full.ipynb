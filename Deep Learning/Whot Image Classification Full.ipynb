{
 "cells": [
  {
   "cell_type": "code",
   "execution_count": 2,
   "id": "f99eac9d-d2e1-4db9-a240-e36e7210e920",
   "metadata": {},
   "outputs": [],
   "source": [
    "import tensorflow as tf\n",
    "from keras.api.models import Model, load_model\n",
    "import numpy as np\n",
    "from whotarchitecture import *\n",
    "import matplotlib.pyplot as plt\n",
    "import seaborn as sns\n",
    "import keras\n",
    "sns.set_theme()"
   ]
  },
  {
   "cell_type": "code",
   "execution_count": 2,
   "id": "37e00875-4c6c-475b-9d30-54015c09577e",
   "metadata": {},
   "outputs": [],
   "source": [
    "# generate_whot_images(1, 20, card_height=300, card_width=200)\n",
    "# generate_whot_images(21, 40, card_height=380, card_width=280)\n",
    "# generate_whot_images(41, 60, card_height=500, card_width=400)\n",
    "# generate_whot_images(61, 80, card_height=600, card_width=500)"
   ]
  },
  {
   "cell_type": "code",
   "execution_count": null,
   "id": "1aed7659-de78-4c46-9873-0fa7c0fbb3a2",
   "metadata": {},
   "outputs": [
    {
     "name": "stdout",
     "output_type": "stream",
     "text": [
      "Training shape = (3618, 300, 200, 3)\n"
     ]
    },
    {
     "data": {
      "text/html": [
       "<pre style=\"white-space:pre;overflow-x:auto;line-height:normal;font-family:Menlo,'DejaVu Sans Mono',consolas,'Courier New',monospace\"><span style=\"font-weight: bold\">Model: \"whot_nn_architecture\"</span>\n",
       "</pre>\n"
      ],
      "text/plain": [
       "\u001b[1mModel: \"whot_nn_architecture\"\u001b[0m\n"
      ]
     },
     "metadata": {},
     "output_type": "display_data"
    },
    {
     "data": {
      "text/html": [
       "<pre style=\"white-space:pre;overflow-x:auto;line-height:normal;font-family:Menlo,'DejaVu Sans Mono',consolas,'Courier New',monospace\">┏━━━━━━━━━━━━━━━━━━━━━━━━━━━━━━━━━━━━━━┳━━━━━━━━━━━━━━━━━━━━━━━━━━━━━┳━━━━━━━━━━━━━━━━━┓\n",
       "┃<span style=\"font-weight: bold\"> Layer (type)                         </span>┃<span style=\"font-weight: bold\"> Output Shape                </span>┃<span style=\"font-weight: bold\">         Param # </span>┃\n",
       "┡━━━━━━━━━━━━━━━━━━━━━━━━━━━━━━━━━━━━━━╇━━━━━━━━━━━━━━━━━━━━━━━━━━━━━╇━━━━━━━━━━━━━━━━━┩\n",
       "│ conv2d (<span style=\"color: #0087ff; text-decoration-color: #0087ff\">Conv2D</span>)                      │ (<span style=\"color: #00af00; text-decoration-color: #00af00\">3618</span>, <span style=\"color: #00af00; text-decoration-color: #00af00\">300</span>, <span style=\"color: #00af00; text-decoration-color: #00af00\">200</span>, <span style=\"color: #00af00; text-decoration-color: #00af00\">4</span>)         │             <span style=\"color: #00af00; text-decoration-color: #00af00\">112</span> │\n",
       "├──────────────────────────────────────┼─────────────────────────────┼─────────────────┤\n",
       "│ conv2d_1 (<span style=\"color: #0087ff; text-decoration-color: #0087ff\">Conv2D</span>)                    │ (<span style=\"color: #00af00; text-decoration-color: #00af00\">3618</span>, <span style=\"color: #00af00; text-decoration-color: #00af00\">150</span>, <span style=\"color: #00af00; text-decoration-color: #00af00\">100</span>, <span style=\"color: #00af00; text-decoration-color: #00af00\">8</span>)         │             <span style=\"color: #00af00; text-decoration-color: #00af00\">296</span> │\n",
       "├──────────────────────────────────────┼─────────────────────────────┼─────────────────┤\n",
       "│ conv2d_2 (<span style=\"color: #0087ff; text-decoration-color: #0087ff\">Conv2D</span>)                    │ (<span style=\"color: #00af00; text-decoration-color: #00af00\">3618</span>, <span style=\"color: #00af00; text-decoration-color: #00af00\">75</span>, <span style=\"color: #00af00; text-decoration-color: #00af00\">50</span>, <span style=\"color: #00af00; text-decoration-color: #00af00\">16</span>)          │           <span style=\"color: #00af00; text-decoration-color: #00af00\">1,168</span> │\n",
       "├──────────────────────────────────────┼─────────────────────────────┼─────────────────┤\n",
       "│ conv2d_3 (<span style=\"color: #0087ff; text-decoration-color: #0087ff\">Conv2D</span>)                    │ (<span style=\"color: #00af00; text-decoration-color: #00af00\">3618</span>, <span style=\"color: #00af00; text-decoration-color: #00af00\">37</span>, <span style=\"color: #00af00; text-decoration-color: #00af00\">25</span>, <span style=\"color: #00af00; text-decoration-color: #00af00\">32</span>)          │           <span style=\"color: #00af00; text-decoration-color: #00af00\">4,640</span> │\n",
       "├──────────────────────────────────────┼─────────────────────────────┼─────────────────┤\n",
       "│ conv2d_4 (<span style=\"color: #0087ff; text-decoration-color: #0087ff\">Conv2D</span>)                    │ (<span style=\"color: #00af00; text-decoration-color: #00af00\">3618</span>, <span style=\"color: #00af00; text-decoration-color: #00af00\">18</span>, <span style=\"color: #00af00; text-decoration-color: #00af00\">12</span>, <span style=\"color: #00af00; text-decoration-color: #00af00\">64</span>)          │          <span style=\"color: #00af00; text-decoration-color: #00af00\">18,496</span> │\n",
       "├──────────────────────────────────────┼─────────────────────────────┼─────────────────┤\n",
       "│ conv2d_5 (<span style=\"color: #0087ff; text-decoration-color: #0087ff\">Conv2D</span>)                    │ (<span style=\"color: #00af00; text-decoration-color: #00af00\">3618</span>, <span style=\"color: #00af00; text-decoration-color: #00af00\">9</span>, <span style=\"color: #00af00; text-decoration-color: #00af00\">6</span>, <span style=\"color: #00af00; text-decoration-color: #00af00\">128</span>)           │          <span style=\"color: #00af00; text-decoration-color: #00af00\">73,856</span> │\n",
       "├──────────────────────────────────────┼─────────────────────────────┼─────────────────┤\n",
       "│ batch_normalization                  │ (<span style=\"color: #00af00; text-decoration-color: #00af00\">3618</span>, <span style=\"color: #00af00; text-decoration-color: #00af00\">4</span>, <span style=\"color: #00af00; text-decoration-color: #00af00\">3</span>, <span style=\"color: #00af00; text-decoration-color: #00af00\">128</span>)           │             <span style=\"color: #00af00; text-decoration-color: #00af00\">512</span> │\n",
       "│ (<span style=\"color: #0087ff; text-decoration-color: #0087ff\">BatchNormalization</span>)                 │                             │                 │\n",
       "├──────────────────────────────────────┼─────────────────────────────┼─────────────────┤\n",
       "│ max_pooling2d (<span style=\"color: #0087ff; text-decoration-color: #0087ff\">MaxPooling2D</span>)         │ (<span style=\"color: #00af00; text-decoration-color: #00af00\">3618</span>, <span style=\"color: #00af00; text-decoration-color: #00af00\">150</span>, <span style=\"color: #00af00; text-decoration-color: #00af00\">100</span>, <span style=\"color: #00af00; text-decoration-color: #00af00\">4</span>)         │               <span style=\"color: #00af00; text-decoration-color: #00af00\">0</span> │\n",
       "├──────────────────────────────────────┼─────────────────────────────┼─────────────────┤\n",
       "│ flatten (<span style=\"color: #0087ff; text-decoration-color: #0087ff\">Flatten</span>)                    │ (<span style=\"color: #00af00; text-decoration-color: #00af00\">3618</span>, <span style=\"color: #00af00; text-decoration-color: #00af00\">1536</span>)                │               <span style=\"color: #00af00; text-decoration-color: #00af00\">0</span> │\n",
       "├──────────────────────────────────────┼─────────────────────────────┼─────────────────┤\n",
       "│ dropout (<span style=\"color: #0087ff; text-decoration-color: #0087ff\">Dropout</span>)                    │ (<span style=\"color: #00af00; text-decoration-color: #00af00\">3618</span>, <span style=\"color: #00af00; text-decoration-color: #00af00\">1536</span>)                │               <span style=\"color: #00af00; text-decoration-color: #00af00\">0</span> │\n",
       "├──────────────────────────────────────┼─────────────────────────────┼─────────────────┤\n",
       "│ dense (<span style=\"color: #0087ff; text-decoration-color: #0087ff\">Dense</span>)                        │ (<span style=\"color: #00af00; text-decoration-color: #00af00\">3618</span>, <span style=\"color: #00af00; text-decoration-color: #00af00\">64</span>)                  │          <span style=\"color: #00af00; text-decoration-color: #00af00\">98,368</span> │\n",
       "├──────────────────────────────────────┼─────────────────────────────┼─────────────────┤\n",
       "│ suit_output (<span style=\"color: #0087ff; text-decoration-color: #0087ff\">Dense</span>)                  │ (<span style=\"color: #00af00; text-decoration-color: #00af00\">3618</span>, <span style=\"color: #00af00; text-decoration-color: #00af00\">6</span>)                   │             <span style=\"color: #00af00; text-decoration-color: #00af00\">390</span> │\n",
       "├──────────────────────────────────────┼─────────────────────────────┼─────────────────┤\n",
       "│ face_output (<span style=\"color: #0087ff; text-decoration-color: #0087ff\">Dense</span>)                  │ (<span style=\"color: #00af00; text-decoration-color: #00af00\">3618</span>, <span style=\"color: #00af00; text-decoration-color: #00af00\">14</span>)                  │             <span style=\"color: #00af00; text-decoration-color: #00af00\">910</span> │\n",
       "└──────────────────────────────────────┴─────────────────────────────┴─────────────────┘\n",
       "</pre>\n"
      ],
      "text/plain": [
       "┏━━━━━━━━━━━━━━━━━━━━━━━━━━━━━━━━━━━━━━┳━━━━━━━━━━━━━━━━━━━━━━━━━━━━━┳━━━━━━━━━━━━━━━━━┓\n",
       "┃\u001b[1m \u001b[0m\u001b[1mLayer (type)                        \u001b[0m\u001b[1m \u001b[0m┃\u001b[1m \u001b[0m\u001b[1mOutput Shape               \u001b[0m\u001b[1m \u001b[0m┃\u001b[1m \u001b[0m\u001b[1m        Param #\u001b[0m\u001b[1m \u001b[0m┃\n",
       "┡━━━━━━━━━━━━━━━━━━━━━━━━━━━━━━━━━━━━━━╇━━━━━━━━━━━━━━━━━━━━━━━━━━━━━╇━━━━━━━━━━━━━━━━━┩\n",
       "│ conv2d (\u001b[38;5;33mConv2D\u001b[0m)                      │ (\u001b[38;5;34m3618\u001b[0m, \u001b[38;5;34m300\u001b[0m, \u001b[38;5;34m200\u001b[0m, \u001b[38;5;34m4\u001b[0m)         │             \u001b[38;5;34m112\u001b[0m │\n",
       "├──────────────────────────────────────┼─────────────────────────────┼─────────────────┤\n",
       "│ conv2d_1 (\u001b[38;5;33mConv2D\u001b[0m)                    │ (\u001b[38;5;34m3618\u001b[0m, \u001b[38;5;34m150\u001b[0m, \u001b[38;5;34m100\u001b[0m, \u001b[38;5;34m8\u001b[0m)         │             \u001b[38;5;34m296\u001b[0m │\n",
       "├──────────────────────────────────────┼─────────────────────────────┼─────────────────┤\n",
       "│ conv2d_2 (\u001b[38;5;33mConv2D\u001b[0m)                    │ (\u001b[38;5;34m3618\u001b[0m, \u001b[38;5;34m75\u001b[0m, \u001b[38;5;34m50\u001b[0m, \u001b[38;5;34m16\u001b[0m)          │           \u001b[38;5;34m1,168\u001b[0m │\n",
       "├──────────────────────────────────────┼─────────────────────────────┼─────────────────┤\n",
       "│ conv2d_3 (\u001b[38;5;33mConv2D\u001b[0m)                    │ (\u001b[38;5;34m3618\u001b[0m, \u001b[38;5;34m37\u001b[0m, \u001b[38;5;34m25\u001b[0m, \u001b[38;5;34m32\u001b[0m)          │           \u001b[38;5;34m4,640\u001b[0m │\n",
       "├──────────────────────────────────────┼─────────────────────────────┼─────────────────┤\n",
       "│ conv2d_4 (\u001b[38;5;33mConv2D\u001b[0m)                    │ (\u001b[38;5;34m3618\u001b[0m, \u001b[38;5;34m18\u001b[0m, \u001b[38;5;34m12\u001b[0m, \u001b[38;5;34m64\u001b[0m)          │          \u001b[38;5;34m18,496\u001b[0m │\n",
       "├──────────────────────────────────────┼─────────────────────────────┼─────────────────┤\n",
       "│ conv2d_5 (\u001b[38;5;33mConv2D\u001b[0m)                    │ (\u001b[38;5;34m3618\u001b[0m, \u001b[38;5;34m9\u001b[0m, \u001b[38;5;34m6\u001b[0m, \u001b[38;5;34m128\u001b[0m)           │          \u001b[38;5;34m73,856\u001b[0m │\n",
       "├──────────────────────────────────────┼─────────────────────────────┼─────────────────┤\n",
       "│ batch_normalization                  │ (\u001b[38;5;34m3618\u001b[0m, \u001b[38;5;34m4\u001b[0m, \u001b[38;5;34m3\u001b[0m, \u001b[38;5;34m128\u001b[0m)           │             \u001b[38;5;34m512\u001b[0m │\n",
       "│ (\u001b[38;5;33mBatchNormalization\u001b[0m)                 │                             │                 │\n",
       "├──────────────────────────────────────┼─────────────────────────────┼─────────────────┤\n",
       "│ max_pooling2d (\u001b[38;5;33mMaxPooling2D\u001b[0m)         │ (\u001b[38;5;34m3618\u001b[0m, \u001b[38;5;34m150\u001b[0m, \u001b[38;5;34m100\u001b[0m, \u001b[38;5;34m4\u001b[0m)         │               \u001b[38;5;34m0\u001b[0m │\n",
       "├──────────────────────────────────────┼─────────────────────────────┼─────────────────┤\n",
       "│ flatten (\u001b[38;5;33mFlatten\u001b[0m)                    │ (\u001b[38;5;34m3618\u001b[0m, \u001b[38;5;34m1536\u001b[0m)                │               \u001b[38;5;34m0\u001b[0m │\n",
       "├──────────────────────────────────────┼─────────────────────────────┼─────────────────┤\n",
       "│ dropout (\u001b[38;5;33mDropout\u001b[0m)                    │ (\u001b[38;5;34m3618\u001b[0m, \u001b[38;5;34m1536\u001b[0m)                │               \u001b[38;5;34m0\u001b[0m │\n",
       "├──────────────────────────────────────┼─────────────────────────────┼─────────────────┤\n",
       "│ dense (\u001b[38;5;33mDense\u001b[0m)                        │ (\u001b[38;5;34m3618\u001b[0m, \u001b[38;5;34m64\u001b[0m)                  │          \u001b[38;5;34m98,368\u001b[0m │\n",
       "├──────────────────────────────────────┼─────────────────────────────┼─────────────────┤\n",
       "│ suit_output (\u001b[38;5;33mDense\u001b[0m)                  │ (\u001b[38;5;34m3618\u001b[0m, \u001b[38;5;34m6\u001b[0m)                   │             \u001b[38;5;34m390\u001b[0m │\n",
       "├──────────────────────────────────────┼─────────────────────────────┼─────────────────┤\n",
       "│ face_output (\u001b[38;5;33mDense\u001b[0m)                  │ (\u001b[38;5;34m3618\u001b[0m, \u001b[38;5;34m14\u001b[0m)                  │             \u001b[38;5;34m910\u001b[0m │\n",
       "└──────────────────────────────────────┴─────────────────────────────┴─────────────────┘\n"
      ]
     },
     "metadata": {},
     "output_type": "display_data"
    },
    {
     "data": {
      "text/html": [
       "<pre style=\"white-space:pre;overflow-x:auto;line-height:normal;font-family:Menlo,'DejaVu Sans Mono',consolas,'Courier New',monospace\"><span style=\"font-weight: bold\"> Total params: </span><span style=\"color: #00af00; text-decoration-color: #00af00\">198,748</span> (776.36 KB)\n",
       "</pre>\n"
      ],
      "text/plain": [
       "\u001b[1m Total params: \u001b[0m\u001b[38;5;34m198,748\u001b[0m (776.36 KB)\n"
      ]
     },
     "metadata": {},
     "output_type": "display_data"
    },
    {
     "data": {
      "text/html": [
       "<pre style=\"white-space:pre;overflow-x:auto;line-height:normal;font-family:Menlo,'DejaVu Sans Mono',consolas,'Courier New',monospace\"><span style=\"font-weight: bold\"> Trainable params: </span><span style=\"color: #00af00; text-decoration-color: #00af00\">198,492</span> (775.36 KB)\n",
       "</pre>\n"
      ],
      "text/plain": [
       "\u001b[1m Trainable params: \u001b[0m\u001b[38;5;34m198,492\u001b[0m (775.36 KB)\n"
      ]
     },
     "metadata": {},
     "output_type": "display_data"
    },
    {
     "data": {
      "text/html": [
       "<pre style=\"white-space:pre;overflow-x:auto;line-height:normal;font-family:Menlo,'DejaVu Sans Mono',consolas,'Courier New',monospace\"><span style=\"font-weight: bold\"> Non-trainable params: </span><span style=\"color: #00af00; text-decoration-color: #00af00\">256</span> (1.00 KB)\n",
       "</pre>\n"
      ],
      "text/plain": [
       "\u001b[1m Non-trainable params: \u001b[0m\u001b[38;5;34m256\u001b[0m (1.00 KB)\n"
      ]
     },
     "metadata": {},
     "output_type": "display_data"
    },
    {
     "name": "stdout",
     "output_type": "stream",
     "text": [
      "Epoch 1/17\n",
      "\u001b[1m80/80\u001b[0m \u001b[32m━━━━━━━━━━━━━━━━━━━━\u001b[0m\u001b[37m\u001b[0m \u001b[1m23s\u001b[0m 150ms/step - face_output_accuracy: 0.1111 - loss: 4.2133 - suit_output_accuracy: 0.4327 - val_face_output_accuracy: 0.1980 - val_loss: 4.1661 - val_suit_output_accuracy: 0.8269\n",
      "Epoch 2/17\n",
      "\u001b[1m80/80\u001b[0m \u001b[32m━━━━━━━━━━━━━━━━━━━━\u001b[0m\u001b[37m\u001b[0m \u001b[1m9s\u001b[0m 111ms/step - face_output_accuracy: 0.2324 - loss: 2.5125 - suit_output_accuracy: 0.9222 - val_face_output_accuracy: 0.2569 - val_loss: 3.6993 - val_suit_output_accuracy: 0.9917\n",
      "Epoch 3/17\n",
      "\u001b[1m80/80\u001b[0m \u001b[32m━━━━━━━━━━━━━━━━━━━━\u001b[0m\u001b[37m\u001b[0m \u001b[1m9s\u001b[0m 109ms/step - face_output_accuracy: 0.3262 - loss: 1.8014 - suit_output_accuracy: 0.9903 - val_face_output_accuracy: 0.3941 - val_loss: 3.1914 - val_suit_output_accuracy: 0.9972\n",
      "Epoch 4/17\n",
      "\u001b[1m80/80\u001b[0m \u001b[32m━━━━━━━━━━━━━━━━━━━━\u001b[0m\u001b[37m\u001b[0m \u001b[1m9s\u001b[0m 113ms/step - face_output_accuracy: 0.4836 - loss: 1.3805 - suit_output_accuracy: 0.9955 - val_face_output_accuracy: 0.5764 - val_loss: 2.3356 - val_suit_output_accuracy: 1.0000\n",
      "Epoch 5/17\n",
      "\u001b[1m80/80\u001b[0m \u001b[32m━━━━━━━━━━━━━━━━━━━━\u001b[0m\u001b[37m\u001b[0m \u001b[1m9s\u001b[0m 108ms/step - face_output_accuracy: 0.6412 - loss: 0.9586 - suit_output_accuracy: 0.9975 - val_face_output_accuracy: 0.6989 - val_loss: 1.3936 - val_suit_output_accuracy: 1.0000\n",
      "Epoch 6/17\n",
      "\u001b[1m80/80\u001b[0m \u001b[32m━━━━━━━━━━━━━━━━━━━━\u001b[0m\u001b[37m\u001b[0m \u001b[1m9s\u001b[0m 111ms/step - face_output_accuracy: 0.7539 - loss: 0.6624 - suit_output_accuracy: 0.9971 - val_face_output_accuracy: 0.8711 - val_loss: 0.6988 - val_suit_output_accuracy: 1.0000\n",
      "Epoch 7/17\n",
      "\u001b[1m80/80\u001b[0m \u001b[32m━━━━━━━━━━━━━━━━━━━━\u001b[0m\u001b[37m\u001b[0m \u001b[1m9s\u001b[0m 110ms/step - face_output_accuracy: 0.8596 - loss: 0.3833 - suit_output_accuracy: 0.9974 - val_face_output_accuracy: 0.8969 - val_loss: 0.3998 - val_suit_output_accuracy: 1.0000\n",
      "Epoch 8/17\n",
      "\u001b[1m80/80\u001b[0m \u001b[32m━━━━━━━━━━━━━━━━━━━━\u001b[0m\u001b[37m\u001b[0m \u001b[1m8s\u001b[0m 104ms/step - face_output_accuracy: 0.9005 - loss: 0.3051 - suit_output_accuracy: 0.9990 - val_face_output_accuracy: 0.9217 - val_loss: 0.2441 - val_suit_output_accuracy: 1.0000\n",
      "Epoch 9/17\n",
      "\u001b[1m80/80\u001b[0m \u001b[32m━━━━━━━━━━━━━━━━━━━━\u001b[0m\u001b[37m\u001b[0m \u001b[1m8s\u001b[0m 105ms/step - face_output_accuracy: 0.9246 - loss: 0.2138 - suit_output_accuracy: 1.0000 - val_face_output_accuracy: 0.9236 - val_loss: 0.2031 - val_suit_output_accuracy: 1.0000\n",
      "Epoch 10/17\n",
      "\u001b[1m15/80\u001b[0m \u001b[32m━━━\u001b[0m\u001b[37m━━━━━━━━━━━━━━━━━\u001b[0m \u001b[1m5s\u001b[0m 92ms/step - face_output_accuracy: 0.9347 - loss: 0.1598 - suit_output_accuracy: 1.0000"
     ]
    }
   ],
   "source": [
    "whole_train = True\n",
    "model = get_model(whole_train, epochs=17)"
   ]
  },
  {
   "cell_type": "code",
   "execution_count": null,
   "id": "ee9cd543-92d9-4ce6-8ead-bf280f379d75",
   "metadata": {},
   "outputs": [],
   "source": [
    "model.save(\"saved_model/full/whot_model.keras\")"
   ]
  },
  {
   "cell_type": "code",
   "execution_count": null,
   "id": "ec9734db",
   "metadata": {},
   "outputs": [],
   "source": []
  },
  {
   "cell_type": "code",
   "execution_count": null,
   "id": "df8c7c23-3f55-414a-b01e-fa31446bd372",
   "metadata": {},
   "outputs": [],
   "source": [
    "#Load whot image that is saved in the format CIRCLE1_1.png, TRIANGLE12_3.jpg etc. the images will first be formatted in correct shape internally for use.\n",
    "#Pass the start and end number of the images you have saved in the stated format E.g from 1 to 20 images etc\n",
    "\n",
    "# generate_whot_images(1, 10, card_height=300, card_width=200, output_dir='whots/test/images/')\n",
    "# generate_whot_images(11, 20, card_height=380, card_width=280, output_dir='whots/test/images/')\n",
    "# generate_whot_images(21, 30, card_height=500, card_width=400, output_dir='whots/test/images/')\n",
    "# generate_whot_images(31, 40, card_height=600, card_width=500, output_dir='whots/test/images/')\n",
    "\n",
    "X_test, y_face_true, y_suit_true = get_data(1, 40, 'whots/test/images/', whole_train)"
   ]
  },
  {
   "cell_type": "code",
   "execution_count": null,
   "id": "bbab2781-0b87-4278-8b88-e8c1b7d9cb5b",
   "metadata": {},
   "outputs": [],
   "source": [
    "print('X_test shape =', X_test.shape)\n",
    "print('y_face_true = ', y_face_true.shape)\n",
    "print('y_suit_true = ', y_suit_true.shape)"
   ]
  },
  {
   "cell_type": "code",
   "execution_count": null,
   "id": "60610348-5f88-41ef-9b39-0db45295fb66",
   "metadata": {},
   "outputs": [],
   "source": [
    "y_face_true[4]"
   ]
  },
  {
   "cell_type": "code",
   "execution_count": null,
   "id": "1225769e-cebd-4679-abcf-fc329f8dd318",
   "metadata": {},
   "outputs": [],
   "source": [
    "y_suit_true[4]"
   ]
  },
  {
   "cell_type": "code",
   "execution_count": null,
   "id": "f7c15965-d56e-4640-92ff-faae9f53de38",
   "metadata": {},
   "outputs": [],
   "source": [
    "predictions = predict(model, X_test)"
   ]
  },
  {
   "cell_type": "code",
   "execution_count": null,
   "id": "a9313857-8c18-4e1c-87be-ea27ccbeac26",
   "metadata": {},
   "outputs": [],
   "source": [
    "predicted_suits = predictions['suits']\n",
    "predicted_suits"
   ]
  },
  {
   "cell_type": "code",
   "execution_count": null,
   "id": "22230e0d-98fe-466a-a4a2-0067d9248889",
   "metadata": {},
   "outputs": [],
   "source": [
    "predicted_suits.shape"
   ]
  },
  {
   "cell_type": "code",
   "execution_count": null,
   "id": "c73ddba7-2c96-407a-91cc-088f9d23e73f",
   "metadata": {},
   "outputs": [],
   "source": [
    "predicted_faces = predictions['faces']\n",
    "predicted_faces"
   ]
  },
  {
   "cell_type": "code",
   "execution_count": null,
   "id": "2ac7da88-475f-4cb5-889a-35421b0588bb",
   "metadata": {},
   "outputs": [],
   "source": [
    "predicted_faces.shape"
   ]
  },
  {
   "cell_type": "code",
   "execution_count": null,
   "id": "f95b9f8c-3f85-4b1a-b915-c5526743cbc2",
   "metadata": {},
   "outputs": [],
   "source": [
    "true_suits = categorical_to_suit(y_suit_true)\n",
    "true_suits.shape"
   ]
  },
  {
   "cell_type": "code",
   "execution_count": null,
   "id": "aa03e0de-15b1-4fde-87ce-a9a054b1051c",
   "metadata": {},
   "outputs": [],
   "source": [
    "true_suits"
   ]
  },
  {
   "cell_type": "code",
   "execution_count": null,
   "id": "9e868f38-4f2e-4c99-bf97-de174f482e72",
   "metadata": {},
   "outputs": [],
   "source": [
    "true_faces = categorical_to_face(y_face_true)\n",
    "true_faces.shape"
   ]
  },
  {
   "cell_type": "code",
   "execution_count": null,
   "id": "83758e7c-48dc-49a0-b272-1b7f40cc74d7",
   "metadata": {},
   "outputs": [],
   "source": [
    "true_faces"
   ]
  },
  {
   "cell_type": "code",
   "execution_count": null,
   "id": "bd369a3d-7eb1-4db4-b459-53b28cb8bc47",
   "metadata": {},
   "outputs": [],
   "source": [
    "suit_pred_accuracy = (len(true_suits[predicted_suits == true_suits])/ len(true_suits)) * 100\n",
    "suit_pred_accuracy"
   ]
  },
  {
   "cell_type": "code",
   "execution_count": null,
   "id": "4473fbb2-803f-45c1-bc36-8f1b2c26ad15",
   "metadata": {},
   "outputs": [],
   "source": [
    "face_pred_accuracy = (len(true_faces[predicted_faces == true_faces])/ len(true_faces)) * 100\n",
    "face_pred_accuracy"
   ]
  },
  {
   "cell_type": "code",
   "execution_count": null,
   "id": "e3f7b675-a855-418d-9dcf-a5bcf9f72b41",
   "metadata": {},
   "outputs": [],
   "source": [
    "whots = get_whotstr_output(predicted_suits, predicted_faces)\n",
    "whots[7]"
   ]
  },
  {
   "cell_type": "code",
   "execution_count": null,
   "id": "0793ec52-81ab-4bfa-ae7e-12b473eb10a2",
   "metadata": {},
   "outputs": [],
   "source": [
    "i = 1\n",
    "display_whot_image(predicted_suits[i], predicted_faces[i], 'whots/whots/')"
   ]
  },
  {
   "cell_type": "code",
   "execution_count": null,
   "id": "151e20ad-e757-4209-9e9f-bd7d7582cdf3",
   "metadata": {},
   "outputs": [],
   "source": [
    "file = 'C:\\\\Users\\\\Matho\\\\Documents\\\\Whot card images\\\\SQUARE2_1.png'\n",
    "img = format_image(whole_train, file)\n",
    "print(img.shape)"
   ]
  },
  {
   "cell_type": "code",
   "execution_count": null,
   "id": "183af837-a81f-45d4-a1e9-ed482a300930",
   "metadata": {},
   "outputs": [],
   "source": [
    "p = predict(model, img)"
   ]
  },
  {
   "cell_type": "code",
   "execution_count": null,
   "id": "069cd03a-b527-4a87-98c2-21375d25ee07",
   "metadata": {},
   "outputs": [],
   "source": [
    "print(p['suits'])\n",
    "print(p['faces'])"
   ]
  },
  {
   "cell_type": "code",
   "execution_count": null,
   "id": "8ec36072-4802-439d-a52a-9d00e72d205f",
   "metadata": {},
   "outputs": [],
   "source": [
    "#display_whot_image(p['suits'][0], p['faces'][0], 'whots/whots/')"
   ]
  },
  {
   "cell_type": "code",
   "execution_count": null,
   "id": "5f65e0ec-196a-4d9d-8b86-2e93055fa507",
   "metadata": {},
   "outputs": [],
   "source": [
    "loaded_model = load_model(\"saved_model/full/whot_model.keras\", \n",
    "                   custom_objects={'WhotNNArchitecture':WhotNNArchitecture}, \n",
    "                   compile=False)"
   ]
  },
  {
   "cell_type": "code",
   "execution_count": null,
   "id": "a8206879-f509-471c-aaa8-7cd01301f606",
   "metadata": {},
   "outputs": [],
   "source": [
    "file2 = 'C:\\\\Users\\\\Matho\\\\Documents\\\\Whot card images\\\\red brown\\\\TRIANGLE11.png'\n",
    "#file2 ='/home/matho/WhotGame/Card images/white/CIRCLE3.png'\n",
    "img2 = format_image(whole_train, file2)"
   ]
  },
  {
   "cell_type": "code",
   "execution_count": null,
   "id": "690d162f-3d34-47d4-b5d2-898f8c638a46",
   "metadata": {},
   "outputs": [],
   "source": [
    "p1 = predict(model, img2)\n",
    "print(p1['suits'])\n",
    "p1['faces']"
   ]
  },
  {
   "cell_type": "code",
   "execution_count": null,
   "id": "e5dc5b3d-c78d-40cf-a8a6-e38163ae85aa",
   "metadata": {},
   "outputs": [],
   "source": [
    "p2 = predict(loaded_model, img2)"
   ]
  },
  {
   "cell_type": "code",
   "execution_count": null,
   "id": "19e2d5b4-7b4f-4a97-8282-d0a86642602b",
   "metadata": {},
   "outputs": [],
   "source": [
    "print(p2['suits'])\n",
    "p2['faces']"
   ]
  },
  {
   "cell_type": "code",
   "execution_count": null,
   "id": "56c30192-26d8-4378-aa9c-54efe62dcb28",
   "metadata": {},
   "outputs": [],
   "source": [
    "display_whot_image(p1['suits'][0], p1['faces'][0], 'whots/whots/')"
   ]
  },
  {
   "cell_type": "code",
   "execution_count": null,
   "id": "43f92e94-45b3-4fe3-b14d-edcbfa072769",
   "metadata": {},
   "outputs": [],
   "source": [
    "display_whot_image(p2['suits'][0], p2['faces'][0], 'whots/whots/')"
   ]
  },
  {
   "cell_type": "code",
   "execution_count": null,
   "id": "e306fc27-2f5a-49bb-8db1-e065d1df2372",
   "metadata": {},
   "outputs": [],
   "source": [
    "model.summary()"
   ]
  },
  {
   "cell_type": "code",
   "execution_count": null,
   "id": "430b1076-f285-4d9a-8661-460474f8117e",
   "metadata": {},
   "outputs": [],
   "source": [
    "loaded_model.summary()"
   ]
  },
  {
   "cell_type": "code",
   "execution_count": null,
   "id": "c3915bda-e937-4165-85bc-100f7ce886dc",
   "metadata": {},
   "outputs": [],
   "source": [
    "file3= 'C:\\\\Users\\\\Matho\\\\Documents\\\\Whot card images\\\\red brown\\\\CIRCLE11.png'\n",
    "img3 = format_image(whole_train, file3)"
   ]
  },
  {
   "cell_type": "code",
   "execution_count": null,
   "id": "c9d1b1a2-89f1-4fc6-a944-2eac171d0b25",
   "metadata": {},
   "outputs": [],
   "source": [
    "p3 = predict(model, img3)\n",
    "print(p3['suits'])\n",
    "p3['faces']"
   ]
  },
  {
   "cell_type": "code",
   "execution_count": null,
   "id": "73b30f76-6263-430e-837c-f4e2cd13d1f6",
   "metadata": {},
   "outputs": [],
   "source": [
    "p4 = predict(loaded_model, img3)\n",
    "print(p4['suits'])\n",
    "p4['faces']"
   ]
  },
  {
   "cell_type": "code",
   "execution_count": null,
   "id": "2dae47ba-12fd-439e-a62f-6d9b659ef5e0",
   "metadata": {},
   "outputs": [],
   "source": [
    "np.allclose(model.predict(img3)['face_output'], loaded_model.predict(img3)['face_output'])"
   ]
  },
  {
   "cell_type": "code",
   "execution_count": null,
   "id": "eb28a448-f08a-4c8e-97d3-18e1b8e48ed0",
   "metadata": {},
   "outputs": [],
   "source": [
    "np.allclose(model.predict(img3)['suit_output'], loaded_model.predict(img3)['suit_output'])"
   ]
  },
  {
   "cell_type": "code",
   "execution_count": null,
   "id": "75435828",
   "metadata": {},
   "outputs": [],
   "source": []
  }
 ],
 "metadata": {
  "kernelspec": {
   "display_name": ".venv",
   "language": "python",
   "name": "python3"
  },
  "language_info": {
   "codemirror_mode": {
    "name": "ipython",
    "version": 3
   },
   "file_extension": ".py",
   "mimetype": "text/x-python",
   "name": "python",
   "nbconvert_exporter": "python",
   "pygments_lexer": "ipython3",
   "version": "3.11.7"
  }
 },
 "nbformat": 4,
 "nbformat_minor": 5
}
