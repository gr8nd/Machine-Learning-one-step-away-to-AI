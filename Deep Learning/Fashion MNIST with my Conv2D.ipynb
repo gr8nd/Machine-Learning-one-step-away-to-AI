{
 "cells": [
  {
   "cell_type": "code",
   "execution_count": 1,
   "id": "9871f01d-c802-46f5-b5fa-46f3681d9996",
   "metadata": {},
   "outputs": [],
   "source": [
    "import numpy as np\n",
    "import matplotlib.pyplot as plt\n",
    "from model import Model\n",
    "from tensorflow.keras.datasets.fashion_mnist import load_data\n",
    "from algorithms.ml.utils.utils import one_hot_encode\n",
    "from sklearn.metrics import mean_squared_error, confusion_matrix, accuracy_score"
   ]
  },
  {
   "cell_type": "code",
   "execution_count": 2,
   "id": "93714d0b-9ee2-4636-8b02-8e959c8c6aad",
   "metadata": {},
   "outputs": [],
   "source": [
    "class_names = ['T-shirt/top', 'Trouser', 'Pullover', 'Dress', 'Coat',\n",
    "               'Sandal', 'Shirt', 'Sneaker', 'Bag', 'Ankle boot']"
   ]
  },
  {
   "cell_type": "code",
   "execution_count": 3,
   "id": "2eaf50e1-83eb-4faf-9086-cc5e76aba3b9",
   "metadata": {},
   "outputs": [],
   "source": [
    "(train_images, train_labels), (test_images, test_labels) = load_data()"
   ]
  },
  {
   "cell_type": "code",
   "execution_count": 4,
   "id": "383797bd-eb5c-4ac1-943f-a6a86f29f2b5",
   "metadata": {},
   "outputs": [],
   "source": [
    "x_train = train_images / 255.0\n",
    "x_test = test_images / 255.0"
   ]
  },
  {
   "cell_type": "code",
   "execution_count": 5,
   "id": "a4406f6f-bb4c-453b-8154-2efeebb3cb56",
   "metadata": {},
   "outputs": [
    {
     "data": {
      "text/plain": [
       "(60000, 28, 28)"
      ]
     },
     "execution_count": 5,
     "metadata": {},
     "output_type": "execute_result"
    }
   ],
   "source": [
    "x_train.shape"
   ]
  },
  {
   "cell_type": "code",
   "execution_count": 6,
   "id": "516ff4f8-d16e-431a-bd17-e6310747c310",
   "metadata": {},
   "outputs": [
    {
     "data": {
      "text/plain": [
       "(10000, 28, 28)"
      ]
     },
     "execution_count": 6,
     "metadata": {},
     "output_type": "execute_result"
    }
   ],
   "source": [
    "x_test.shape"
   ]
  },
  {
   "cell_type": "code",
   "execution_count": 7,
   "id": "e15149e1-2583-4d1e-8671-4fa9abada3d0",
   "metadata": {},
   "outputs": [
    {
     "data": {
      "text/plain": [
       "(60000,)"
      ]
     },
     "execution_count": 7,
     "metadata": {},
     "output_type": "execute_result"
    }
   ],
   "source": [
    "train_labels.shape"
   ]
  },
  {
   "cell_type": "code",
   "execution_count": 8,
   "id": "3db7ef78-b92b-4348-82f3-99404659f593",
   "metadata": {},
   "outputs": [
    {
     "data": {
      "text/plain": [
       "array([0, 1, 2, 3, 4, 5, 6, 7, 8, 9], dtype=uint8)"
      ]
     },
     "execution_count": 8,
     "metadata": {},
     "output_type": "execute_result"
    }
   ],
   "source": [
    "np.unique(train_labels)"
   ]
  },
  {
   "cell_type": "code",
   "execution_count": 9,
   "id": "3e22d1a7-f3fc-4edc-be64-d01831431e37",
   "metadata": {},
   "outputs": [],
   "source": [
    "y_train, _ = one_hot_encode(train_labels, True)"
   ]
  },
  {
   "cell_type": "code",
   "execution_count": 10,
   "id": "fd8d1d9d-22f6-426f-92fa-5e37d68109ff",
   "metadata": {},
   "outputs": [
    {
     "data": {
      "text/plain": [
       "(60000, 10)"
      ]
     },
     "execution_count": 10,
     "metadata": {},
     "output_type": "execute_result"
    }
   ],
   "source": [
    "y_train.shape"
   ]
  },
  {
   "cell_type": "code",
   "execution_count": 11,
   "id": "ef9f8ea6-15c0-4981-8b21-96691b835222",
   "metadata": {},
   "outputs": [],
   "source": [
    "X = x_train[:, :, :, np.newaxis]\n",
    "X_test = x_test[:, :, :, np.newaxis]"
   ]
  },
  {
   "cell_type": "code",
   "execution_count": 12,
   "id": "6c3a765c-2090-4efd-99f4-52cb8a135341",
   "metadata": {},
   "outputs": [
    {
     "data": {
      "text/plain": [
       "(60000, 28, 28, 1)"
      ]
     },
     "execution_count": 12,
     "metadata": {},
     "output_type": "execute_result"
    }
   ],
   "source": [
    "X.shape"
   ]
  },
  {
   "cell_type": "code",
   "execution_count": 13,
   "id": "0e7d6d69-57eb-4116-90ee-aafb210aa4a6",
   "metadata": {},
   "outputs": [
    {
     "data": {
      "text/plain": [
       "(10000, 28, 28, 1)"
      ]
     },
     "execution_count": 13,
     "metadata": {},
     "output_type": "execute_result"
    }
   ],
   "source": [
    "X_test.shape"
   ]
  },
  {
   "cell_type": "code",
   "execution_count": 14,
   "id": "43842b0b-c809-43eb-855e-3fd0de642fd0",
   "metadata": {},
   "outputs": [
    {
     "data": {
      "text/plain": [
       "(10000,)"
      ]
     },
     "execution_count": 14,
     "metadata": {},
     "output_type": "execute_result"
    }
   ],
   "source": [
    "test_labels.shape"
   ]
  },
  {
   "cell_type": "code",
   "execution_count": 15,
   "id": "e66335ac-937d-4b0a-9147-903261aca492",
   "metadata": {},
   "outputs": [
    {
     "name": "stdout",
     "output_type": "stream",
     "text": [
      "(60000, 28, 28, 1)\n"
     ]
    }
   ],
   "source": [
    "layer_size = 3\n",
    "conv_input_shape = X.shape\n",
    "print(conv_input_shape)\n",
    "n_filters = [32, 64, 128]\n",
    "fc_dropout_rates = [1.0, 1.0]\n",
    "conv_dropout_rates = [1.0, 1.0, 1.0]\n",
    "conv_activations = ['relu', 'relu', 'relu']\n",
    "poolings = ['max', 'max', 'max']\n",
    "fc_layers = [128, 64]\n",
    "output_labels = ['mnist']\n",
    "y = {'mnist': y_train}\n",
    "output_activations = {'mnist':'softmax'}\n",
    "fc_activations = ['relu', 'relu']\n",
    "output_heads = [10]\n",
    "pool_sizes = [(3, 3), (3, 3), (3, 3)]\n",
    "pool_strides = [(2, 2), (2, 2), (2, 2)]\n",
    "strides = [(1, 1), (1, 1), (1, 1)]\n",
    "filter_sizes = [(3, 3), (3, 3), (3, 3)]\n",
    "pads = ['same', 'same', 'same']\n",
    "conv_operations = [None, None, None]\n",
    "transpose_output_padding = [0, 0, 0]"
   ]
  },
  {
   "cell_type": "code",
   "execution_count": 16,
   "id": "e8ee5152-fede-4528-93ef-13604620368f",
   "metadata": {},
   "outputs": [
    {
     "name": "stdout",
     "output_type": "stream",
     "text": [
      "Layers   ............... Trainable Params\n",
      "Conv2D_1 ............... 320\n",
      "Conv2D_2 ............... 18496\n",
      "Conv2D_3 ............... 73856\n",
      "Total    ............... 92672\n",
      "Memory   ............... 741376 bytes (724 KB) (0.707 MB)\n"
     ]
    }
   ],
   "source": [
    "model = Model(conv_input_shape, layer_size, conv_activations, fc_layers, \n",
    "                 fc_activations, n_filters, filter_sizes,\n",
    "              poolings, pool_sizes, strides, pads,\n",
    "              fc_dropout_rates=fc_dropout_rates, \n",
    "              conv_dropout_rates=conv_dropout_rates, pool_strides=pool_strides, \n",
    "              output_heads=output_heads,output_labels=output_labels,\n",
    "              output_activations=output_activations,conv_operations=conv_operations, \n",
    "              transpose_output_padding=transpose_output_padding)"
   ]
  },
  {
   "cell_type": "code",
   "execution_count": 17,
   "id": "6988e1bc-20e4-4a5c-a345-8fa13859268b",
   "metadata": {},
   "outputs": [],
   "source": [
    "learning_rate = 1e-3\n",
    "decay=False\n",
    "normalized = False\n",
    "bias = False\n",
    "batch_size = 1000\n",
    "optimizer = 'adam'"
   ]
  },
  {
   "cell_type": "code",
   "execution_count": 18,
   "id": "4115252e-1f7e-4260-8858-bc7ef3f6de54",
   "metadata": {},
   "outputs": [
    {
     "name": "stdout",
     "output_type": "stream",
     "text": [
      "Layers ............... Trainable Params\n",
      "Dense1 ............... 262272\n",
      "Dense2 ............... 8256\n",
      "Dense3 ............... 650\n",
      "Total  ............... 271178\n",
      "Memory ............... 2169424 bytes (2118 KB) (2.068 MB)\n",
      "Epoch  1/12 Loss: 3.41972620   \n",
      "Epoch  2/12 Loss: 0.34790020   \n",
      "Epoch  3/12 Loss: 0.29416881   \n",
      "Epoch  4/12 Loss: 0.21970244   \n",
      "Epoch  5/12 Loss: 0.19084960   \n",
      "Epoch  6/12 Loss: 0.17285586   \n",
      "Epoch  7/12 Loss: 0.15624651   \n",
      "Epoch  8/12 Loss: 0.15800129   \n",
      "Epoch  9/12 Loss: 0.15709318   \n",
      "Epoch 10/12 Loss: 0.15136323   \n",
      "Epoch 11/12 Loss: 0.14000681   \n",
      "Epoch 12/12 Loss: 0.14840912   \n"
     ]
    }
   ],
   "source": [
    "model.fit(X, y,\n",
    "          learning_rate=learning_rate, epochs=15,\n",
    "          normalized=normalized,\n",
    "            optimizer=optimizer, \n",
    "          decay=decay, bias=bias,\n",
    "          batch_size=batch_size, \n",
    "          verbose=True)"
   ]
  },
  {
   "cell_type": "code",
   "execution_count": null,
   "id": "b5f04285-8b1d-457a-9b4d-3e06f3d93e45",
   "metadata": {},
   "outputs": [],
   "source": [
    "model.conv_A_shapes"
   ]
  },
  {
   "cell_type": "code",
   "execution_count": null,
   "id": "aa8f0b97-9d96-4ad3-bdc8-cd02ea046df2",
   "metadata": {},
   "outputs": [],
   "source": [
    "model.fc_A_shapes"
   ]
  },
  {
   "cell_type": "code",
   "execution_count": 19,
   "id": "64e9bbd4-20df-42a9-8207-7d30abcb44a7",
   "metadata": {},
   "outputs": [
    {
     "data": {
      "text/plain": [
       "(10000, 28, 28, 1)"
      ]
     },
     "execution_count": 19,
     "metadata": {},
     "output_type": "execute_result"
    }
   ],
   "source": [
    "X_test.shape"
   ]
  },
  {
   "cell_type": "code",
   "execution_count": 20,
   "id": "7d161621-24ac-49c9-82b6-cb491b005f95",
   "metadata": {},
   "outputs": [],
   "source": [
    "test_predictions = model.predict(X_test, batch_size)"
   ]
  },
  {
   "cell_type": "code",
   "execution_count": 21,
   "id": "6667748c-2e2a-4f5d-acc4-c89963c156bb",
   "metadata": {},
   "outputs": [],
   "source": [
    "test_predictions = test_predictions['mnist']"
   ]
  },
  {
   "cell_type": "code",
   "execution_count": 22,
   "id": "b3ca8b47-c743-460a-84e6-852fc3191b22",
   "metadata": {},
   "outputs": [
    {
     "data": {
      "text/plain": [
       "(10000, 10)"
      ]
     },
     "execution_count": 22,
     "metadata": {},
     "output_type": "execute_result"
    }
   ],
   "source": [
    "test_predictions.shape"
   ]
  },
  {
   "cell_type": "code",
   "execution_count": 23,
   "id": "db00c556-e471-4d1b-ba63-feea0a15c706",
   "metadata": {},
   "outputs": [],
   "source": [
    "test_predictions = np.argmax(test_predictions, axis=1)"
   ]
  },
  {
   "cell_type": "code",
   "execution_count": 26,
   "id": "7e2d84cd-7b5a-4d45-8cb8-5cb416449185",
   "metadata": {},
   "outputs": [
    {
     "data": {
      "text/plain": [
       "0.8981"
      ]
     },
     "execution_count": 26,
     "metadata": {},
     "output_type": "execute_result"
    }
   ],
   "source": [
    "accuracy_score(test_labels, test_predictions)"
   ]
  },
  {
   "cell_type": "code",
   "execution_count": 27,
   "id": "08794e6d-ab78-44e4-b73a-72d1a0c91c4c",
   "metadata": {},
   "outputs": [
    {
     "data": {
      "text/plain": [
       "(132,)"
      ]
     },
     "execution_count": 27,
     "metadata": {},
     "output_type": "execute_result"
    }
   ],
   "source": [
    "costs = np.array(model.costs)\n",
    "costs.shape"
   ]
  },
  {
   "cell_type": "code",
   "execution_count": 28,
   "id": "5bbc7e0b-7811-4a90-b028-5b94d800ad07",
   "metadata": {},
   "outputs": [
    {
     "data": {
      "image/png": "[encoded data removed]",
      "text/plain": [
       "<Figure size 640x480 with 1 Axes>"
      ]
     },
     "metadata": {},
     "output_type": "display_data"
    }
   ],
   "source": [
    "plt.plot(np.arange(len(model.iterations)), costs)\n",
    "plt.title('The plot of cost against the iterations')\n",
    "plt.xlabel('iterations')\n",
    "plt.ylabel('Cost')\n",
    "plt.show();"
   ]
  },
  {
   "cell_type": "code",
   "execution_count": 29,
   "id": "7037d391-b57d-47f9-b44b-0ced60cb1ed4",
   "metadata": {},
   "outputs": [],
   "source": [
    "predictions = model.predict(X, batch_size)\n",
    "predictions = predictions['mnist']\n",
    "predictions = np.argmax(predictions, axis=1)"
   ]
  },
  {
   "cell_type": "code",
   "execution_count": 30,
   "id": "dfc72767-40e1-4817-b969-e1fdb2944d29",
   "metadata": {},
   "outputs": [
    {
     "data": {
      "text/plain": [
       "(60000,)"
      ]
     },
     "execution_count": 30,
     "metadata": {},
     "output_type": "execute_result"
    }
   ],
   "source": [
    "predictions.shape"
   ]
  },
  {
   "cell_type": "code",
   "execution_count": 31,
   "id": "4ddc0157-42dd-4289-a6db-f7e471a6f882",
   "metadata": {},
   "outputs": [
    {
     "data": {
      "text/plain": [
       "0.9236333333333333"
      ]
     },
     "execution_count": 31,
     "metadata": {},
     "output_type": "execute_result"
    }
   ],
   "source": [
    "accuracy_score(train_labels, predictions)"
   ]
  },
  {
   "cell_type": "code",
   "execution_count": 37,
   "id": "3a986653-91bd-48a4-bd5d-0225a3448adc",
   "metadata": {},
   "outputs": [
    {
     "name": "stdout",
     "output_type": "stream",
     "text": [
      "Model saved to conv_fashion_mnist_model.pkl\n"
     ]
    }
   ],
   "source": [
    "#model.save('conv_fashion_mnist_model.pkl')"
   ]
  },
  {
   "cell_type": "code",
   "execution_count": 38,
   "id": "24ef18ff-778f-4824-9738-f022f28e86dc",
   "metadata": {},
   "outputs": [
    {
     "name": "stdout",
     "output_type": "stream",
     "text": [
      "Model loaded from conv_fashion_mnist_model.pkl\n"
     ]
    }
   ],
   "source": [
    "#loaded_model = model.load('conv_fashion_mnist_model.pkl')"
   ]
  },
  {
   "cell_type": "code",
   "execution_count": 34,
   "id": "ba27c108-1223-4d3c-b9d0-1131abf5dcb1",
   "metadata": {},
   "outputs": [
    {
     "data": {
      "image/png": "[encoded data removed]",
      "text/plain": [
       "<Figure size 640x480 with 1 Axes>"
      ]
     },
     "metadata": {},
     "output_type": "display_data"
    }
   ],
   "source": [
    "index = 30\n",
    "image = test_images[index]\n",
    "img = image[np.newaxis, :, :, np.newaxis]\n",
    "img_pred = model.predict(img, -1)\n",
    "img_pred = img_pred['mnist']\n",
    "img_pred = np.argmax(img_pred, axis=1).squeeze()\n",
    "plt.imshow(image)\n",
    "plt.title(f'Image {index} from test set.\\nPredicted label: {class_names[img_pred]}\\n True label: {class_names[test_labels[index]]}')\n",
    "plt.axis('off')\n",
    "plt.show();"
   ]
  },
  {
   "cell_type": "code",
   "execution_count": 35,
   "id": "83b64fb2-2ad1-4cea-a72e-c1917f99f326",
   "metadata": {},
   "outputs": [
    {
     "data": {
      "text/plain": [
       "8981"
      ]
     },
     "execution_count": 35,
     "metadata": {},
     "output_type": "execute_result"
    }
   ],
   "source": [
    "len(test_labels[test_predictions == test_labels])"
   ]
  },
  {
   "cell_type": "code",
   "execution_count": 36,
   "id": "e804761b-9973-452f-9535-abb90fed99c8",
   "metadata": {},
   "outputs": [
    {
     "data": {
      "text/plain": [
       "1019"
      ]
     },
     "execution_count": 36,
     "metadata": {},
     "output_type": "execute_result"
    }
   ],
   "source": [
    "len(test_labels[test_predictions != test_labels])"
   ]
  },
  {
   "cell_type": "code",
   "execution_count": 40,
   "id": "1132f540-431d-46f4-a6ce-83a24cd7a6d5",
   "metadata": {},
   "outputs": [
    {
     "data": {
      "image/png": "[encoded data removed]",
      "text/plain": [
       "<Figure size 640x480 with 1 Axes>"
      ]
     },
     "metadata": {},
     "output_type": "display_data"
    }
   ],
   "source": [
    "# index = 35\n",
    "# image = test_images[index]\n",
    "# img = image[np.newaxis, :, :, np.newaxis]\n",
    "# img_pred = loaded_model.predict(img, -1)\n",
    "# img_pred = img_pred['mnist']\n",
    "# img_pred = np.argmax(img_pred, axis=1).squeeze()\n",
    "# plt.imshow(image)\n",
    "# plt.title(f'Image {index} from test set.\\nPredicted label: {class_names[img_pred]}\\n True label: {class_names[test_labels[index]]}')\n",
    "# plt.axis('off')\n",
    "# plt.show();"
   ]
  },
  {
   "cell_type": "code",
   "execution_count": null,
   "id": "63b767ee-71f6-4cbe-9006-2869c538002f",
   "metadata": {},
   "outputs": [],
   "source": []
  }
 ],
 "metadata": {
  "kernelspec": {
   "display_name": "Python 3 (ipykernel)",
   "language": "python",
   "name": "python3"
  },
  "language_info": {
   "codemirror_mode": {
    "name": "ipython",
    "version": 3
   },
   "file_extension": ".py",
   "mimetype": "text/x-python",
   "name": "python",
   "nbconvert_exporter": "python",
   "pygments_lexer": "ipython3",
   "version": "3.11.7"
  }
 },
 "nbformat": 4,
 "nbformat_minor": 5
}
