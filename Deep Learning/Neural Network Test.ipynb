{
 "cells": [
  {
   "cell_type": "code",
   "execution_count": 1,
   "id": "e21ecf88-2659-40dd-9cb8-7b9a30382994",
   "metadata": {},
   "outputs": [],
   "source": [
    "\"\"\"@author Okorie Ndubuisi May 2025\"\"\"\n",
    "import numpy as np\n",
    "import matplotlib.pyplot as plt\n",
    "from model import Model\n",
    "import seaborn as sns\n",
    "import pandas as pd\n",
    "from planar_utils import plot_decision_boundary, sigmoid, load_planar_dataset, load_extra_datasets\n",
    "sns.set_theme()"
   ]
  },
  {
   "cell_type": "code",
   "execution_count": 2,
   "id": "8d437c26-a977-4cbc-ae2a-a6ea0d2524c9",
   "metadata": {},
   "outputs": [
    {
     "data": {
      "image/png": "[encoded data removed]",
      "text/plain": [
       "<Figure size 600x600 with 64 Axes>"
      ]
     },
     "metadata": {},
     "output_type": "display_data"
    }
   ],
   "source": [
    "from sklearn.datasets import load_digits\n",
    "digits = load_digits(n_class=10)\n",
    "fig, ax = plt.subplots(8, 8, figsize=(6, 6))\n",
    "for i, axi in enumerate(ax.flat):\n",
    "    axi.imshow(digits.images[i], cmap='binary')\n",
    "    axi.set(xticks=[], yticks=[])"
   ]
  },
  {
   "cell_type": "code",
   "execution_count": 30,
   "id": "0c90ea98-8916-4913-9eb9-1c4c48c3aadf",
   "metadata": {},
   "outputs": [],
   "source": [
    "X = np.array(digits.data[:200, :], dtype=np.float64)\n",
    "Y = digits.target[:200]\n",
    "Y\n",
    "X = X.T\n",
    "\n",
    "X_test = digits.data[200:, :]\n",
    "X_test = X_test.T\n",
    "Y_true = digits.target[200:]"
   ]
  },
  {
   "cell_type": "code",
   "execution_count": 5,
   "id": "4c04051d-1592-4a2e-be00-ec8cd7b258e2",
   "metadata": {},
   "outputs": [
    {
     "name": "stdout",
     "output_type": "stream",
     "text": [
      "(64, 200)\n",
      "(200,)\n"
     ]
    }
   ],
   "source": [
    "print(X.shape)\n",
    "print(Y.shape)"
   ]
  },
  {
   "cell_type": "code",
   "execution_count": 27,
   "id": "328fdaf5",
   "metadata": {},
   "outputs": [
    {
     "name": "stdout",
     "output_type": "stream",
     "text": [
      "(64, 200)\n"
     ]
    }
   ],
   "source": [
    "input_shape = X.shape\n",
    "print(input_shape)"
   ]
  },
  {
   "cell_type": "code",
   "execution_count": 32,
   "id": "7856e922-1693-456e-95e2-502cac068509",
   "metadata": {},
   "outputs": [],
   "source": [
    "layers = [7, 5, 6, 10]\n",
    "activations = ['tanh', 'tanh', 'tanh', 'softmax']\n",
    "model = Model(input_shape, layers, activations)"
   ]
  },
  {
   "cell_type": "code",
   "execution_count": 33,
   "id": "7a170bcd",
   "metadata": {},
   "outputs": [
    {
     "name": "stdout",
     "output_type": "stream",
     "text": [
      "Running epoch 1 / 1\n",
      "Running mini-batch 1 / 1\n",
      "Iteration    0: Cost 119.12850669   \n",
      "Iteration 10000: Cost 119.12232981   \n",
      "Iteration 20000: Cost 119.11610007   \n",
      "Iteration 30000: Cost 119.11001281   \n",
      "Iteration 40000: Cost 119.10402328   \n",
      "Iteration 50000: Cost 119.09804303   \n",
      "Iteration 60000: Cost 119.09212497   \n",
      "Iteration 70000: Cost 119.08622268   \n",
      "Iteration 80000: Cost 119.08035714   \n",
      "Iteration 90000: Cost 119.07461992   \n",
      "Iteration 99999: Cost 119.06922638   \n"
     ]
    }
   ],
   "source": [
    "num_iters = 100000\n",
    "learning_rate = 1e-8\n",
    "decay=False\n",
    "normalized = False\n",
    "optimizer = 'adam'\n",
    "model.fit(X, Y, num_iters=num_iters, \n",
    "          learning_rate=learning_rate,\n",
    "            tuning_param=1,\n",
    "            optimizer=optimizer,\n",
    "              decay=decay, normalized=normalized)"
   ]
  },
  {
   "cell_type": "code",
   "execution_count": 26,
   "id": "7eff8c44",
   "metadata": {},
   "outputs": [],
   "source": [
    "test_predictions = model.predict(X_test)"
   ]
  },
  {
   "cell_type": "code",
   "execution_count": 30,
   "id": "bc6ea264",
   "metadata": {},
   "outputs": [
    {
     "data": {
      "text/plain": [
       "(10, 1597)"
      ]
     },
     "execution_count": 30,
     "metadata": {},
     "output_type": "execute_result"
    }
   ],
   "source": [
    "test_predictions.shape"
   ]
  },
  {
   "cell_type": "code",
   "execution_count": 27,
   "id": "83104946",
   "metadata": {},
   "outputs": [],
   "source": [
    "train_predictions = model.predict(X)"
   ]
  },
  {
   "cell_type": "code",
   "execution_count": 29,
   "id": "e1948984",
   "metadata": {},
   "outputs": [
    {
     "data": {
      "text/plain": [
       "(10, 200)"
      ]
     },
     "execution_count": 29,
     "metadata": {},
     "output_type": "execute_result"
    }
   ],
   "source": [
    "train_predictions.shape"
   ]
  },
  {
   "cell_type": "code",
   "execution_count": 31,
   "id": "3a907122",
   "metadata": {},
   "outputs": [],
   "source": [
    "testpredictions = np.argmax(test_predictions, axis=0)"
   ]
  },
  {
   "cell_type": "code",
   "execution_count": 32,
   "id": "e19c20ce",
   "metadata": {},
   "outputs": [
    {
     "data": {
      "text/plain": [
       "(1597,)"
      ]
     },
     "execution_count": 32,
     "metadata": {},
     "output_type": "execute_result"
    }
   ],
   "source": [
    "testpredictions.shape"
   ]
  },
  {
   "cell_type": "code",
   "execution_count": 33,
   "id": "363ded47",
   "metadata": {},
   "outputs": [
    {
     "data": {
      "text/plain": [
       "array([8, 8, 7, ..., 8, 7, 8])"
      ]
     },
     "execution_count": 33,
     "metadata": {},
     "output_type": "execute_result"
    }
   ],
   "source": [
    "testpredictions"
   ]
  },
  {
   "cell_type": "code",
   "execution_count": 34,
   "id": "bc68ba9b",
   "metadata": {},
   "outputs": [],
   "source": [
    "trainpredictions = np.argmax(train_predictions, axis=0)"
   ]
  },
  {
   "cell_type": "code",
   "execution_count": 35,
   "id": "895c97d0",
   "metadata": {},
   "outputs": [
    {
     "data": {
      "text/plain": [
       "(200,)"
      ]
     },
     "execution_count": 35,
     "metadata": {},
     "output_type": "execute_result"
    }
   ],
   "source": [
    "trainpredictions.shape"
   ]
  },
  {
   "cell_type": "code",
   "execution_count": 36,
   "id": "b2318828",
   "metadata": {},
   "outputs": [
    {
     "data": {
      "text/plain": [
       "array([7, 4, 8, 8, 3, 7, 3, 5, 6, 7, 3, 8, 8, 8, 3, 8, 3, 3, 8, 8, 7, 4,\n",
       "       8, 7, 8, 0, 3, 8, 9, 8, 7, 4, 8, 0, 3, 8, 7, 8, 8, 4, 3, 3, 8, 5,\n",
       "       4, 7, 0, 9, 7, 7, 5, 9, 8, 8, 4, 7, 8, 9, 3, 7, 7, 8, 7, 7, 3, 3,\n",
       "       3, 8, 3, 4, 4, 8, 7, 8, 7, 7, 8, 9, 7, 7, 7, 3, 3, 7, 8, 3, 8, 3,\n",
       "       8, 7, 8, 7, 7, 3, 4, 3, 8, 3, 7, 3, 3, 3, 8, 8, 3, 7, 3, 8, 4, 7,\n",
       "       3, 7, 4, 8, 8, 5, 5, 8, 4, 5, 7, 8, 3, 5, 0, 7, 7, 8, 8, 3, 7, 9,\n",
       "       8, 7, 3, 7, 3, 5, 8, 5, 7, 8, 8, 0, 3, 8, 3, 8, 8, 8, 7, 8, 5, 7,\n",
       "       3, 0, 3, 8, 3, 8, 7, 1, 8, 3, 8, 8, 7, 9, 8, 8, 3, 3, 5, 5, 5, 7,\n",
       "       8, 3, 7, 7, 3, 8, 4, 8, 8, 7, 8, 8, 3, 7, 7, 8, 7, 7, 3, 3, 3, 3,\n",
       "       3, 8])"
      ]
     },
     "execution_count": 36,
     "metadata": {},
     "output_type": "execute_result"
    }
   ],
   "source": [
    "trainpredictions"
   ]
  },
  {
   "cell_type": "code",
   "execution_count": 37,
   "id": "6fbbef87-efda-4aa3-b7de-274b39de9e0a",
   "metadata": {},
   "outputs": [
    {
     "name": "stdout",
     "output_type": "stream",
     "text": [
      "7.576706324358172\n",
      "6.0\n"
     ]
    }
   ],
   "source": [
    "test_accuracy = (len(Y_true[np.where(Y_true == testpredictions)]) / len(Y_true)) * 100\n",
    "print(test_accuracy)\n",
    "train_accuracy = (len(Y[np.where(Y == trainpredictions)]) / len(Y)) * 100\n",
    "print(train_accuracy)"
   ]
  },
  {
   "cell_type": "markdown",
   "id": "ba2958b1-6650-4f47-8c20-67e36a99f3ff",
   "metadata": {},
   "source": [
    " Let us generate data using  this\n",
    "linear function for our model test, our model will try to estimate the weights and bias term\n",
    "of this function, this function has 3 features so our weights will be 3 plus 1 bias term. Our function is truly linear, however it should be noted that in real world application you can hardly see any relationship that is wholely linear. But we will simulate data using this function, our function says: \"I will generate dataset using some coefficients and intercept, please find those coefficients and intercept that I used to generate the dataset.\" So the coefficients are [7, 2, -5] and the intercept is 3. Our model will attempt to find these four values."
   ]
  },
  {
   "cell_type": "code",
   "execution_count": 7,
   "id": "f8e9b1e7-0379-473b-a2af-3e2f506c76cb",
   "metadata": {},
   "outputs": [],
   "source": [
    "f = lambda x1, x2, x3: 7*x1 + 2*x2 - 5*x3 + 3"
   ]
  },
  {
   "cell_type": "code",
   "execution_count": null,
   "id": "790ee79f-843a-4ef6-812e-aa6a016ee147",
   "metadata": {},
   "outputs": [
    {
     "name": "stdout",
     "output_type": "stream",
     "text": [
      "[[52 93 15]\n",
      " [72 61 21]\n",
      " [83 87 75]\n",
      " [75 88 24]\n",
      " [ 3 22 53]]\n",
      "[[ 478]\n",
      " [ 524]\n",
      " [ 383]\n",
      " [ 584]\n",
      " [-197]]\n",
      "(1000, 3)\n",
      "(1000, 1)\n"
     ]
    }
   ],
   "source": [
    "#Generate the training data using our function\n",
    "np.random.seed(42)\n",
    "X = np.random.randint(1, 100, size=(1_000, 3))\n",
    "X = X.T\n",
    "Y = f(X[:,0], X[:,1], X[:,2])\n",
    "Y = Y[:, np.newaxis]\n",
    "print(X[:5])\n",
    "print(Y[:5])\n",
    "print(X.shape)\n",
    "print(Y.shape)"
   ]
  },
  {
   "cell_type": "code",
   "execution_count": null,
   "id": "a870f7e5-18e0-4d4e-9b3c-218c745e4d53",
   "metadata": {},
   "outputs": [
    {
     "name": "stdout",
     "output_type": "stream",
     "text": [
      "(50, 3)\n",
      "(50, 1)\n"
     ]
    }
   ],
   "source": [
    "#Generate test data using our function\n",
    "X_test = np.random.randint(1, 10, size=(50, 3))\n",
    "X_test = X_test.T\n",
    "Y_true = f(X_test[:,0], X_test[:,1], X_test[:,2])\n",
    "Y_true = Y_true[:, np.newaxis]\n",
    "print(X_test.shape)\n",
    "print(Y_true.shape)"
   ]
  },
  {
   "cell_type": "code",
   "execution_count": null,
   "id": "03ab0920",
   "metadata": {},
   "outputs": [],
   "source": [
    "layers = [15, 10, 5, 1]\n",
    "activations = ['relu', 'relu', 'relu', 'linear']\n",
    "model = Model(input_shape, layers, activations)\n",
    "model.fit(X, Y)"
   ]
  },
  {
   "cell_type": "code",
   "execution_count": null,
   "id": "3e4cbf6b",
   "metadata": {},
   "outputs": [],
   "source": [
    "predictions = model.predict()"
   ]
  },
  {
   "cell_type": "code",
   "execution_count": null,
   "id": "bde8aaab-af9c-4e02-9b4e-c61633ec42ad",
   "metadata": {},
   "outputs": [],
   "source": [
    "plt.scatter(Y_true, predictions)"
   ]
  },
  {
   "cell_type": "code",
   "execution_count": 4,
   "id": "5671efeb",
   "metadata": {},
   "outputs": [],
   "source": [
    "X, Y = load_planar_dataset()"
   ]
  },
  {
   "cell_type": "code",
   "execution_count": 5,
   "id": "75333c34",
   "metadata": {},
   "outputs": [
    {
     "name": "stdout",
     "output_type": "stream",
     "text": [
      "(1, 400)\n"
     ]
    }
   ],
   "source": [
    "print(Y.shape)"
   ]
  },
  {
   "cell_type": "code",
   "execution_count": 6,
   "id": "2e122f5a",
   "metadata": {},
   "outputs": [
    {
     "name": "stdout",
     "output_type": "stream",
     "text": [
      "(2, 400)\n"
     ]
    }
   ],
   "source": [
    "input_shape = X.shape\n",
    "print(input_shape)"
   ]
  },
  {
   "cell_type": "code",
   "execution_count": 7,
   "id": "dd7f095a",
   "metadata": {},
   "outputs": [
    {
     "data": {
      "image/png": "[encoded data removed]",
      "text/plain": [
       "<Figure size 640x480 with 1 Axes>"
      ]
     },
     "metadata": {},
     "output_type": "display_data"
    }
   ],
   "source": [
    "plt.scatter(X[0, :], X[1, :], c=Y, s=40, cmap=plt.cm.Spectral);"
   ]
  },
  {
   "cell_type": "code",
   "execution_count": 8,
   "id": "5594924a",
   "metadata": {},
   "outputs": [],
   "source": [
    "layers = [7, 4, 1]\n",
    "activations = ['tanh', 'tanh', 'sigmoid']\n",
    "model = Model(input_shape, layers, activations)"
   ]
  },
  {
   "cell_type": "code",
   "execution_count": 9,
   "id": "e070c19c",
   "metadata": {},
   "outputs": [
    {
     "name": "stdout",
     "output_type": "stream",
     "text": [
      "Running epoch 1 / 1\n",
      "Running mini-batch 1 / 1\n",
      "Iteration    0: Cost 0.82008873   \n",
      "Iteration 10000: Cost 0.19898184   \n",
      "Iteration 20000: Cost 0.15190499   \n",
      "Iteration 30000: Cost 0.14155598   \n",
      "Iteration 40000: Cost 0.13770447   \n",
      "Iteration 50000: Cost 0.13574473   \n",
      "Iteration 60000: Cost 0.13484635   \n",
      "Iteration 70000: Cost 0.13430726   \n",
      "Iteration 80000: Cost 0.13420417   \n",
      "Iteration 90000: Cost 0.13417009   \n",
      "Iteration 99999: Cost 0.13413302   \n"
     ]
    }
   ],
   "source": [
    "num_iters = 100000\n",
    "learning_rate = 0.0001\n",
    "decay=True\n",
    "normalized = False\n",
    "optimizer = 'adam'\n",
    "model.fit(X, Y, num_iters=num_iters,decay=decay,\n",
    "           learning_rate=learning_rate, \n",
    "           tuning_param=1,optimizer=optimizer, normalized=normalized)"
   ]
  },
  {
   "cell_type": "code",
   "execution_count": 10,
   "id": "04fc2b7b",
   "metadata": {},
   "outputs": [
    {
     "name": "stdout",
     "output_type": "stream",
     "text": [
      "Accuracy: 91%\n"
     ]
    }
   ],
   "source": [
    "# Print accuracy\n",
    "\n",
    "predictions = model.predict(X)\n",
    "model.accuracy(predictions, Y)"
   ]
  }
 ],
 "metadata": {
  "kernelspec": {
   "display_name": ".venv",
   "language": "python",
   "name": "python3"
  },
  "language_info": {
   "codemirror_mode": {
    "name": "ipython",
    "version": 3
   },
   "file_extension": ".py",
   "mimetype": "text/x-python",
   "name": "python",
   "nbconvert_exporter": "python",
   "pygments_lexer": "ipython3",
   "version": "3.11.7"
  }
 },
 "nbformat": 4,
 "nbformat_minor": 5
}
