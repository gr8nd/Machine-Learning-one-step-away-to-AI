{
 "cells": [
  {
   "cell_type": "code",
   "execution_count": 1,
   "id": "9871f01d-c802-46f5-b5fa-46f3681d9996",
   "metadata": {},
   "outputs": [],
   "source": [
    "import numpy as np\n",
    "import matplotlib.pyplot as plt\n",
    "from model import Model\n",
    "from algorithms.ml.utils.utils import one_hot_encode\n",
    "from sklearn.metrics import mean_squared_error, confusion_matrix, accuracy_score"
   ]
  },
  {
   "cell_type": "code",
   "execution_count": 2,
   "id": "09795de2-799f-4f28-89a5-ad390085a63b",
   "metadata": {},
   "outputs": [],
   "source": [
    "mnist = np.load('C:/Users/Matho/Documents/ndubuisi/algorithms/ml/data/mnist.npz')"
   ]
  },
  {
   "cell_type": "code",
   "execution_count": 3,
   "id": "b04fc726-a6b5-4a0c-a038-a2605d12310c",
   "metadata": {},
   "outputs": [
    {
     "data": {
      "text/plain": [
       "['x_test', 'x_train', 'y_train', 'y_test']"
      ]
     },
     "execution_count": 3,
     "metadata": {},
     "output_type": "execute_result"
    }
   ],
   "source": [
    "list(mnist.keys())"
   ]
  },
  {
   "cell_type": "code",
   "execution_count": 4,
   "id": "383797bd-eb5c-4ac1-943f-a6a86f29f2b5",
   "metadata": {},
   "outputs": [],
   "source": [
    "x_train, train_y, x_test, y_test = mnist['x_train'], mnist['y_train'], mnist['x_test'], mnist['y_test']\n",
    "x_train = x_train / 255.0\n",
    "x_test = x_test / 255.0"
   ]
  },
  {
   "cell_type": "code",
   "execution_count": 5,
   "id": "a4406f6f-bb4c-453b-8154-2efeebb3cb56",
   "metadata": {},
   "outputs": [
    {
     "data": {
      "text/plain": [
       "(60000, 28, 28)"
      ]
     },
     "execution_count": 5,
     "metadata": {},
     "output_type": "execute_result"
    }
   ],
   "source": [
    "x_train.shape"
   ]
  },
  {
   "cell_type": "code",
   "execution_count": 6,
   "id": "516ff4f8-d16e-431a-bd17-e6310747c310",
   "metadata": {},
   "outputs": [
    {
     "data": {
      "text/plain": [
       "(10000, 28, 28)"
      ]
     },
     "execution_count": 6,
     "metadata": {},
     "output_type": "execute_result"
    }
   ],
   "source": [
    "x_test.shape"
   ]
  },
  {
   "cell_type": "code",
   "execution_count": 7,
   "id": "3e22d1a7-f3fc-4edc-be64-d01831431e37",
   "metadata": {},
   "outputs": [],
   "source": [
    "y_train, _ = one_hot_encode(train_y, True)"
   ]
  },
  {
   "cell_type": "code",
   "execution_count": 8,
   "id": "ef9f8ea6-15c0-4981-8b21-96691b835222",
   "metadata": {},
   "outputs": [],
   "source": [
    "X = x_train.reshape(x_train.shape[0], -1)\n",
    "X_test = x_test.reshape(x_test.shape[0], -1)"
   ]
  },
  {
   "cell_type": "code",
   "execution_count": 9,
   "id": "6c3a765c-2090-4efd-99f4-52cb8a135341",
   "metadata": {},
   "outputs": [
    {
     "data": {
      "text/plain": [
       "(60000, 784)"
      ]
     },
     "execution_count": 9,
     "metadata": {},
     "output_type": "execute_result"
    }
   ],
   "source": [
    "X.shape"
   ]
  },
  {
   "cell_type": "code",
   "execution_count": 10,
   "id": "0e7d6d69-57eb-4116-90ee-aafb210aa4a6",
   "metadata": {},
   "outputs": [
    {
     "data": {
      "text/plain": [
       "(10000, 784)"
      ]
     },
     "execution_count": 10,
     "metadata": {},
     "output_type": "execute_result"
    }
   ],
   "source": [
    "X_test.shape"
   ]
  },
  {
   "cell_type": "code",
   "execution_count": 11,
   "id": "4e4f0716-d5b8-428e-8911-51a0e6869821",
   "metadata": {},
   "outputs": [
    {
     "data": {
      "text/plain": [
       "(60000, 10)"
      ]
     },
     "execution_count": 11,
     "metadata": {},
     "output_type": "execute_result"
    }
   ],
   "source": [
    "y_train.shape"
   ]
  },
  {
   "cell_type": "code",
   "execution_count": 12,
   "id": "43842b0b-c809-43eb-855e-3fd0de642fd0",
   "metadata": {},
   "outputs": [
    {
     "data": {
      "text/plain": [
       "(10000,)"
      ]
     },
     "execution_count": 12,
     "metadata": {},
     "output_type": "execute_result"
    }
   ],
   "source": [
    "y_test.shape"
   ]
  },
  {
   "cell_type": "code",
   "execution_count": 13,
   "id": "e66335ac-937d-4b0a-9147-903261aca492",
   "metadata": {},
   "outputs": [],
   "source": [
    "layer_size = 1\n",
    "input_shape = X.shape\n",
    "dropout_rates = [1.0]\n",
    "layers = [128]\n",
    "output_labels = ['mnist']\n",
    "y = {'mnist': y_train}\n",
    "output_activations = {'mnist':'softmax'}\n",
    "activations = ['relu']\n",
    "output_heads = [10]"
   ]
  },
  {
   "cell_type": "code",
   "execution_count": 14,
   "id": "e8ee5152-fede-4528-93ef-13604620368f",
   "metadata": {},
   "outputs": [
    {
     "name": "stdout",
     "output_type": "stream",
     "text": [
      "Layers ............... Trainable Params\n",
      "Dense1 ............... 100480\n",
      "Dense2 ............... 1290\n",
      "Total  ............... 101770\n",
      "Memory ............... 814160 bytes (795 KB) (0.776 MB)\n"
     ]
    }
   ],
   "source": [
    "model = Model(input_shape, layers, activations, dropout_rates,\n",
    "              output_heads=output_heads,output_labels=output_labels,\n",
    "              output_activations=output_activations)"
   ]
  },
  {
   "cell_type": "code",
   "execution_count": 15,
   "id": "6988e1bc-20e4-4a5c-a345-8fa13859268b",
   "metadata": {},
   "outputs": [],
   "source": [
    "learning_rate = 1e-2\n",
    "decay=False\n",
    "normalized = False\n",
    "bias = False\n",
    "batch_size = 1000\n",
    "optimizer = 'adam'"
   ]
  },
  {
   "cell_type": "code",
   "execution_count": 16,
   "id": "4115252e-1f7e-4260-8858-bc7ef3f6de54",
   "metadata": {},
   "outputs": [],
   "source": [
    "model.fit(X, y,\n",
    "          learning_rate=learning_rate, epochs=12,\n",
    "          normalized=normalized,\n",
    "            optimizer=optimizer, decay=decay, bias=bias, batch_size=batch_size, verbose=False)"
   ]
  },
  {
   "cell_type": "code",
   "execution_count": 17,
   "id": "7d161621-24ac-49c9-82b6-cb491b005f95",
   "metadata": {},
   "outputs": [],
   "source": [
    "predictions = model.predict(X_test, batch_size)\n",
    "predictions = predictions['mnist']\n",
    "predictions = np.argmax(predictions, axis=0)"
   ]
  },
  {
   "cell_type": "code",
   "execution_count": 18,
   "id": "aad0400f-923b-49f4-825d-4f58a36d7ecd",
   "metadata": {},
   "outputs": [
    {
     "data": {
      "text/plain": [
       "(10000,)"
      ]
     },
     "execution_count": 18,
     "metadata": {},
     "output_type": "execute_result"
    }
   ],
   "source": [
    "predictions.shape"
   ]
  },
  {
   "cell_type": "code",
   "execution_count": 19,
   "id": "61803a91-cbc2-48be-8dcd-563caaefa049",
   "metadata": {},
   "outputs": [
    {
     "data": {
      "text/plain": [
       "(10000,)"
      ]
     },
     "execution_count": 19,
     "metadata": {},
     "output_type": "execute_result"
    }
   ],
   "source": [
    "predictions.shape"
   ]
  },
  {
   "cell_type": "code",
   "execution_count": 20,
   "id": "7e2d84cd-7b5a-4d45-8cb8-5cb416449185",
   "metadata": {},
   "outputs": [
    {
     "data": {
      "text/plain": [
       "0.9621"
      ]
     },
     "execution_count": 20,
     "metadata": {},
     "output_type": "execute_result"
    }
   ],
   "source": [
    "accuracy_score(y_test, predictions)"
   ]
  },
  {
   "cell_type": "code",
   "execution_count": 21,
   "id": "08794e6d-ab78-44e4-b73a-72d1a0c91c4c",
   "metadata": {},
   "outputs": [
    {
     "data": {
      "text/plain": [
       "(132,)"
      ]
     },
     "execution_count": 21,
     "metadata": {},
     "output_type": "execute_result"
    }
   ],
   "source": [
    "costs = np.array(model.costs)\n",
    "costs.shape"
   ]
  },
  {
   "cell_type": "code",
   "execution_count": 22,
   "id": "5bbc7e0b-7811-4a90-b028-5b94d800ad07",
   "metadata": {},
   "outputs": [],
   "source": [
    "# plt.plot(np.arange(len(model.iterations)), costs)\n",
    "# plt.title('The plot of cost against the iterations')\n",
    "# plt.xlabel('iterations')\n",
    "# plt.ylabel('Cost')\n",
    "# plt.show();"
   ]
  },
  {
   "cell_type": "code",
   "execution_count": 23,
   "id": "7037d391-b57d-47f9-b44b-0ced60cb1ed4",
   "metadata": {},
   "outputs": [],
   "source": [
    "predictions = model.predict(X, batch_size)\n",
    "predictions = predictions['mnist']\n",
    "predictions = np.argmax(predictions, axis=0)"
   ]
  },
  {
   "cell_type": "code",
   "execution_count": 24,
   "id": "4ddc0157-42dd-4289-a6db-f7e471a6f882",
   "metadata": {},
   "outputs": [
    {
     "data": {
      "text/plain": [
       "0.9729166666666667"
      ]
     },
     "execution_count": 24,
     "metadata": {},
     "output_type": "execute_result"
    }
   ],
   "source": [
    "accuracy_score(train_y, predictions)"
   ]
  },
  {
   "cell_type": "code",
   "execution_count": null,
   "id": "3a986653-91bd-48a4-bd5d-0225a3448adc",
   "metadata": {},
   "outputs": [],
   "source": []
  }
 ],
 "metadata": {
  "kernelspec": {
   "display_name": "Python 3 (ipykernel)",
   "language": "python",
   "name": "python3"
  },
  "language_info": {
   "codemirror_mode": {
    "name": "ipython",
    "version": 3
   },
   "file_extension": ".py",
   "mimetype": "text/x-python",
   "name": "python",
   "nbconvert_exporter": "python",
   "pygments_lexer": "ipython3",
   "version": "3.11.7"
  }
 },
 "nbformat": 4,
 "nbformat_minor": 5
}
