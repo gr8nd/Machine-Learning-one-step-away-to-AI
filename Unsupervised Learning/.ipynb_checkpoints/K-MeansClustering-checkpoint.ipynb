{
 "cells": [
  {
   "cell_type": "code",
   "execution_count": 14,
   "id": "a28dd35d-0595-4a3d-b885-2593e350fed0",
   "metadata": {},
   "outputs": [],
   "source": [
    "\"\"\"@author Okorie Ndubuisi February 2025\"\"\"\n",
    "import numpy as np\n",
    "import matplotlib.pyplot as plt\n",
    "import seaborn as sns\n",
    "import pandas as pd\n",
    "sns.set()"
   ]
  },
  {
   "cell_type": "markdown",
   "id": "839b9aaa-83ee-4e1d-9f7f-c71061e44b18",
   "metadata": {},
   "source": [
    "1 - Implementing K-means\n",
    "The K-means algorithm is a method to automatically cluster similar data points together.\n",
    "\n",
    "Concretely, you are given a training set \n",
    ", and you want to group the data into a few cohesive “clusters”.\n",
    "\n",
    "K-means is an iterative procedure that\n",
    "\n",
    "Starts by guessing the initial centroids, and then\n",
    "Refines this guess by\n",
    "Repeatedly assigning examples to their closest centroids, and then\n",
    "Recomputing the centroids based on the assignments.\n",
    "In pseudocode, the K-means algorithm is as follows:\n",
    "\n",
    "# Initialize centroids\n",
    "# K is the number of clusters\n",
    "centroids = kMeans_init_centroids(X, K)\n",
    "\n",
    "for iter in range(iterations):\n",
    "    # Cluster assignment step: \n",
    "    # Assign each data point to the closest centroid. \n",
    "    # idx[i] corresponds to the index of the centroid \n",
    "    # assigned to example i\n",
    "    idx = find_closest_centroids(X, centroids)\n",
    "\n",
    "    # Move centroid step: \n",
    "    # Compute means based on centroid assignments\n",
    "    centroids = compute_centroids(X, idx, K)\n",
    "The inner-loop of the algorithm repeatedly carries out two steps:\n",
    "\n",
    "Assigning each training example \n",
    " to its closest centroid, and\n",
    "Recomputing the mean of each centroid using the points assigned to it.\n",
    "The \n",
    "-means algorithm will always converge to some final set of means for the centroids.\n",
    "\n",
    "However, the converged solution may not always be ideal and depends on the initial setting of the centroids.\n",
    "\n",
    "Therefore, in practice the K-means algorithm is usually run a few times with different random initializations.\n",
    "One way to choose between these different solutions from different random initializations is to choose the one with the lowest cost function value (distortion)."
   ]
  },
  {
   "cell_type": "code",
   "execution_count": 15,
   "id": "fd1836c8-6023-4b75-bfc9-462e8391744a",
   "metadata": {},
   "outputs": [],
   "source": [
    "def find_closest_centroids(X, centroids):\n",
    "    \"\"\"\n",
    "    Computes the centroid memberships for every example\n",
    "    \n",
    "    Args:\n",
    "        X (ndarray): (m, n) Input values      \n",
    "        centroids (ndarray): (K, n) centroids\n",
    "    \n",
    "    Returns:\n",
    "        idx (array_like): (m,) closest centroids\n",
    "    \n",
    "    \"\"\"\n",
    "\n",
    "    # Set K\n",
    "    K = centroids.shape[0]\n",
    "\n",
    "    idx = np.zeros(X.shape[0], dtype=int)\n",
    "\n",
    "    for i in range(X.shape[0]):\n",
    "        distance = []\n",
    "        for j in range(K):\n",
    "            norm_ij  = np.linalg.norm(X[i] - centroids[j], ord=2)\n",
    "            distance.append(norm_ij)\n",
    "        idx[i] = np.argmin(np.array(distance))\n",
    "    \n",
    "    return idx"
   ]
  },
  {
   "cell_type": "code",
   "execution_count": 16,
   "id": "8f0ddf07-5c64-4313-98e1-9e5bc8694c29",
   "metadata": {},
   "outputs": [],
   "source": [
    "def compute_centroids(X, idx, K):\n",
    "    \"\"\"\n",
    "    Returns the new centroids by computing the means of the \n",
    "    data points assigned to each centroid.\n",
    "    \n",
    "    Args:\n",
    "        X (ndarray):   (m, n) Data points\n",
    "        idx (ndarray): (m,) Array containing index of closest centroid for each \n",
    "                       example in X. Concretely, idx[i] contains the index of \n",
    "                       the centroid closest to example i\n",
    "        K (int):       number of centroids\n",
    "    \n",
    "    Returns:\n",
    "        centroids (ndarray): (K, n) New centroids computed\n",
    "    \"\"\"\n",
    "    \n",
    "    # Useful variables\n",
    "    m, n = X.shape\n",
    "\n",
    "    centroids = np.zeros((K, n))\n",
    "    \n",
    "    for i in range(K): # i runs 0,1,...,K-1\n",
    "        xi_sum = 0\n",
    "        counter = 0 #the counter of the number of elements we have added to xi_sum\n",
    "        for xi, index in zip(X, idx):\n",
    "            if index == i: #if we find an index from idx that is equal to our current i value,\n",
    "                       #we add the its corresponding value xi which is in X to xi_sum\n",
    "                xi_sum += xi\n",
    "                counter += 1 #we count the number of elements we have added to the sum xi_sum\n",
    "        centroid = xi_sum / counter #We found a new centroid\n",
    "        centroids[i] = centroid #We add the new centroid to our centroids array \n",
    "    \n",
    "    return centroids"
   ]
  },
  {
   "cell_type": "code",
   "execution_count": 17,
   "id": "1d1584c6-b3a8-47a3-9cff-9b6250db7e4c",
   "metadata": {},
   "outputs": [],
   "source": [
    "def run_kMeans(X, initial_centroids, max_iters=10):\n",
    "    \"\"\"\n",
    "    Runs the K-Means algorithm on data matrix X, where each row of X\n",
    "    is a single example\n",
    "    \"\"\"\n",
    "    \n",
    "    # Initialize values\n",
    "    m, n = X.shape\n",
    "    K = initial_centroids.shape[0]\n",
    "    centroids = initial_centroids \n",
    "    idx = np.zeros(m)\n",
    "\n",
    "    # Run K-Means\n",
    "    for i in range(max_iters):\n",
    "        \n",
    "        #Output progress\n",
    "        print(\"K-Means iteration %d/%d\" % (i, max_iters-1))\n",
    "        \n",
    "        # For each example in X, assign it to the closest centroid\n",
    "        idx = find_closest_centroids(X, centroids)\n",
    "            \n",
    "        # Given the memberships, compute new centroids\n",
    "        centroids = compute_centroids(X, idx, K)\n",
    "    return centroids, idx"
   ]
  },
  {
   "cell_type": "code",
   "execution_count": 19,
   "id": "38e836b5-a269-4249-9bc9-b5d742b3514f",
   "metadata": {},
   "outputs": [],
   "source": [
    "def kMeans_init_centroids(X, K):\n",
    "    \"\"\"\n",
    "    This function initializes K centroids that are to be \n",
    "    used in K-Means on the dataset X\n",
    "    \n",
    "    Args:\n",
    "        X (ndarray): Data points \n",
    "        K (int):     number of centroids/clusters\n",
    "    \n",
    "    Returns:\n",
    "        centroids (ndarray): Initialized centroids\n",
    "    \"\"\"\n",
    "    \n",
    "    # Randomly reorder the indices of examples\n",
    "    randidx = np.random.permutation(X.shape[0])\n",
    "    \n",
    "    # Take the first K examples as centroids\n",
    "    centroids = X[randidx[:K]]\n",
    "    \n",
    "    return centroids"
   ]
  },
  {
   "cell_type": "code",
   "execution_count": 3,
   "id": "6c0f3ff6-a826-493e-a40c-4655fd6424e6",
   "metadata": {},
   "outputs": [],
   "source": [
    "np.random.seed(42)\n",
    "X = np.random.random(size=(300, 2)) * 10"
   ]
  },
  {
   "cell_type": "code",
   "execution_count": 4,
   "id": "d0410fb1-6523-484d-8de5-61e8d71d80da",
   "metadata": {},
   "outputs": [
    {
     "name": "stdout",
     "output_type": "stream",
     "text": [
      "First five elements of X are:\n",
      " [[3.74540119 9.50714306]\n",
      " [7.31993942 5.98658484]\n",
      " [1.5601864  1.5599452 ]\n",
      " [0.58083612 8.66176146]\n",
      " [6.01115012 7.08072578]]\n",
      "The shape of X is: (300, 2)\n"
     ]
    }
   ],
   "source": [
    "print(\"First five elements of X are:\\n\", X[:5]) \n",
    "print('The shape of X is:', X.shape)"
   ]
  },
  {
   "cell_type": "code",
   "execution_count": 5,
   "id": "cb86165a-e23d-49f2-b0eb-41d2260c5396",
   "metadata": {},
   "outputs": [
    {
     "name": "stdout",
     "output_type": "stream",
     "text": [
      "First three elements in idx are: [2 2 0]\n"
     ]
    }
   ],
   "source": [
    "# Select an initial set of centroids (3 Centroids)\n",
    "initial_centroids = np.array([[3,3], [6,2], [8,5]])\n",
    "\n",
    "# Find closest centroids using initial_centroids\n",
    "idx = find_closest_centroids(X, initial_centroids)\n",
    "\n",
    "# Print closest centroids for the first three elements\n",
    "print(\"First three elements in idx are:\", idx[:3])"
   ]
  },
  {
   "cell_type": "code",
   "execution_count": 7,
   "id": "b0a7b80d-6987-4f88-8f8a-5711d206872b",
   "metadata": {},
   "outputs": [
    {
     "name": "stdout",
     "output_type": "stream",
     "text": [
      "The centroids are: [[2.05581538 4.83551076]\n",
      " [6.47063869 1.70611726]\n",
      " [7.59692144 6.76507558]]\n"
     ]
    }
   ],
   "source": [
    "K = 3\n",
    "centroids = compute_centroids(X, idx, K)\n",
    "\n",
    "print(\"The centroids are:\", centroids)"
   ]
  },
  {
   "cell_type": "code",
   "execution_count": 10,
   "id": "eb866989-9fb0-4467-a2ee-eb79e2dcef71",
   "metadata": {},
   "outputs": [
    {
     "name": "stdout",
     "output_type": "stream",
     "text": [
      "K-Means iteration 0/9\n",
      "K-Means iteration 1/9\n",
      "K-Means iteration 2/9\n",
      "K-Means iteration 3/9\n",
      "K-Means iteration 4/9\n",
      "K-Means iteration 5/9\n",
      "K-Means iteration 6/9\n",
      "K-Means iteration 7/9\n",
      "K-Means iteration 8/9\n",
      "K-Means iteration 9/9\n"
     ]
    }
   ],
   "source": [
    "# Set initial centroids\n",
    "initial_centroids = np.array([[3,3],[6,2],[8,5]])\n",
    "\n",
    "# Number of iterations\n",
    "max_iters = 10\n",
    "\n",
    "# Run K-Means\n",
    "centroids, idx = run_kMeans(X, initial_centroids, max_iters)"
   ]
  },
  {
   "cell_type": "code",
   "execution_count": 13,
   "id": "749ce986-2a0c-42a0-ab91-c430e364547c",
   "metadata": {},
   "outputs": [
    {
     "name": "stdout",
     "output_type": "stream",
     "text": [
      "K-Means iteration 0/9\n",
      "K-Means iteration 1/9\n",
      "K-Means iteration 2/9\n",
      "K-Means iteration 3/9\n",
      "K-Means iteration 4/9\n",
      "K-Means iteration 5/9\n",
      "K-Means iteration 6/9\n",
      "K-Means iteration 7/9\n",
      "K-Means iteration 8/9\n",
      "K-Means iteration 9/9\n",
      "[[7.97688112 6.61762964]\n",
      " [4.3693288  1.87281895]\n",
      " [2.10479081 7.15382733]]\n"
     ]
    }
   ],
   "source": [
    "# Run this cell repeatedly to see different outcomes.\n",
    "\n",
    "# Set number of centroids and max number of iterations\n",
    "K = 3\n",
    "max_iters = 10\n",
    "\n",
    "# Set initial centroids by picking random examples from the dataset\n",
    "initial_centroids = kMeans_init_centroids(X, K)\n",
    "\n",
    "# Run K-Means\n",
    "centroids, idx = run_kMeans(X, initial_centroids, max_iters)\n",
    "print(centroids)"
   ]
  },
  {
   "cell_type": "code",
   "execution_count": null,
   "id": "c32494ca-1b25-4284-a030-d9963de2ff85",
   "metadata": {},
   "outputs": [],
   "source": []
  }
 ],
 "metadata": {
  "kernelspec": {
   "display_name": "Python 3 (ipykernel)",
   "language": "python",
   "name": "python3"
  },
  "language_info": {
   "codemirror_mode": {
    "name": "ipython",
    "version": 3
   },
   "file_extension": ".py",
   "mimetype": "text/x-python",
   "name": "python",
   "nbconvert_exporter": "python",
   "pygments_lexer": "ipython3",
   "version": "3.11.7"
  }
 },
 "nbformat": 4,
 "nbformat_minor": 5
}
